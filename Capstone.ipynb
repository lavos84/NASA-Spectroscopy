{
 "cells": [
  {
   "cell_type": "markdown",
   "metadata": {},
   "source": [
    "# Libraries"
   ]
  },
  {
   "cell_type": "code",
   "execution_count": 1,
   "metadata": {
    "ExecuteTime": {
     "end_time": "2019-11-29T23:24:48.730690Z",
     "start_time": "2019-11-29T23:24:45.897498Z"
    },
    "scrolled": true
   },
   "outputs": [
    {
     "name": "stdout",
     "output_type": "stream",
     "text": [
      "gzip was not found on your system! You should solve this issue for astroquery.eso to be at its best!\n",
      "On POSIX system: make sure gzip is installed and in your path!On Windows: same for 7-zip (http://www.7-zip.org)!\n"
     ]
    }
   ],
   "source": [
    "import numpy as np\n",
    "import matplotlib.pyplot as plt\n",
    "import os.path\n",
    "import pandas as pd\n",
    "from astroquery.splatalogue import Splatalogue  # We must acknowledge authors for use of this library\n",
    "from astropy import units as u\n",
    "from SpectralQuery import SpectralQuery\n",
    "import pickle\n",
    "import ipywidgets as widgets\n",
    "from IPython.display import display\n",
    "%matplotlib inline"
   ]
  },
  {
   "cell_type": "markdown",
   "metadata": {},
   "source": [
    "# Data\n",
    "The data comes from 4 text files.  Each file contains 2 columns of data, _frequency_ and _flux_.  This will get stored in a list so that we can access them one by one.\n",
    "\n",
    "A np.array representing all data sets will also be available.  The units here are converted to MHz for consistency with return results from Splatalogue, CDMS, and JPL databases.  We also identify the min and max frequency of each data set here since the data may not be continuous across every file.\n",
    "\n",
    "At various points during development, files will be written to the local hard drive in order to reduce processing time on subsequent runs of this notebook.  The all_molecules.csv file contains the information necessary to skip the `find_molecules` function.  The spectral_lines.pkl file contains the CDMS and JPL database entries for each molecule of interest and once read in, allows us to skip the portion of code that generates it (~10 minutes of processing).  The spectral_complete.pkl file contains all information necessary for analysis to proceed."
   ]
  },
  {
   "cell_type": "code",
   "execution_count": 2,
   "metadata": {
    "ExecuteTime": {
     "end_time": "2019-11-29T23:24:48.989760Z",
     "start_time": "2019-11-29T23:24:48.733689Z"
    },
    "code_folding": []
   },
   "outputs": [
    {
     "name": "stdout",
     "output_type": "stream",
     "text": [
      "\n",
      "--- Reading in data ---\n",
      "--- Complete ---\n",
      "\n"
     ]
    }
   ],
   "source": [
    "# read in the data\n",
    "print(\"\\n--- Reading in data ---\")\n",
    "filenames = [\"./Data/Win0.clean1.contsub_Jy.rest.scom.c.txt\",\n",
    "             \"./Data/Win1.clean1.contsub_Jy.rest.scom.c.txt\",\n",
    "             \"./Data/Win2.clean1.contsub_Jy.rest.scom.c.txt\",\n",
    "             \"./Data/Win3.clean1.contsub_Jy.rest.scom.c.txt\"]\n",
    "# 'data' will be a 4 element list, with each element representing the data from 1 text file\n",
    "data = [np.loadtxt(f) for f in filenames]\n",
    "full_data = np.concatenate(data)  # One giant numpy array containing all the data\n",
    "full_data[:,0] = np.round(full_data[:,0] * 1000, 5)  # Frequences in MHz rounded to 5 decimal places\n",
    "# Create empty lists for the min and max frequency of the data\n",
    "min_freqs = []\n",
    "max_freqs = []    \n",
    "# Determine the min and max frequency (in MHz) in each dataset    \n",
    "for dataset in data:\n",
    "    # Each dataset provided has a different min and max frequency.  We need to find them all.\n",
    "    min_freqs.append(dataset[0][0] * 1000)\n",
    "    max_freqs.append(dataset[-1][0] * 1000)\n",
    "generate_plot = True\n",
    "print(\"--- Complete ---\\n\")\n",
    "\n",
    "# Read in all_molecules if it exists\n",
    "if os.path.isfile('./Data/all_molecules.csv'):\n",
    "    print(\"\\n--- Loading in all_molecules ---\")\n",
    "    all_molecules = pd.read_csv('./Data/all_molecules.csv', header = 0, index_col = 0).to_dict(orient = \"index\")\n",
    "    generate_plot = False   # Whether or not to generate the plot\n",
    "    all_molecules_loaded = True    # Whether or not this dictionary was loaded in from a csv\n",
    "    print(\"--- Complete ---\\n\")\n",
    "else:\n",
    "    all_molecules_loaded = False\n",
    "\n",
    "# read in spectral_lines if it exists   \n",
    "if os.path.isfile('./Data/spectral_lines.pkl'):\n",
    "    print(\"\\n--- Loading in spectral_lines ---\")\n",
    "    with open('./Data/spectral_lines.pkl', 'rb') as file:\n",
    "        spectral_lines = pickle.load(file)\n",
    "    spectral_lines = {key: pd.DataFrame.from_dict(value, dtype = np.float64) for key, value in spectral_lines.items()}\n",
    "    print(\"--- Complete ---\\n\")\n",
    "\n",
    "# read in spectral_complete if it exists   \n",
    "if os.path.isfile('./Data/spectral_complete.pkl'):\n",
    "    print(\"\\n--- Loading in spectral_complete ---\")\n",
    "    with open('./Data/spectral_complete.pkl', 'rb') as file:\n",
    "        spectral_complete = pickle.load(file)\n",
    "    spectral_complete = {key: pd.DataFrame.from_dict(value).astype({\"frequency\": np.float64, \n",
    "                                                                    \"uncertainty\": np.float64,\n",
    "                                                                    \"intensity\": np.float64,\n",
    "                                                                    \"closest\": np.float64,\n",
    "                                                                    \"acceptable\": bool,\n",
    "                                                                    \"flux\": np.float64,\n",
    "                                                                    \"spike\": bool}) for key, value in spectral_complete.items()}\n",
    "    print(\"--- Complete ---\\n\")"
   ]
  },
  {
   "cell_type": "markdown",
   "metadata": {},
   "source": [
    "## Functions"
   ]
  },
  {
   "cell_type": "markdown",
   "metadata": {},
   "source": [
    "### create_plot()\n",
    "This function will generate a figure with 4 axes and produce a plot of the frequency versus flux of the raw data.  It will then return the figure and handle to those axes."
   ]
  },
  {
   "cell_type": "code",
   "execution_count": 3,
   "metadata": {
    "ExecuteTime": {
     "end_time": "2019-11-29T23:24:49.006764Z",
     "start_time": "2019-11-29T23:24:48.992760Z"
    },
    "code_folding": []
   },
   "outputs": [],
   "source": [
    "def create_plot():\n",
    "    \"\"\" Recreate the plot from Cordiner et. al. 2015, Figure 1 \"\"\"\n",
    "    # Defining the figure might need more finess if there are more than 4 datasets\n",
    "    # We need to consult a domain expert to learn if ALMA data always comes back with 4 datasets\n",
    "    fig, axs = plt.subplots(2, 2, figsize = (10, 6))\n",
    "    for index, ax in enumerate(axs.flat):\n",
    "        # Plot each data set\n",
    "        ax.plot(data[index][:,0],\n",
    "                data[index][:,1],\n",
    "                linewidth = 0.25)\n",
    "        ax.set(ylabel = \"Flux (Jy)\")\n",
    "        ax.set(xlabel = \"Frequency (GHz)\")\n",
    "        # Clean up the xticks\n",
    "        ax.set_xticks(np.arange(round(data[index][0,0], 1), round(data[index][-1,0], 1), step = 0.5))\n",
    "        # Remove the space from the borders of the plot along the X axis\n",
    "        ax.autoscale(enable = True, axis = 'x', tight = True)\n",
    "    # Add some space between the plots\n",
    "    plt.subplots_adjust(hspace = .3, wspace = .3)\n",
    "    return fig, axs"
   ]
  },
  {
   "cell_type": "markdown",
   "metadata": {},
   "source": [
    "### add_lines(id, molecules)\n",
    "This function adds dashed lines to a specified axis (`id`) at every frequency passed in by `molecules`.  `molecules` is a dictionary whose keys are the _frequencies_ above the 3$\\sigma$ threshold and whose values are the _Chemical names_ of molecules that have a spectral line at that frequency, and also their _Molecule Tag_.  So each frequency will have a dictionary inside it with keys _Chemical Name_ and _Molecule Tag_ with values pulled from the results of a Splatalogue query."
   ]
  },
  {
   "cell_type": "code",
   "execution_count": 4,
   "metadata": {
    "ExecuteTime": {
     "end_time": "2019-11-29T23:24:49.100761Z",
     "start_time": "2019-11-29T23:24:49.009759Z"
    },
    "code_folding": []
   },
   "outputs": [],
   "source": [
    "def add_lines(id, molecules):\n",
    "    \"\"\"This function will add dashed lines to the plot where molecules were detected\"\"\"\n",
    "    for freq in molecules.keys():\n",
    "        axs[id].axvline(x = float(freq),\n",
    "                        ymin = 0,\n",
    "                        ymax = 1,\n",
    "                        dashes = [18, 6],\n",
    "                        linewidth = 0.25,\n",
    "                        color = \"gray\",\n",
    "                        alpha = 0.5)"
   ]
  },
  {
   "cell_type": "markdown",
   "metadata": {},
   "source": [
    "### find_molecules(all_molecules)\n",
    "This function constructs 2 dictionaries.  The first dictionary created is `molecules.`  `molecules` is a dictionary whose keys are the _frequencies_ above the 3$\\sigma$ threshold and whose values are the _Chemical names_ of molecules that have a spectral line at that frequency, and also their _Molecule Tag_.  So each frequency will have a dictionary inside it with keys _Chemical Name_ and _Molecule Tag_ with values pulled from the results of a Splatalogue query.  `molecules` is unique to each axis on the figure.  That is, since there are 4 axes on the figure, `molecules` gets generated 4 times.  Each time those frequencies get passed to `add_lines(id, molecules)` along with the `id` of the axis that it is meant for.\n",
    "\n",
    "The second dictionary is a global dictionary, `all_molecules`.  This dictionary's keys are the unique _Chemical Names_ identified from all 4 generations of the `molecules` dictionary.  The values are another dictionary with keys _Occurances_, _Molecule Tag_, and _Linelist_ whose values are the frequencies of spectral emissions this molecule was found at in the data, the molecule tag number, and the linelist representing what database the data was pulled from, respectively.\n",
    "\n",
    "The `molecules` dictionary is generated by first identifying all frequencies where the flux exceeds the 3$\\sigma$ threshold (where a flux value is greater than 3 standard deviations away from the mean).  Then, for each frequency that meets this criteria, a query to the Splatalogue API is made at that frequency $\\pm$ the telescope's channel spacing over 2 (488kHz / 2 = 244KHz).  If the query returns any results, they are added to the `molecules` and `all_molecules` dictionarys."
   ]
  },
  {
   "cell_type": "code",
   "execution_count": 5,
   "metadata": {
    "ExecuteTime": {
     "end_time": "2019-11-29T23:24:49.219689Z",
     "start_time": "2019-11-29T23:24:49.103762Z"
    },
    "code_folding": []
   },
   "outputs": [],
   "source": [
    "def find_molecules(all_molecules):\n",
    "    \"\"\" Classify the molecules from their frequency for each dataset \"\"\"\n",
    "    for id, dataset in enumerate(data):\n",
    "        # Determine the standard deviation of the data with signals removed\n",
    "        # --- WE COULD INCORPORATE THE WORKS OF https://iopscience.iop.org/article/10.1086/679285/pdf HERE!!! ---\n",
    "        moch_data = dataset.copy()\n",
    "        moch_data[np.where( moch_data[:, 1] >= 5 * np.std(moch_data[:, 1])), 1] = 0  # 0's fluxs >= 5 stddevs\n",
    "        # Locate the indices where the flux is greater than 3 standard deviations\n",
    "        # There are 4 datasets.  Column 0 is the frequency, column 1 is the flux\n",
    "        # Splatalogue appears to be accurate up to 5 decimal places\n",
    "        molecules = {}  # An empty dictionary to store the results of each detected molecule and rest frequency\n",
    "        channel_spacing = dataset[1][0] - dataset[0][0] # +/- when searching frequencies\n",
    "        frequencies = np.round(dataset[np.where( dataset[:, 1] >= 3 * np.std(moch_data[:, 1])), 0], 5)[0]\n",
    "        for freq in frequencies:\n",
    "            # Query Splatalogue at each frequency +/- delta using the CDMS and JPL databases\n",
    "            results = Splatalogue.query_lines( (freq - channel_spacing / 2)*u.GHz, \n",
    "                                               (freq + channel_spacing / 2)*u.GHz,\n",
    "                                                show_molecule_tag = True,\n",
    "                                                top20 = 'planet',\n",
    "                                                line_lists = ['CDMS', 'JPL'],\n",
    "                                                line_strengths = 'ls1')\n",
    "            # Append the chemical names corresponding to the searched frequency.\n",
    "            if len(results) > 0:\n",
    "                molecules[freq] = {\"Chemical Name\": results[\"Chemical Name\"].tolist(),\n",
    "                                   \"Molecule Tag\": results[\"Molecule<br>Tag\"].tolist()}\n",
    "            else:\n",
    "                molecules[freq] = {\"Chemical Name\": \"Unknown\",\n",
    "                                   \"Molecule Tag\": None}\n",
    "        \n",
    "            # Append the chemical name and frequency to the dictionary of all molecules found\n",
    "            if len(results) > 0:\n",
    "                for i, molecule in enumerate(results[\"Chemical Name\"].tolist()):\n",
    "                    if molecule in all_molecules.keys():\n",
    "                        # This check removes the possibility of duplicate frequencies\n",
    "                        if freq not in all_molecules[molecule][\"Occurances\"]:\n",
    "                            all_molecules[molecule][\"Occurances\"].append(freq)\n",
    "                    else:\n",
    "                        # Add leading 0's to the Molecule Tag if it's less than 6 characters\n",
    "                        molecule_tag = \"0\" + str(results[\"Molecule<br>Tag\"][i]) if len(str(results[\"Molecule<br>Tag\"][i])) < 6 else str(results[\"Molecule<br>Tag\"][i])\n",
    "                        # You might find a '-' for the first character.  If so, change it to a 0\n",
    "                        if \"-\" in molecule_tag: molecule_tag = \"0\" + molecule_tag[1:]\n",
    "                        # The molecule is new.  Add its tag, linelist, and frequency to all_molecules\n",
    "                        all_molecules[molecule] = {\"Molecule Tag\": molecule_tag,\n",
    "                                                   \"Linelist\": results[\"Linelist\"][i],\n",
    "                                                   \"Occurances\": [freq]}\n",
    "            else:\n",
    "                # If the query returns no results, then we've found a significant emmission frequency with\n",
    "                # no known molecule associated with it.\n",
    "                if \"Unknown\" in all_molecules.keys():\n",
    "                    all_molecules[\"Unknown\"][\"Occurances\"].append(freq)\n",
    "                else:\n",
    "                    all_molecules[\"Unknown\"] = {\"Molecule Tag\": \"None\",\n",
    "                                                \"Linelist\": \"None\",\n",
    "                                                \"Occurances\": [freq]}\n",
    "        add_lines(id, molecules)\n",
    "    return all_molecules"
   ]
  },
  {
   "cell_type": "markdown",
   "metadata": {},
   "source": [
    "### pull_spectral_lines(spectral_lines)\n",
    "\n",
    "Once all the molecules that could be in the data have been identified, we can then query other databases (**CDMS** and **JPL**) to retrieve the complete set of every spectral line emmission frequency for each identified molecule.  To do this, we need to know what `molecule_tag` to search for along with the database (_linelist_) it came from.\n",
    "\n",
    "The `SpectralQuery` library will do exactly this.  By supplying the _linelist_ to a `SpectralQuery` class object, and the `molecule_tag`, it will scrape the spectral emmisssion data from the appropriate web page and store it in a pandas data frame.  Since we don't know exactly how many queries we'll need to make, and since the number of rows each query returns is also unknown, the results are best saved in a dictionary for further usage.  The global dictionary `spectral_lines` will be constructed with this function.  Its keys will be the _Chemical Names_ from `all_molecules`, and its values will be the results returned from `SpectralQuery.getSpectralLines()`."
   ]
  },
  {
   "cell_type": "code",
   "execution_count": 6,
   "metadata": {
    "ExecuteTime": {
     "end_time": "2019-11-29T23:24:49.343654Z",
     "start_time": "2019-11-29T23:24:49.221688Z"
    },
    "code_folding": []
   },
   "outputs": [],
   "source": [
    "def pull_spectral_lines(spectral_lines):\n",
    "    \"\"\"Scrapes the given database for the spectral lines emmitted by the molecule with the specified molecule_tag\"\"\"\n",
    "    print(\"Retrieving spectral line frequencies for molecules of interest...\")\n",
    "    for i, molecule in enumerate(all_molecules.keys()):\n",
    "        if round(i / len(all_molecules.keys()) * 100, 0) % 10 == 0:\n",
    "            print(\"{}% complete...\".format(round(i / len(all_molecules.keys()) * 100, 0)))\n",
    "        # Viable Linelist options are \"CDMS, JPL, or None.\"  If \"None\" (for \"Unknown\"), just pass\n",
    "        if all_molecules[molecule][\"Linelist\"] == \"CDMS\":\n",
    "            cdms.getSpectralLines(all_molecules[molecule][\"Molecule Tag\"])\n",
    "            spectral_lines[molecule] = cdms.lines\n",
    "        elif all_molecules[molecule][\"Linelist\"] == \"JPL\":\n",
    "            results = jpl.getSpectralLines(all_molecules[molecule][\"Molecule Tag\"])\n",
    "            spectral_lines[molecule] = jpl.lines\n",
    "        else:\n",
    "            continue\n",
    "    spectral_lines = {key: pd.DataFrame.from_dict(value, dtype = np.float64) for key, value in spectral_lines.items()}\n",
    "    return spectral_lines\n",
    "    print(\"100% complete...Done\\n\")"
   ]
  },
  {
   "cell_type": "markdown",
   "metadata": {},
   "source": [
    "## Generate Queries\n",
    "\n",
    "Run the functions necessary to generate all the data required."
   ]
  },
  {
   "cell_type": "code",
   "execution_count": 7,
   "metadata": {
    "ExecuteTime": {
     "end_time": "2019-11-29T23:32:16.988243Z",
     "start_time": "2019-11-29T23:24:49.345582Z"
    },
    "code_folding": [],
    "scrolled": false
   },
   "outputs": [
    {
     "name": "stdout",
     "output_type": "stream",
     "text": [
      "Parsing the Cologne Database for Molecular Spectroscopy...\n",
      "Done\n",
      "\n",
      "Parsing the Jet Propulsion Laboratory Molecular Spectroscopy Database...\n",
      "Done\n",
      "\n",
      "Retrieving spectral line frequencies for molecules of interest...\n",
      "0.0% complete...\n",
      "10.0% complete...\n",
      "20.0% complete...\n",
      "20.0% complete...\n",
      "30.0% complete...\n",
      "40.0% complete...\n",
      "50.0% complete...\n",
      "50.0% complete...\n",
      "60.0% complete...\n",
      "70.0% complete...\n",
      "80.0% complete...\n",
      "80.0% complete...\n",
      "90.0% complete...\n",
      "Done\n",
      "\n"
     ]
    },
    {
     "data": {
      "image/png": "[encoded data removed]",
      "text/plain": [
       "<Figure size 720x432 with 4 Axes>"
      ]
     },
     "metadata": {
      "needs_background": "light"
     },
     "output_type": "display_data"
    }
   ],
   "source": [
    "# Generte the plot if necessary\n",
    "if generate_plot:\n",
    "    fig, axs = create_plot()\n",
    "    axs = axs.flat\n",
    "\n",
    "# If all_molecules wasn't loaded in, generate and save it by running the find_molecules function\n",
    "if \"all_molecules\" not in locals():\n",
    "    all_molecules = {}  # This will store the molecule name and every frequency it is found at\n",
    "    all_molecules = find_molecules(all_molecules)\n",
    "    \n",
    "    # Save the all_molecules dictionary\n",
    "    pd.DataFrame.from_dict(all_molecules,\n",
    "                           columns = [\"Molecule Tag\",\n",
    "                                      \"Linelist\",\n",
    "                                      \"Occurances\"],\n",
    "                           orient = \"index\").to_csv(\"./Data/all_molecules.csv\")\n",
    "    \n",
    "# If spectral_lines wasn't loaded in, generate and save it by running the pull_spectral_lines function\n",
    "if \"spectral_lines\" not in locals():\n",
    "    # Define the dictionary 'spectral_lines'\n",
    "    spectral_lines = {}\n",
    "    # Scrape the CDMS Database content\n",
    "    print(\"Parsing the Cologne Database for Molecular Spectroscopy...\")\n",
    "    cdms = SpectralQuery(\"CDMS\")\n",
    "    print(\"Done\\n\")\n",
    "    # Scrape the JPL Database content\n",
    "    print(\"Parsing the Jet Propulsion Laboratory Molecular Spectroscopy Database...\")\n",
    "    jpl  = SpectralQuery(\"JPL\")\n",
    "    print(\"Done\\n\")\n",
    "    # Iterate through each molecule in all_molecules to pull all their emmission frequencies\n",
    "    spectral_lines = pull_spectral_lines(spectral_lines)\n",
    "    # Discard entries that are outside the bounds of our data [min_freq, max_freq]\n",
    "    all_spectral_lines = spectral_lines.copy()\n",
    "    # Save the spectral_lines dictionary\n",
    "    with open('./Data/spectral_lines.pkl', 'wb') as file:\n",
    "        pickle.dump(spectral_lines, file, protocol = pickle.HIGHEST_PROTOCOL)\n",
    "    print(\"Done\\n\")"
   ]
  },
  {
   "cell_type": "markdown",
   "metadata": {},
   "source": [
    "# Output"
   ]
  },
  {
   "cell_type": "markdown",
   "metadata": {
    "ExecuteTime": {
     "end_time": "2019-11-18T23:02:11.756741Z",
     "start_time": "2019-11-18T23:02:11.749741Z"
    }
   },
   "source": [
    "## View the Raw Data\n",
    "A plot of every data set on a single axis reveals if there are gaps if frequency between data sets"
   ]
  },
  {
   "cell_type": "code",
   "execution_count": 8,
   "metadata": {
    "ExecuteTime": {
     "end_time": "2019-11-29T23:32:17.416242Z",
     "start_time": "2019-11-29T23:32:16.992242Z"
    }
   },
   "outputs": [
    {
     "data": {
      "image/png": "[encoded data removed]",
      "text/plain": [
       "<Figure size 1080x648 with 1 Axes>"
      ]
     },
     "metadata": {
      "needs_background": "light"
     },
     "output_type": "display_data"
    }
   ],
   "source": [
    "fig2, ax2 = plt.subplots(figsize = (15, 9))\n",
    "# Plot the data\n",
    "ax2.plot(full_data[:, 0] / 1000,\n",
    "         full_data[:, 1],\n",
    "         linewidth = 0.25)\n",
    "ax2.set(title = \"Full Data Spectrum\")\n",
    "ax2.set(ylabel = \"Intensity (nm^2 MHz)\")\n",
    "ax2.set(xlabel = \"Frequency (GHz)\")\n",
    "ax2.title.set_size(24)\n",
    "ax2.yaxis.label.set_size(16)\n",
    "ax2.xaxis.label.set_size(16)\n",
    "ax2.autoscale(enable = True, axis = 'x', tight = True)"
   ]
  },
  {
   "cell_type": "markdown",
   "metadata": {},
   "source": [
    "## View all_molecules and Plot\n",
    "\n",
    "Simply change see_plot to True to see the plot, and see_all_molecules to True to see the dictionary of all molecules."
   ]
  },
  {
   "cell_type": "code",
   "execution_count": 9,
   "metadata": {
    "ExecuteTime": {
     "end_time": "2019-11-29T23:32:17.466243Z",
     "start_time": "2019-11-29T23:32:17.419244Z"
    },
    "code_folding": [],
    "scrolled": true
   },
   "outputs": [
    {
     "data": {
      "application/vnd.jupyter.widget-view+json": {
       "model_id": "906c94cba3d34395a7fbff71876625ba",
       "version_major": 2,
       "version_minor": 0
      },
      "text/plain": [
       "interactive(children=(Dropdown(description='Molecule:', options=('Bromine Dioxide', 'Vinylamine', \"1,2-propane…"
      ]
     },
     "metadata": {},
     "output_type": "display_data"
    }
   ],
   "source": [
    "# Specify output to show\n",
    "see_plot = False   # Whether or not to show the plot\n",
    "see_all_molecules = True  # Whether or not to view the all_molecules dictionary\n",
    "\n",
    "\n",
    "# Generate the plot \n",
    "if see_plot:\n",
    "    fig, axs = create_plot()\n",
    "    axs = axs.flat\n",
    "    new_plot = find_molecules({})\n",
    "\n",
    "# Output all_molecules in an easily readable table format.\n",
    "if see_all_molecules:\n",
    "    # Make a dropdown widget with each molecule name as an option\n",
    "    all_molecules_dropdown = widgets.Dropdown(\n",
    "        options = all_molecules.keys(),\n",
    "        description = 'Molecule:',\n",
    "        disabled = False,\n",
    "    )\n",
    "\n",
    "    # Define a function that displays the data for the chosen molecule\n",
    "    def show_all_molecules(molecule = list(all_molecules.keys())[0]):\n",
    "        molecule = all_molecules_dropdown.value\n",
    "        print(\"   Molecule Tag:\", all_molecules[molecule][\"Molecule Tag\"])\n",
    "        print(\"   Linelist:\", all_molecules[molecule][\"Linelist\"])\n",
    "        print(\"   Occurances:\\n  \", str(all_molecules[molecule][\"Occurances\"]).strip(\"[]\"))\n",
    "\n",
    "    # Make the widget interactive by having it call show_data every time the value changes\n",
    "    widgets.interact(show_all_molecules, molecule = all_molecules_dropdown)"
   ]
  },
  {
   "cell_type": "markdown",
   "metadata": {},
   "source": [
    "## Sample Output of spectral_lines\n",
    "To get an idea of how wide the frequency space is that a given molecule emits spectral lines at, let's examine Ethyl Cyanide from the Cordiner et al. 2015 paper.  By plotting all the frequencies and intensities obtained the JPL database, we can see where Ethyl Cyanide not only peaks, but also the fraction of that space captured by the ALMA telescope.\n",
    "\n",
    "**NOTE**: THIS CODE CHUNK TAKES APPROXIMATE 1.5 HOURS TO COMPLETE!  ONLY RUN IF NECESSARY!"
   ]
  },
  {
   "cell_type": "code",
   "execution_count": 10,
   "metadata": {
    "ExecuteTime": {
     "end_time": "2019-11-29T23:32:17.554242Z",
     "start_time": "2019-11-29T23:32:17.469245Z"
    },
    "scrolled": false
   },
   "outputs": [],
   "source": [
    "#import matplotlib.patches as patches\n",
    "#fig2, ax2 = plt.subplots(figsize = (15, 9))\n",
    "## Plot each data set\n",
    "#(markers, stemlines, baseline) = ax2.stem(all_spectral_lines[\"Ethyl Cyanide\"][\"frequency\"],\n",
    "#                                          10 ** all_spectral_lines[\"Ethyl Cyanide\"][\"intensity\"],\n",
    "#                                          markerfmt = \"none\")\n",
    "#plt.setp(stemlines, linestyle = \"-\", color = \"blue\", linewidth = 0.25 )\n",
    "#plt.setp(baseline, visible = False)\n",
    "#ax2.set(title = \"Ethyl Cyanide Spectral Emissions\")\n",
    "#ax2.set(ylabel = \"Intensity (nm^2 MHz)\")\n",
    "#ax2.set(xlabel = \"Frequency (MHz)\")\n",
    "#ax2.title.set_size(24)\n",
    "#ax2.yaxis.label.set_size(16)\n",
    "#ax2.xaxis.label.set_size(16)\n",
    "#rect = patches.Rectangle(xy = (min_freq, 0),\n",
    "#                         width = max_freq - min_freq, \n",
    "#                         height = ax2.get_ylim()[1], \n",
    "#                         fill = False,\n",
    "#                         color = 'red',\n",
    "#                         linewidth = 2)\n",
    "#ax2.add_patch(rect)\n",
    "#ax2.set_ylim(0, ax2.get_ylim()[1])\n",
    "#ax2.autoscale(enable = True, axis = 'x', tight = True)"
   ]
  },
  {
   "cell_type": "markdown",
   "metadata": {
    "ExecuteTime": {
     "end_time": "2019-11-07T22:21:28.760584Z",
     "start_time": "2019-11-07T22:21:28.752584Z"
    }
   },
   "source": [
    "# Analysis\n",
    "\n",
    "At this stage, we know all the possible molecules that _could_ be in the data, and we know all spectral line frequencies and intensities that those molecules emit at in the range of our data.  The next step is to classify whether or not a particular molecule is present in the data.\n",
    "\n",
    "One method is to examine how many of the strongest intensity spectral lines exceed the 3$\\sigma$ threshold in the data.  The more spectral lines there are that meet this criteria, the greater our confidence is that the molecule is present."
   ]
  },
  {
   "cell_type": "markdown",
   "metadata": {},
   "source": [
    "## Preprocessing"
   ]
  },
  {
   "cell_type": "code",
   "execution_count": 11,
   "metadata": {
    "ExecuteTime": {
     "end_time": "2019-11-29T23:32:20.160265Z",
     "start_time": "2019-11-29T23:32:17.556243Z"
    }
   },
   "outputs": [],
   "source": [
    "# Some frequencies in spectral_lines are duplicated.  Remove those first.\n",
    "for molecule in spectral_lines.keys():\n",
    "    spectral_lines[molecule] = spectral_lines[molecule].sort_values('frequency', ascending=False)\n",
    "    spectral_lines[molecule].drop_duplicates(subset = \"frequency\", keep = \"first\", inplace = True)\n",
    "    spectral_lines[molecule] = spectral_lines[molecule].sort_values(by = \"intensity\", ascending = False)"
   ]
  },
  {
   "cell_type": "markdown",
   "metadata": {
    "ExecuteTime": {
     "end_time": "2019-11-12T18:39:53.083355Z",
     "start_time": "2019-11-12T18:39:53.055353Z"
    }
   },
   "source": [
    "## Functions"
   ]
  },
  {
   "cell_type": "markdown",
   "metadata": {},
   "source": [
    "### closest_freq(spectral_frequencies, data_frequencies)\n",
    "\n",
    "The frequencies listed in `spectral_lines` frequency column may not match up exactly to the frequencies found in our data.  For that reason, we need to find the closest frequency in our input data to each frequency in the `spectral_lines` data.  That is, for every known spectral emission frequency in `spectral_lines`, there is a frequency bin in the input data that is _closest_ to it.\n",
    "\n",
    "An important thing to note about this function is that the units of data_frequencies and spectral_frequencies **must** match.  For this reason, `full_data` is already converted from GHz to MH."
   ]
  },
  {
   "cell_type": "code",
   "execution_count": 12,
   "metadata": {
    "ExecuteTime": {
     "end_time": "2019-11-29T23:32:20.170260Z",
     "start_time": "2019-11-29T23:32:20.162260Z"
    }
   },
   "outputs": [],
   "source": [
    "def closest_freq(spectral_frequencies, data_frequencies):\n",
    "    # Convert the pd.Series to a list\n",
    "    spectral_frequencies = spectral_frequencies.tolist()\n",
    "    # We'll also need an array of zeros to store the results\n",
    "    closest_ids = np.zeros(len(spectral_frequencies), dtype = int)\n",
    "    # Then, for each spectral frequency, find the frequency in the input data closest to it.\n",
    "    for i, freq in enumerate(spectral_frequencies):\n",
    "        # Take the absolute value of the data_frequencies - spectral_frequency\n",
    "        # This will generate an array of values.  The smallest value is the closest frequency\n",
    "        closest_ids[i] = (np.abs(data_frequencies - freq)).argmin()\n",
    "    # Finally, return the array of indices\n",
    "    return closest_ids"
   ]
  },
  {
   "cell_type": "markdown",
   "metadata": {},
   "source": [
    "### find_matches(spectral_lines)\n",
    "\n",
    "This function will add some columns to the pandas dataframe for each molecule.  The first column it adds is \"closest\" which represents the frequency in the input data that is closest to the frequency obtained from CDMS or JPL.  The next column is \"acceptable\" which returns True if the absolute value of the difference between \"closest\" and \"frequency\" is less than or equal to the \"uncertainty.\""
   ]
  },
  {
   "cell_type": "code",
   "execution_count": 13,
   "metadata": {
    "ExecuteTime": {
     "end_time": "2019-11-29T23:32:20.264276Z",
     "start_time": "2019-11-29T23:32:20.174261Z"
    },
    "scrolled": true
   },
   "outputs": [],
   "source": [
    "def find_matches(spectral_lines):\n",
    "    for molecule in spectral_lines.keys():\n",
    "        # bounds will contain the indices of spectral_lines where the data is within all the mins and maxs\n",
    "        # First, initialize bounds to have the indices of the data between the min and max of the first dataset\n",
    "        bounds = np.array(np.where( (spectral_lines[molecule][\"frequency\"] >= min_freqs[0]) &\n",
    "                                    (spectral_lines[molecule][\"frequency\"] <= max_freqs[0])  ) )\n",
    "        # Then append to it the indices of spectral_lines where the data is within the remaining mins and maxs\n",
    "        for idx in range(1, len(min_freqs)-1):\n",
    "            bounds = np.append(bounds, np.where( (spectral_lines[molecule][\"frequency\"] >= min_freqs[idx]) &\n",
    "                                                 (spectral_lines[molecule][\"frequency\"] <= max_freqs[idx])  ) )\n",
    "        # Finally, restrict spectral_lines to only those entries contained in bounds.\n",
    "        spectral_lines[molecule] = spectral_lines[molecule].iloc[bounds]\n",
    "        \n",
    "        # Find the indices of the closest frequencies to those in the CDMS/JPL data\n",
    "        closest_frequencies = closest_freq(spectral_lines[molecule][\"frequency\"], full_data[:, 0])\n",
    "        # Assign the frequency at the identified indices to a new column in spectral_lines\n",
    "        spectral_lines[molecule][\"closest\"] = full_data[closest_frequencies, 0]\n",
    "        # Make a column called \"acceptable\" to be True if the difference between \"closest\" and \"frequency\"\n",
    "        # is less than or equal to \"uncertainty\"\n",
    "        spectral_lines[molecule][\"acceptable\"] = True\n",
    "        spectral_lines[molecule][\"acceptable\"].iloc[np.where(np.abs(spectral_lines[molecule].closest - \n",
    "                                                          spectral_lines[molecule].frequency) > \n",
    "                                                   spectral_lines[molecule].uncertainty)] = False\n",
    "        # Copy the flux at each \"closest\" frequency\n",
    "        spectral_lines[molecule][\"flux\"] = full_data[closest_frequencies, 1]\n",
    "        # Make a column called \"spike\" that is true when the \"flux\" is greater than 3 sigma\n",
    "        spectral_lines[molecule][\"spike\"] = False\n",
    "        # Since each dataset has a different standard deviation, we need to account for that\n",
    "        for idx, dataset in enumerate(data):\n",
    "            # Remove signals greater than 5 sigma by setting them equal to 0\n",
    "            moch_data = dataset.copy()\n",
    "            moch_data[np.where( moch_data[:, 1] >= 5 * np.std(moch_data[:, 1])), 1] = 0  # 0's fluxs >= 5 stddevs\n",
    "            # For each data set, assign \"spike\" = True at each spike.  We can determine which dataset the index\n",
    "            # belongs to by examining the min and max frequency of each dataset.\n",
    "            spectral_lines[molecule][\"spike\"].iloc[\n",
    "                np.where( (spectral_lines[molecule].frequency >= min_freqs[idx]) &\n",
    "                          (spectral_lines[molecule].frequency <= max_freqs[idx]) &\n",
    "                          (spectral_lines[molecule].flux >= 3 * np.std(moch_data[:, 1]))\n",
    "                        )[0]] = True\n",
    "        # Sort the values by decreasing intensity (highest first), and reset the index so 0 is at the top.\n",
    "        spectral_lines[molecule] = spectral_lines[molecule].sort_values(\n",
    "            by = \"intensity\", ascending = False).reset_index(drop = True)\n",
    "        # Add one to each index so that it resembles rank.\n",
    "        spectral_lines[molecule].index += 1\n",
    "    return spectral_lines"
   ]
  },
  {
   "cell_type": "markdown",
   "metadata": {},
   "source": [
    "### add_unknown(spectral_complete)\n",
    "The unknown frequencies were lost when the spectral_lines dictionary was created.  Here, we add them back in and declare their intensities to be the same as that in the data set.  This may introduce some error or bias, which will have to be accounted for."
   ]
  },
  {
   "cell_type": "code",
   "execution_count": 14,
   "metadata": {
    "ExecuteTime": {
     "end_time": "2019-11-29T23:32:20.398678Z",
     "start_time": "2019-11-29T23:32:20.266289Z"
    }
   },
   "outputs": [],
   "source": [
    "# Also add in the details for any \"Unknown\" frequency spikes if there are any\n",
    "def add_unknown(spectral_complete):\n",
    "    if \"Unknown\" in all_molecules.keys():\n",
    "        if all_molecules_loaded:\n",
    "            unknown_freqs = pd.Series(float(i) for i in all_molecules[\"Unknown\"][\"Occurances\"].strip(\"[]\").split(\", \"))\n",
    "            unknown_freqs *= 1000  # Convert GHz to MHz\n",
    "        else:\n",
    "            unknown_freqs = pd.Series(all_molecules[\"Unknown\"][\"Occurances\"]) * 1000\n",
    "        spectral_complete[\"Unknown\"] = pd.DataFrame(\n",
    "            data = {\"frequency\": full_data[closest_freq(unknown_freqs, full_data[:, 0]), 0],\n",
    "                    \"uncertainty\": [0] * len(unknown_freqs),\n",
    "                    \"intensity\": full_data[closest_freq(unknown_freqs, full_data[:, 0]), 1],\n",
    "                    \"closest\": full_data[closest_freq(unknown_freqs, full_data[:, 0]), 0],\n",
    "                    \"acceptable\": [True] * len(unknown_freqs),\n",
    "                    \"flux\": full_data[closest_freq(unknown_freqs, full_data[:, 0]), 1],\n",
    "                    \"spike\": [True] * len(unknown_freqs)})\n",
    "        spectral_complete[\"Unknown\"] = spectral_complete[\"Unknown\"].sort_values(\n",
    "            by = \"intensity\", ascending = False).reset_index(drop = True)\n",
    "        # Add one to each index so that it resembles rank.\n",
    "        spectral_complete[\"Unknown\"].index += 1\n",
    "    return spectral_complete"
   ]
  },
  {
   "cell_type": "markdown",
   "metadata": {},
   "source": [
    "## Refine the Data"
   ]
  },
  {
   "cell_type": "code",
   "execution_count": 15,
   "metadata": {
    "ExecuteTime": {
     "end_time": "2019-11-29T23:32:26.299820Z",
     "start_time": "2019-11-29T23:32:20.400679Z"
    }
   },
   "outputs": [
    {
     "name": "stdout",
     "output_type": "stream",
     "text": [
      "Refining spectral_lines...\n"
     ]
    },
    {
     "name": "stderr",
     "output_type": "stream",
     "text": [
      "c:\\users\\andrew\\.platformio\\penv\\lib\\site-packages\\pandas\\core\\indexing.py:205: SettingWithCopyWarning: \n",
      "A value is trying to be set on a copy of a slice from a DataFrame\n",
      "\n",
      "See the caveats in the documentation: http://pandas.pydata.org/pandas-docs/stable/user_guide/indexing.html#returning-a-view-versus-a-copy\n",
      "  self._setitem_with_indexer(indexer, value)\n"
     ]
    },
    {
     "name": "stdout",
     "output_type": "stream",
     "text": [
      "Done\n",
      "\n"
     ]
    }
   ],
   "source": [
    "if \"spectral_complete\" not in locals():\n",
    "    print(\"Refining spectral_lines...\")\n",
    "    # Define the dictionary 'spectral_complete'\n",
    "    spectral_complete = find_matches(spectral_lines)\n",
    "    # Add in the unknown frequecies (if applicable)\n",
    "    spectral_complete = add_unknown(spectral_complete)\n",
    "    # Save the spectral_complete dictionary\n",
    "    with open('./Data/spectral_complete.pkl', 'wb') as file:\n",
    "        pickle.dump(spectral_complete, file, protocol = pickle.HIGHEST_PROTOCOL)\n",
    "    print(\"Done\\n\")"
   ]
  },
  {
   "cell_type": "markdown",
   "metadata": {},
   "source": [
    "## View the Data\n",
    "The refined data, named spectral_complete, is an extension of the data parsed from CDMS and JPL.  It contains all of the downloaded frequencies in the range of the input data (\"frequency\"), the \"uncertainty\" of those frequencies, and lists them in ascending order with the strongest intensities (\"intensity\") at the top.  Additionally, for each frequency, there is an associated \"closest\" frequency from the input data.  If the absolute value of the closest frequency minus the downloaded frequency is less than or equal to the downloaded uncertainty, the column \"acceptable\" is True.  The \"flux\" for the \"closest\" frequency is also listed.  And in the last column, if there was a \"spike\" at that frequency, that is, a flux exceeding the 3$\\sigma$ threshold, the \"spike\" column returns true.\n",
    "\n",
    "You can view the dataframe for any of the molecules by selecting it from the combobox below."
   ]
  },
  {
   "cell_type": "code",
   "execution_count": 16,
   "metadata": {
    "ExecuteTime": {
     "end_time": "2019-11-29T23:32:26.386818Z",
     "start_time": "2019-11-29T23:32:26.301818Z"
    }
   },
   "outputs": [
    {
     "data": {
      "application/vnd.jupyter.widget-view+json": {
       "model_id": "457dbff1fdf8497f834b7d60f127df3e",
       "version_major": 2,
       "version_minor": 0
      },
      "text/plain": [
       "interactive(children=(Dropdown(description='Molecule:', options=('Bromine Dioxide', 'Vinylamine', \"1,2-propane…"
      ]
     },
     "metadata": {},
     "output_type": "display_data"
    }
   ],
   "source": [
    "see_spectral_complete = True\n",
    "\n",
    "if see_spectral_complete:\n",
    "    # Make a dropdown widget with each molecule name as an option\n",
    "    spectral_complete_dropdown = widgets.Dropdown(\n",
    "        options = spectral_complete.keys(),\n",
    "        description = 'Molecule:',\n",
    "        disabled = False,\n",
    "        )\n",
    "\n",
    "    # Define a function that displays the dataframe for the chosen molecule\n",
    "    def show_spectral_complete(molecule = list(spectral_complete.keys())[0]):\n",
    "        molecule = spectral_complete_dropdown.value\n",
    "        display(spectral_complete[molecule])\n",
    "        print(\"Number of spikes:\", spectral_complete[molecule][\"spike\"].sum())\n",
    "        display(spectral_complete[molecule][spectral_complete[molecule][\"spike\"] == True])\n",
    "\n",
    "    # Make the widget interactive by having it call show_data every time the value changes\n",
    "    widgets.interact(show_spectral_complete, molecule = spectral_complete_dropdown)"
   ]
  },
  {
   "cell_type": "code",
   "execution_count": 17,
   "metadata": {
    "ExecuteTime": {
     "end_time": "2019-11-29T23:32:26.888818Z",
     "start_time": "2019-11-29T23:32:26.389936Z"
    },
    "scrolled": false
   },
   "outputs": [
    {
     "data": {
      "text/html": [
       "<div>\n",
       "<style scoped>\n",
       "    .dataframe tbody tr th:only-of-type {\n",
       "        vertical-align: middle;\n",
       "    }\n",
       "\n",
       "    .dataframe tbody tr th {\n",
       "        vertical-align: top;\n",
       "    }\n",
       "\n",
       "    .dataframe thead th {\n",
       "        text-align: right;\n",
       "    }\n",
       "</style>\n",
       "<table border=\"1\" class=\"dataframe\">\n",
       "  <thead>\n",
       "    <tr style=\"text-align: right;\">\n",
       "      <th></th>\n",
       "      <th>221625.17971</th>\n",
       "      <th>221625.66802</th>\n",
       "      <th>221626.15634</th>\n",
       "      <th>222061.24553</th>\n",
       "      <th>222098.84583</th>\n",
       "      <th>222099.33415</th>\n",
       "      <th>222099.82246</th>\n",
       "      <th>222100.31078</th>\n",
       "      <th>222100.79910</th>\n",
       "      <th>222101.28741</th>\n",
       "      <th>...</th>\n",
       "      <th>239872.18106</th>\n",
       "      <th>240059.20593</th>\n",
       "      <th>240088.99318</th>\n",
       "      <th>240089.48150</th>\n",
       "      <th>240089.96981</th>\n",
       "      <th>240090.45813</th>\n",
       "      <th>240318.98983</th>\n",
       "      <th>240319.47814</th>\n",
       "      <th>240428.86083</th>\n",
       "      <th>240429.34915</th>\n",
       "    </tr>\n",
       "  </thead>\n",
       "  <tbody>\n",
       "    <tr>\n",
       "      <th>Bromine Dioxide</th>\n",
       "      <td>-4.2614</td>\n",
       "      <td>0.0000</td>\n",
       "      <td>-4.1708</td>\n",
       "      <td>0.0000</td>\n",
       "      <td>-3.7824</td>\n",
       "      <td>0.0000</td>\n",
       "      <td>0.0</td>\n",
       "      <td>0.0</td>\n",
       "      <td>0.0</td>\n",
       "      <td>0.0</td>\n",
       "      <td>...</td>\n",
       "      <td>0.0</td>\n",
       "      <td>0.0</td>\n",
       "      <td>0.0</td>\n",
       "      <td>0.0</td>\n",
       "      <td>0.0</td>\n",
       "      <td>0.0</td>\n",
       "      <td>0.0</td>\n",
       "      <td>0.0</td>\n",
       "      <td>0.0</td>\n",
       "      <td>0.0</td>\n",
       "    </tr>\n",
       "    <tr>\n",
       "      <th>Vinylamine</th>\n",
       "      <td>-3.8176</td>\n",
       "      <td>0.0000</td>\n",
       "      <td>0.0000</td>\n",
       "      <td>0.0000</td>\n",
       "      <td>0.0000</td>\n",
       "      <td>0.0000</td>\n",
       "      <td>0.0</td>\n",
       "      <td>0.0</td>\n",
       "      <td>0.0</td>\n",
       "      <td>0.0</td>\n",
       "      <td>...</td>\n",
       "      <td>0.0</td>\n",
       "      <td>0.0</td>\n",
       "      <td>0.0</td>\n",
       "      <td>0.0</td>\n",
       "      <td>0.0</td>\n",
       "      <td>0.0</td>\n",
       "      <td>0.0</td>\n",
       "      <td>0.0</td>\n",
       "      <td>0.0</td>\n",
       "      <td>0.0</td>\n",
       "    </tr>\n",
       "    <tr>\n",
       "      <th>1,2-propanediol, gG'a</th>\n",
       "      <td>0.0000</td>\n",
       "      <td>-6.6920</td>\n",
       "      <td>0.0000</td>\n",
       "      <td>0.0000</td>\n",
       "      <td>0.0000</td>\n",
       "      <td>0.0000</td>\n",
       "      <td>0.0</td>\n",
       "      <td>0.0</td>\n",
       "      <td>0.0</td>\n",
       "      <td>0.0</td>\n",
       "      <td>...</td>\n",
       "      <td>0.0</td>\n",
       "      <td>0.0</td>\n",
       "      <td>0.0</td>\n",
       "      <td>0.0</td>\n",
       "      <td>0.0</td>\n",
       "      <td>0.0</td>\n",
       "      <td>0.0</td>\n",
       "      <td>0.0</td>\n",
       "      <td>0.0</td>\n",
       "      <td>0.0</td>\n",
       "    </tr>\n",
       "    <tr>\n",
       "      <th>Methyl Cyanide</th>\n",
       "      <td>0.0000</td>\n",
       "      <td>-2.9633</td>\n",
       "      <td>0.0000</td>\n",
       "      <td>0.0000</td>\n",
       "      <td>0.0000</td>\n",
       "      <td>0.0000</td>\n",
       "      <td>0.0</td>\n",
       "      <td>0.0</td>\n",
       "      <td>0.0</td>\n",
       "      <td>0.0</td>\n",
       "      <td>...</td>\n",
       "      <td>0.0</td>\n",
       "      <td>0.0</td>\n",
       "      <td>0.0</td>\n",
       "      <td>0.0</td>\n",
       "      <td>0.0</td>\n",
       "      <td>0.0</td>\n",
       "      <td>0.0</td>\n",
       "      <td>0.0</td>\n",
       "      <td>0.0</td>\n",
       "      <td>0.0</td>\n",
       "    </tr>\n",
       "    <tr>\n",
       "      <th>Methyl Acetylene</th>\n",
       "      <td>0.0000</td>\n",
       "      <td>0.0000</td>\n",
       "      <td>0.0000</td>\n",
       "      <td>-3.7847</td>\n",
       "      <td>0.0000</td>\n",
       "      <td>-3.6644</td>\n",
       "      <td>0.0</td>\n",
       "      <td>0.0</td>\n",
       "      <td>0.0</td>\n",
       "      <td>0.0</td>\n",
       "      <td>...</td>\n",
       "      <td>0.0</td>\n",
       "      <td>0.0</td>\n",
       "      <td>0.0</td>\n",
       "      <td>0.0</td>\n",
       "      <td>0.0</td>\n",
       "      <td>0.0</td>\n",
       "      <td>0.0</td>\n",
       "      <td>0.0</td>\n",
       "      <td>0.0</td>\n",
       "      <td>0.0</td>\n",
       "    </tr>\n",
       "    <tr>\n",
       "      <th>...</th>\n",
       "      <td>...</td>\n",
       "      <td>...</td>\n",
       "      <td>...</td>\n",
       "      <td>...</td>\n",
       "      <td>...</td>\n",
       "      <td>...</td>\n",
       "      <td>...</td>\n",
       "      <td>...</td>\n",
       "      <td>...</td>\n",
       "      <td>...</td>\n",
       "      <td>...</td>\n",
       "      <td>...</td>\n",
       "      <td>...</td>\n",
       "      <td>...</td>\n",
       "      <td>...</td>\n",
       "      <td>...</td>\n",
       "      <td>...</td>\n",
       "      <td>...</td>\n",
       "      <td>...</td>\n",
       "      <td>...</td>\n",
       "      <td>...</td>\n",
       "    </tr>\n",
       "    <tr>\n",
       "      <th>Thioformaldehyde</th>\n",
       "      <td>0.0000</td>\n",
       "      <td>0.0000</td>\n",
       "      <td>0.0000</td>\n",
       "      <td>0.0000</td>\n",
       "      <td>0.0000</td>\n",
       "      <td>0.0000</td>\n",
       "      <td>0.0</td>\n",
       "      <td>0.0</td>\n",
       "      <td>0.0</td>\n",
       "      <td>0.0</td>\n",
       "      <td>...</td>\n",
       "      <td>0.0</td>\n",
       "      <td>0.0</td>\n",
       "      <td>0.0</td>\n",
       "      <td>0.0</td>\n",
       "      <td>0.0</td>\n",
       "      <td>0.0</td>\n",
       "      <td>0.0</td>\n",
       "      <td>0.0</td>\n",
       "      <td>0.0</td>\n",
       "      <td>0.0</td>\n",
       "    </tr>\n",
       "    <tr>\n",
       "      <th>Cyanomethyl</th>\n",
       "      <td>0.0000</td>\n",
       "      <td>0.0000</td>\n",
       "      <td>0.0000</td>\n",
       "      <td>0.0000</td>\n",
       "      <td>0.0000</td>\n",
       "      <td>0.0000</td>\n",
       "      <td>0.0</td>\n",
       "      <td>0.0</td>\n",
       "      <td>0.0</td>\n",
       "      <td>0.0</td>\n",
       "      <td>...</td>\n",
       "      <td>0.0</td>\n",
       "      <td>0.0</td>\n",
       "      <td>0.0</td>\n",
       "      <td>0.0</td>\n",
       "      <td>0.0</td>\n",
       "      <td>0.0</td>\n",
       "      <td>0.0</td>\n",
       "      <td>0.0</td>\n",
       "      <td>0.0</td>\n",
       "      <td>0.0</td>\n",
       "    </tr>\n",
       "    <tr>\n",
       "      <th>Cyanamide</th>\n",
       "      <td>0.0000</td>\n",
       "      <td>0.0000</td>\n",
       "      <td>0.0000</td>\n",
       "      <td>0.0000</td>\n",
       "      <td>0.0000</td>\n",
       "      <td>0.0000</td>\n",
       "      <td>0.0</td>\n",
       "      <td>0.0</td>\n",
       "      <td>0.0</td>\n",
       "      <td>0.0</td>\n",
       "      <td>...</td>\n",
       "      <td>0.0</td>\n",
       "      <td>0.0</td>\n",
       "      <td>0.0</td>\n",
       "      <td>0.0</td>\n",
       "      <td>0.0</td>\n",
       "      <td>0.0</td>\n",
       "      <td>0.0</td>\n",
       "      <td>0.0</td>\n",
       "      <td>0.0</td>\n",
       "      <td>0.0</td>\n",
       "    </tr>\n",
       "    <tr>\n",
       "      <th>Methanimine</th>\n",
       "      <td>0.0000</td>\n",
       "      <td>0.0000</td>\n",
       "      <td>0.0000</td>\n",
       "      <td>0.0000</td>\n",
       "      <td>0.0000</td>\n",
       "      <td>0.0000</td>\n",
       "      <td>0.0</td>\n",
       "      <td>0.0</td>\n",
       "      <td>0.0</td>\n",
       "      <td>0.0</td>\n",
       "      <td>...</td>\n",
       "      <td>0.0</td>\n",
       "      <td>0.0</td>\n",
       "      <td>0.0</td>\n",
       "      <td>0.0</td>\n",
       "      <td>0.0</td>\n",
       "      <td>0.0</td>\n",
       "      <td>0.0</td>\n",
       "      <td>0.0</td>\n",
       "      <td>0.0</td>\n",
       "      <td>0.0</td>\n",
       "    </tr>\n",
       "    <tr>\n",
       "      <th>Unknown</th>\n",
       "      <td>0.0000</td>\n",
       "      <td>0.0000</td>\n",
       "      <td>0.0000</td>\n",
       "      <td>0.0000</td>\n",
       "      <td>0.0000</td>\n",
       "      <td>0.0000</td>\n",
       "      <td>0.0</td>\n",
       "      <td>0.0</td>\n",
       "      <td>0.0</td>\n",
       "      <td>0.0</td>\n",
       "      <td>...</td>\n",
       "      <td>0.0</td>\n",
       "      <td>0.0</td>\n",
       "      <td>0.0</td>\n",
       "      <td>0.0</td>\n",
       "      <td>0.0</td>\n",
       "      <td>0.0</td>\n",
       "      <td>0.0</td>\n",
       "      <td>0.0</td>\n",
       "      <td>0.0</td>\n",
       "      <td>0.0</td>\n",
       "    </tr>\n",
       "  </tbody>\n",
       "</table>\n",
       "<p>127 rows × 223 columns</p>\n",
       "</div>"
      ],
      "text/plain": [
       "                       221625.17971  221625.66802  221626.15634  222061.24553  \\\n",
       "Bromine Dioxide             -4.2614        0.0000       -4.1708        0.0000   \n",
       "Vinylamine                  -3.8176        0.0000        0.0000        0.0000   \n",
       "1,2-propanediol, gG'a        0.0000       -6.6920        0.0000        0.0000   \n",
       "Methyl Cyanide               0.0000       -2.9633        0.0000        0.0000   \n",
       "Methyl Acetylene             0.0000        0.0000        0.0000       -3.7847   \n",
       "...                             ...           ...           ...           ...   \n",
       "Thioformaldehyde             0.0000        0.0000        0.0000        0.0000   \n",
       "Cyanomethyl                  0.0000        0.0000        0.0000        0.0000   \n",
       "Cyanamide                    0.0000        0.0000        0.0000        0.0000   \n",
       "Methanimine                  0.0000        0.0000        0.0000        0.0000   \n",
       "Unknown                      0.0000        0.0000        0.0000        0.0000   \n",
       "\n",
       "                       222098.84583  222099.33415  222099.82246  222100.31078  \\\n",
       "Bromine Dioxide             -3.7824        0.0000           0.0           0.0   \n",
       "Vinylamine                   0.0000        0.0000           0.0           0.0   \n",
       "1,2-propanediol, gG'a        0.0000        0.0000           0.0           0.0   \n",
       "Methyl Cyanide               0.0000        0.0000           0.0           0.0   \n",
       "Methyl Acetylene             0.0000       -3.6644           0.0           0.0   \n",
       "...                             ...           ...           ...           ...   \n",
       "Thioformaldehyde             0.0000        0.0000           0.0           0.0   \n",
       "Cyanomethyl                  0.0000        0.0000           0.0           0.0   \n",
       "Cyanamide                    0.0000        0.0000           0.0           0.0   \n",
       "Methanimine                  0.0000        0.0000           0.0           0.0   \n",
       "Unknown                      0.0000        0.0000           0.0           0.0   \n",
       "\n",
       "                       222100.79910  222101.28741  ...  239872.18106  \\\n",
       "Bromine Dioxide                 0.0           0.0  ...           0.0   \n",
       "Vinylamine                      0.0           0.0  ...           0.0   \n",
       "1,2-propanediol, gG'a           0.0           0.0  ...           0.0   \n",
       "Methyl Cyanide                  0.0           0.0  ...           0.0   \n",
       "Methyl Acetylene                0.0           0.0  ...           0.0   \n",
       "...                             ...           ...  ...           ...   \n",
       "Thioformaldehyde                0.0           0.0  ...           0.0   \n",
       "Cyanomethyl                     0.0           0.0  ...           0.0   \n",
       "Cyanamide                       0.0           0.0  ...           0.0   \n",
       "Methanimine                     0.0           0.0  ...           0.0   \n",
       "Unknown                         0.0           0.0  ...           0.0   \n",
       "\n",
       "                       240059.20593  240088.99318  240089.48150  240089.96981  \\\n",
       "Bromine Dioxide                 0.0           0.0           0.0           0.0   \n",
       "Vinylamine                      0.0           0.0           0.0           0.0   \n",
       "1,2-propanediol, gG'a           0.0           0.0           0.0           0.0   \n",
       "Methyl Cyanide                  0.0           0.0           0.0           0.0   \n",
       "Methyl Acetylene                0.0           0.0           0.0           0.0   \n",
       "...                             ...           ...           ...           ...   \n",
       "Thioformaldehyde                0.0           0.0           0.0           0.0   \n",
       "Cyanomethyl                     0.0           0.0           0.0           0.0   \n",
       "Cyanamide                       0.0           0.0           0.0           0.0   \n",
       "Methanimine                     0.0           0.0           0.0           0.0   \n",
       "Unknown                         0.0           0.0           0.0           0.0   \n",
       "\n",
       "                       240090.45813  240318.98983  240319.47814  240428.86083  \\\n",
       "Bromine Dioxide                 0.0           0.0           0.0           0.0   \n",
       "Vinylamine                      0.0           0.0           0.0           0.0   \n",
       "1,2-propanediol, gG'a           0.0           0.0           0.0           0.0   \n",
       "Methyl Cyanide                  0.0           0.0           0.0           0.0   \n",
       "Methyl Acetylene                0.0           0.0           0.0           0.0   \n",
       "...                             ...           ...           ...           ...   \n",
       "Thioformaldehyde                0.0           0.0           0.0           0.0   \n",
       "Cyanomethyl                     0.0           0.0           0.0           0.0   \n",
       "Cyanamide                       0.0           0.0           0.0           0.0   \n",
       "Methanimine                     0.0           0.0           0.0           0.0   \n",
       "Unknown                         0.0           0.0           0.0           0.0   \n",
       "\n",
       "                       240429.34915  \n",
       "Bromine Dioxide                 0.0  \n",
       "Vinylamine                      0.0  \n",
       "1,2-propanediol, gG'a           0.0  \n",
       "Methyl Cyanide                  0.0  \n",
       "Methyl Acetylene                0.0  \n",
       "...                             ...  \n",
       "Thioformaldehyde                0.0  \n",
       "Cyanomethyl                     0.0  \n",
       "Cyanamide                       0.0  \n",
       "Methanimine                     0.0  \n",
       "Unknown                         0.0  \n",
       "\n",
       "[127 rows x 223 columns]"
      ]
     },
     "execution_count": 17,
     "metadata": {},
     "output_type": "execute_result"
    }
   ],
   "source": [
    "spikes = []\n",
    "for dataset in data:\n",
    "    # Remove signals greater than 5 sigma by setting them equal to 0\n",
    "    moch_data = dataset.copy()\n",
    "    moch_data[np.where( moch_data[:, 1] >= 5 * np.std(moch_data[:, 1])), 1] = 0  # 0's fluxs >= 5 stddevs\n",
    "    frequencies = np.round(dataset[np.where( dataset[:, 1] >= 3 * np.std(moch_data[:, 1])), 0] * 1000, 5)[0]\n",
    "    spikes.extend(frequencies)\n",
    "molecules = list(spectral_complete.keys())\n",
    "data_matrix = pd.DataFrame(0.0, index = molecules, columns = spikes)\n",
    "\n",
    "for molecule in data_matrix.index:\n",
    "    data_matrix.loc[molecule].loc[\n",
    "        list(spectral_complete[molecule][spectral_complete[molecule][\"spike\"] == True][\"closest\"])\n",
    "    ] = list(spectral_complete[molecule][spectral_complete[molecule][\"spike\"] == True][\"intensity\"])\n",
    "data_matrix"
   ]
  },
  {
   "cell_type": "code",
   "execution_count": 70,
   "metadata": {
    "ExecuteTime": {
     "end_time": "2019-11-30T02:34:06.755004Z",
     "start_time": "2019-11-30T02:34:06.636005Z"
    }
   },
   "outputs": [
    {
     "data": {
      "text/plain": [
       "[('Unknown', 15.879787118058095),\n",
       " ('Potassium chloride', 0.7192450805108314),\n",
       " ('Cyanoacetylene', 0.39762089635138936),\n",
       " ('Cyanobutadiynylide anion', 0.08373934678760529),\n",
       " ('Glycine', 0.060578983461725466),\n",
       " ('Cyanoallene', 0.057173209637814165),\n",
       " ('<i>cyclo</i>-Propyl cyanide', 0.055623594445103175),\n",
       " ('Propadienylidene', 0.054549345923933845),\n",
       " ('Cyanobutadiyne', 0.051989147467156334),\n",
       " ('Ethyl Cyanide', 0.04816040923426825),\n",
       " ('&alpha;-Alanine', 0.045690986198290845),\n",
       " ('Benzonitrile', 0.04526967459115935),\n",
       " ('Propynylidyne', 0.036179209565868495),\n",
       " ('iso-propyl cyanide', 0.03408193173037346),\n",
       " ('Cyclopropenylidene', 0.033360445677763056),\n",
       " ('Sodium monoxide', 0.033360445677763056),\n",
       " ('Methyl cyanate', 0.03198214787045416),\n",
       " ('Propenal', 0.028676168186732975),\n",
       " ('Cyanoethenone', 0.028152636254105436),\n",
       " ('3-Methylbutyronitrile', 0.027590698722330453),\n",
       " ('Ethyl cyanide', 0.02749558603554982),\n",
       " ('n-Butyl cyanide', 0.024116403611076788),\n",
       " ('Butyronitrile', 0.023822345560556214),\n",
       " ('Disulfur dioxide, <i>cis</i>-isomer', 0.022593082370466304),\n",
       " ('Diketene', 0.022481072897460874),\n",
       " ('Hydroxyacetone', 0.021163998151115648),\n",
       " ('Vinyl Cyanide', 0.019789741930928154),\n",
       " ('Formic Acid', 0.019595717507910306),\n",
       " ('2-Cyanobutane', 0.019028474968027335),\n",
       " ('Benzaldehyde', 0.018263763093655884),\n",
       " ('Bromine Dioxide', 0.01759832137142973),\n",
       " ('2-Propynal', 0.01692618365757759),\n",
       " ('Monothioformic acid', 0.016570564173818983),\n",
       " ('Hydroxyacetonitrile', 0.014773662706040433),\n",
       " ('Cyanopropynyl', 0.014224885086192782),\n",
       " ('Aminoethanol', 0.013413522317572153),\n",
       " ('Cyanamide', 0.013256066113974292),\n",
       " (\"1,3-propanediol, gGG'g\", 0.011960932253097807),\n",
       " ('Thioheptahexaenylidene', 0.011829956183784249),\n",
       " ('Vinyl Isocyanide', 0.011758149285662003),\n",
       " ('Sulfuric acid', 0.01041670180026878),\n",
       " ('Methyl Carbamate', 0.010102959087113884),\n",
       " ('Glycolaldehyde', 0.009701285415142662),\n",
       " (\"1,2-propanediol, gG'a\", 0.009654865420217536),\n",
       " ('Methyleneaminoacetonitrile', 0.008031484585778693),\n",
       " ('Ethyl formate', 0.008015138253119466),\n",
       " ('Formic acid', 0.007834692359702194),\n",
       " ('Ethylene Glycol', 0.007398577763929596),\n",
       " (\"1,2-propanediol, g'G'g\", 0.006980637036388366),\n",
       " (\"1,2-propanediol, aG'g\", 0.006940901103171708),\n",
       " ('Peroxynitric acid', 0.006782061225928084),\n",
       " ('Dihydroxyacetone', 0.006372430353513938),\n",
       " ('Aminoacetonitrile', 0.006150508557523712),\n",
       " ('Methyl Formate', 0.0054904781800081855),\n",
       " ('Nitric acid', 0.005359505453160737),\n",
       " ('Formamide', 0.005270886562522075),\n",
       " ('Pyridine', 0.005251334530665257),\n",
       " ('Propenoic acid', 0.00523793639802307),\n",
       " ('HOOO radical', 0.004989365954297126),\n",
       " ('Vinyl formate', 0.0049485510564900225),\n",
       " ('Magnesium Cyanide', 0.004308014683575655),\n",
       " ('Chlorine dioxide', 0.004141103704425975),\n",
       " ('Pyrrole', 0.0038319539648950136),\n",
       " ('Cyanomethyl', 0.0034747161931014694),\n",
       " ('Ethanethiol, gauche', 0.0033217397293629665),\n",
       " ('Ethanol, gauche/anti combined', 0.00325260509679947),\n",
       " ('Methyl diacetylene', 0.0032299225319517622),\n",
       " ('gauche-Ethanol', 0.00320357119950844),\n",
       " ('trans-Ethanol', 0.00320357119950844),\n",
       " ('Acetaldehyde', 0.003184640217126747),\n",
       " ('Cyclopropynylidyne', 0.0031831453255266214),\n",
       " ('Propargyl Alcohol', 0.003178558478182377),\n",
       " ('Hexatriynylformyl', 0.0031178563023050447),\n",
       " ('n-Butyronitrile, gauche/anti combined', 0.0030536316034186287),\n",
       " ('Ethyl cyanide, v<sub>12</sub> = 1', 0.003004464512056502),\n",
       " ('Methyl Acetylene', 0.002964734242497845),\n",
       " ('Methyl chloride', 0.0029539110855713725),\n",
       " ('1,3-Butadiynyl radical', 0.0029331255494317006),\n",
       " ('Difluoromethane', 0.0028740643653988873),\n",
       " ('Ethylene Oxide', 0.0026500740577323754),\n",
       " ('Phenol', 0.0025941623160992645),\n",
       " ('<i>anti</i>-Ethanol', 0.0025612825437803027),\n",
       " ('Diethyl ether', 0.00253283800427782),\n",
       " ('Ethanethiol, anti', 0.002435334504403547),\n",
       " ('Anisole', 0.0023983371079666135),\n",
       " ('o-Benzyne', 0.002196973915773273),\n",
       " ('Formyl Chloride', 0.002195047970368523),\n",
       " ('<i>n</i>-Propanol', 0.0021690897933237824),\n",
       " ('Peroxynitrous acid', 0.0021075477462210346),\n",
       " ('Methanimine', 0.0020875092840774274),\n",
       " ('Chloryl chloride', 0.002067495051895955),\n",
       " ('Hydrogen peroxide', 0.0019925813953397585),\n",
       " ('Sulfur Dioxide', 0.0017639788867647391),\n",
       " ('Oxetane', 0.0016980040688562208),\n",
       " ('Methyl formate, v<sub>t</sub> = 0, 1', 0.0016547056383117873),\n",
       " ('Vinylamine', 0.0015470457434228102),\n",
       " ('Tetrasulfur', 0.0015194153375013935),\n",
       " ('Disulfurmonoxide', 0.0015037454580125362),\n",
       " ('1-butyne', 0.001474732815129955),\n",
       " ('Propadienonethione', 0.001424958002197977),\n",
       " ('Trans - HONO', 0.0014091298476470184),\n",
       " ('Methyl Cyanide', 0.0013232185311356434),\n",
       " ('gauche-n-butyronitrile', 0.0011979992771407242),\n",
       " ('Ethylenimine', 0.0011960951753092488),\n",
       " ('Dimethyl ether', 0.0011601660935108657),\n",
       " ('Chlorine nitrate', 0.0010584786841199435),\n",
       " ('gauche-n-butyronitrile, v<sub>29</sub> = 1', 0.000981412526411891),\n",
       " ('Carbonyl cyanide', 0.0009606353685340358),\n",
       " ('Phenylacetylene', 0.000908525154226116),\n",
       " ('anti-n-butyronitrile, v<sub>30</sub> = 1', 0.0007683709353905244),\n",
       " ('gauche-n-butyronitrile, v<sub>28</sub> = 1', 0.0007284188075044104),\n",
       " ('Chlorine peroxide', 0.000725784417814272),\n",
       " ('Manganese monoxide', 0.000681992581345362),\n",
       " ('Acetone', 0.0006570340432712896),\n",
       " ('gauche-n-butyronitrile, v<sub>30</sub> = 2', 0.0005241557668844301),\n",
       " ('Methyl peroxide', 0.0003789481769233944),\n",
       " ('anti-n-butyronitrile, v<sub>30</sub> = 2', 0.0003550591577314426),\n",
       " ('Methanol', 0.0003425381136521224),\n",
       " ('anti-n-butyronitrile, v<sub>18</sub> = 1', 0.00026877191038608944),\n",
       " ('Ozone', 0.00018147574998318838),\n",
       " ('Formaldehyde', 4.157944485999472e-05),\n",
       " ('Isocyanic Acid', 3.57411511070032e-06),\n",
       " ('Propane', 3.386524675704276e-06),\n",
       " ('Ammonia', 7.467663468090085e-07),\n",
       " ('Carbonyl fluoride', 3.725603033706948e-07),\n",
       " ('Thioformaldehyde', 5.590213272596386e-08),\n",
       " ('Hydroxyl radical', 1.742924609484056e-17)]"
      ]
     },
     "execution_count": 70,
     "metadata": {},
     "output_type": "execute_result"
    }
   ],
   "source": [
    "sums = []\n",
    "sums.extend( (x, sum(10**spectral_complete[x][\"intensity\"] * \n",
    "                     10**spectral_complete[x][\"flux\"])) for x in spectral_complete.keys())\n",
    "sums.sort(key = lambda x: x[1], reverse = True)\n",
    "sums"
   ]
  },
  {
   "cell_type": "code",
   "execution_count": null,
   "metadata": {},
   "outputs": [],
   "source": []
  }
 ],
 "metadata": {
  "celltoolbar": "Raw Cell Format",
  "kernelspec": {
   "display_name": "Python 3",
   "language": "python",
   "name": "python3"
  },
  "language_info": {
   "codemirror_mode": {
    "name": "ipython",
    "version": 3
   },
   "file_extension": ".py",
   "mimetype": "text/x-python",
   "name": "python",
   "nbconvert_exporter": "python",
   "pygments_lexer": "ipython3",
   "version": "3.7.2"
  },
  "toc": {
   "base_numbering": 1,
   "nav_menu": {},
   "number_sections": true,
   "sideBar": true,
   "skip_h1_title": false,
   "title_cell": "Table of Contents",
   "title_sidebar": "Contents",
   "toc_cell": false,
   "toc_position": {
    "height": "calc(100% - 180px)",
    "left": "10px",
    "top": "150px",
    "width": "191.076px"
   },
   "toc_section_display": true,
   "toc_window_display": true
  }
 },
 "nbformat": 4,
 "nbformat_minor": 2
}
