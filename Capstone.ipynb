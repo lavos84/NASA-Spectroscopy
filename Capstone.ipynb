{
 "cells": [
  {
   "cell_type": "markdown",
   "metadata": {},
   "source": [
    "# Libraries"
   ]
  },
  {
   "cell_type": "code",
   "execution_count": 1,
   "metadata": {
    "scrolled": true
   },
   "outputs": [
    {
     "name": "stdout",
     "output_type": "stream",
     "text": [
      "gzip was not found on your system! You should solve this issue for astroquery.eso to be at its best!\n",
      "On POSIX system: make sure gzip is installed and in your path!On Windows: same for 7-zip (http://www.7-zip.org)!\n"
     ]
    }
   ],
   "source": [
    "import numpy as np\n",
    "import matplotlib.pyplot as plt\n",
    "import os.path\n",
    "import pandas as pd\n",
    "from astroquery.splatalogue import Splatalogue  # We must acknowledge authors for use of this library\n",
    "from astropy import units as u\n",
    "from SpectralQuery import SpectralQuery\n",
    "import pickle"
   ]
  },
  {
   "cell_type": "markdown",
   "metadata": {},
   "source": [
    "# Data\n",
    "The data comes from 4 text files.  Each file contains 2 columns of data, _frequency_ and _flux_.  We'll only need to read in the data if we don't already know which molecules could be contained within the frequencies (by running the code)."
   ]
  },
  {
   "cell_type": "code",
   "execution_count": 4,
   "metadata": {},
   "outputs": [
    {
     "name": "stdout",
     "output_type": "stream",
     "text": [
      "\n",
      "--- Reading in data ---\n",
      "--- Complete ---\n",
      "\n",
      "\n",
      "--- Loading in all_molecules ---\n",
      "--- Complete ---\n",
      "\n",
      "\n",
      "--- Loading in spectral_lines ---\n",
      "--- Complete ---\n",
      "\n"
     ]
    }
   ],
   "source": [
    "# read in the data\n",
    "print(\"\\n--- Reading in data ---\")\n",
    "filenames = [\"./Data/Win0.clean1.contsub_Jy.rest.scom.c.txt\",\n",
    "             \"./Data/Win1.clean1.contsub_Jy.rest.scom.c.txt\",\n",
    "             \"./Data/Win2.clean1.contsub_Jy.rest.scom.c.txt\",\n",
    "             \"./Data/Win3.clean1.contsub_Jy.rest.scom.c.txt\"]\n",
    "# 'data' will be a 4 element list, with each element representing the data from 1 text file\n",
    "data = [np.loadtxt(f) for f in filenames]\n",
    "generate_plot = True\n",
    "print(\"--- Complete ---\\n\")\n",
    "\n",
    "# Read in all_molecules if it exists\n",
    "if os.path.isfile('./Data/all_molecules.csv'):\n",
    "    print(\"\\n--- Loading in all_molecules ---\")\n",
    "    all_molecules = pd.read_csv('./Data/all_molecules.csv', header = 0, index_col = 0).to_dict(orient = \"index\")\n",
    "    generate_plot = False   # Whether or not to generate the plot\n",
    "    print(\"--- Complete ---\\n\")\n",
    "\n",
    "# read in spectral_lines if it exists   \n",
    "if os.path.isfile('./Data/spectral_lines.pkl'):\n",
    "    print(\"\\n--- Loading in spectral_lines ---\")\n",
    "    with open('./Data/spectral_lines.pkl', 'rb') as file:\n",
    "        spectral_lines = pickle.load(file)\n",
    "    print(\"--- Complete ---\\n\")"
   ]
  },
  {
   "cell_type": "markdown",
   "metadata": {},
   "source": [
    "# Functions"
   ]
  },
  {
   "cell_type": "markdown",
   "metadata": {},
   "source": [
    "## create_plot()\n",
    "This function will generate a figure with 4 axes and produce a plot of the frequency versus flux of the raw data.  It will then return the figure and handle to those axes."
   ]
  },
  {
   "cell_type": "code",
   "execution_count": 5,
   "metadata": {},
   "outputs": [],
   "source": [
    "def create_plot():\n",
    "    \"\"\" Recreate the plot from Cordiner et. al. 2015, Figure 1 \"\"\"\n",
    "    # Defining the figure might need more finess if there are more than 4 datasets\n",
    "    # We need to consult a domain expert to learn if ALMA data always comes back with 4 datasets\n",
    "    fig, axs = plt.subplots(2, 2, figsize = (10, 6))\n",
    "    for index, ax in enumerate(axs.flat):\n",
    "        # Plot each data set\n",
    "        ax.plot(data[index][:,0],\n",
    "                data[index][:,1],\n",
    "                linewidth = 0.25)\n",
    "        ax.set(ylabel = \"Flux (Jy)\")\n",
    "        ax.set(xlabel = \"Frequency (GHz)\")\n",
    "        # Clean up the xticks\n",
    "        ax.set_xticks(np.arange(round(data[index][0,0], 1), round(data[index][-1,0], 1), step = 0.5))\n",
    "        # Remove the space from the borders of the plot along the X axis\n",
    "        ax.autoscale(enable = True, axis = 'x', tight = True)\n",
    "    # Add some space between the plots\n",
    "    plt.subplots_adjust(hspace = .3, wspace = .3)\n",
    "    return fig, axs"
   ]
  },
  {
   "cell_type": "markdown",
   "metadata": {},
   "source": [
    "## add_lines(id, molecules)\n",
    "This function adds dashed lines to a specified axis (`id`) at every frequency passed in by `molecules`.  `molecules` is a dictionary whose keys are the _frequencies_ above the 3$\\sigma$ threshold and whose values are the _Chemical names_ of molecules that have a spectral line at that frequency, and also their _Molecule Tag_.  So each frequency will have a dictionary inside it with keys _Chemical Name_ and _Molecule Tag_ with values pulled from the results of a Splatalogue query."
   ]
  },
  {
   "cell_type": "code",
   "execution_count": 6,
   "metadata": {},
   "outputs": [],
   "source": [
    "def add_lines(id, molecules):\n",
    "    \"\"\"This function will add dashed lines to the plot where molecules were detected\"\"\"\n",
    "    for freq in molecules.keys():\n",
    "        axs[id].axvline(x = float(freq),\n",
    "                        ymin = 0,\n",
    "                        ymax = 1,\n",
    "                        dashes = [18, 6],\n",
    "                        linewidth = 0.25,\n",
    "                        color = \"gray\",\n",
    "                        alpha = 0.5)"
   ]
  },
  {
   "cell_type": "markdown",
   "metadata": {},
   "source": [
    "## find_molecules()\n",
    "This function constructs 2 dictionaries.  The first dictionary created is `molecules.`  `molecules` is a dictionary whose keys are the _frequencies_ above the 3$\\sigma$ threshold and whose values are the _Chemical names_ of molecules that have a spectral line at that frequency, and also their _Molecule Tag_.  So each frequency will have a dictionary inside it with keys _Chemical Name_ and _Molecule Tag_ with values pulled from the results of a Splatalogue query.  `molecules` is unique to each axis on the figure.  That is, since there are 4 axes on the figure, `molecules` gets generated 4 times.  Each time those frequencies get passed to `add_lines(id, molecules)` along with the `id` of the axis that it is meant for.\n",
    "\n",
    "The second dictionary is a global dictionary, `all_molecules`.  This dictionary's keys are the unique _Chemical Names_ identified from all 4 generations of the `molecules` dictionary.  The values are another dictionary with keys _Occurances_, _Molecule Tag_, and _Linelist_ whose values are the frequencies of spectral emissions this molecule was found at in the data, the molecule tag number, and the linelist representing what database the data was pulled from, respectively.\n",
    "\n",
    "The `molecules` dictionary is generated by first identifying all frequencies where the flux exceeds the 3$\\sigma$ threshold (where a flux value is greater than 3 standard deviations away from the mean).  Then, for each frequency that meets this criteria, a query to the Splatalogue API is made at that frequency $\\pm$ some `delta` (initially set to 50kHz).  If the query returns any results, they are added to the `molecules` and `all_molecules` dictionarys."
   ]
  },
  {
   "cell_type": "code",
   "execution_count": 7,
   "metadata": {},
   "outputs": [],
   "source": [
    "def find_molecules():\n",
    "    \"\"\" Classify the molecules from their frequency for each dataset \"\"\"\n",
    "    for id, dataset in enumerate(data):\n",
    "        # Locate the indices where the flux is greater than 3 standard deviations\n",
    "        # There are 4 datasets.  Column 0 is the frequency, column 1 is the flux\n",
    "        # Splatalogue appears to be accurate up to 5 decimal places\n",
    "        molecules = {}  # An empty dictionary to store the results of each detected molecule and rest frequency\n",
    "        delta = 0.00005 # +/- when searching frequencies\n",
    "        frequencies = np.round(dataset[np.where( dataset[:, 1] >= 3 * np.std(dataset[:, 1])), 0], 5)[0]\n",
    "        for freq in frequencies:\n",
    "            # Query Splatalogue at each frequency +/- delta using the CDMS and JPL databases\n",
    "            results = Splatalogue.query_lines( (freq - delta)*u.GHz, (freq + delta)*u.GHz,\n",
    "                                                show_molecule_tag = True,\n",
    "                                                top20 = 'planet',\n",
    "                                                line_lists = ['CDMS', 'JPL'],\n",
    "                                                line_strengths = 'ls1')\n",
    "            # Append the chemical names corresponding to the searched frequency.\n",
    "            if len(results) > 0:\n",
    "                molecules[freq] = {\"Chemical Name\": results[\"Chemical Name\"].tolist(),\n",
    "                                   \"Molecule Tag\": results[\"Molecule<br>Tag\"].tolist()}\n",
    "            else:\n",
    "                molecules[freq] = {\"Chemical Name\": \"Unknown\",\n",
    "                                   \"Molecule Tag\": None}\n",
    "        \n",
    "            # Append the chemical name and frequency to the dictionary of all molecules found\n",
    "            if len(results) > 0:\n",
    "                for i, molecule in enumerate(results[\"Chemical Name\"].tolist()):\n",
    "                    if molecule in all_molecules.keys():\n",
    "                        all_molecules[molecule][\"Occurances\"].append(freq)\n",
    "                    else:\n",
    "                        molecule_tag = \"0\" + str(results[\"Molecule<br>Tag\"][i]) if len(str(results[\"Molecule<br>Tag\"][i])) < 6 else str(results[\"Molecule<br>Tag\"][i])\n",
    "                        # The molecule is new.  Add its tag, linelist, and frequency to all_molecules\n",
    "                        all_molecules[molecule] = {\"Molecule Tag\": molecule_tag,\n",
    "                                                   \"Linelist\": results[\"Linelist\"][i],\n",
    "                                                   \"Occurances\": [freq]}\n",
    "            else:\n",
    "                # If the query returns no results, then we've found a significant emmission frequency with\n",
    "                # no known molecule associated with it.\n",
    "                if \"Unknown\" in all_molecules.keys():\n",
    "                    all_molecules[\"Unknown\"][\"Occurances\"].append(freq)\n",
    "                else:\n",
    "                    all_molecules[\"Unknown\"] = {\"Molecule Tag\": \"None\",\n",
    "                                                \"Linelist\": \"None\",\n",
    "                                                \"Occurances\": [freq]}\n",
    "        add_lines(id, molecules)"
   ]
  },
  {
   "cell_type": "markdown",
   "metadata": {},
   "source": [
    "## pull_spectral_lines(SpectralQuery, molecule_tag)\n",
    "\n",
    "Once all the molecules that could be in the data have been identified, we can then query other databases (**CDMS** and **JPL**) to retrieve the complete set of every spectral line emmission frequency for each identified molecule.  To do this, we need to know what `molecule_tag` to search for along with the database (_linelist_) it came from.\n",
    "\n",
    "The `SpectralQuery` library will do exactly this.  By supplying the _linelist_ to a `SpectralQuery` class object, and the `molecule_tag`, it will scrape the spectral emmisssion data from the appropriate web page and store it in a pandas data frame.  Since we don't know exactly how many queries we'll need to make, and since the number of rows each query returns is also unknown, the results are best saved in a dictionary for further usage.  The global dictionary `spectral_lines` will be constructed with this function.  Its keys will be the _Chemical Names_ from `all_molecules`, and its values will be the results returned from `SpectralQuery.getSpectralLines()`."
   ]
  },
  {
   "cell_type": "code",
   "execution_count": 8,
   "metadata": {},
   "outputs": [],
   "source": [
    "def pull_spectral_lines():\n",
    "    \"\"\"Scrapes the given database for the spectral lines emmitted by the molecule with the specified molecule_tag\"\"\"\n",
    "    print(\"Retrieving spectral line frequencies for molecules of interest...\")\n",
    "    for molecule in all_molecules.keys():\n",
    "        # Viable Linelist options are \"CDMS, JPL, or None.\"  If \"None\" (for \"Unknown\"), just pass\n",
    "        if all_molecules[molecule][\"Linelist\"] == \"CDMS\":\n",
    "            cdms.getSpectralLines(all_molecules[molecule][\"Molecule Tag\"])\n",
    "            spectral_lines[molecule] = cdms.lines\n",
    "        elif all_molecules[molecule][\"Linelist\"] == \"JPL\":\n",
    "            results = jpl.getSpectralLines(all_molecules[molecule][\"Molecule Tag\"])\n",
    "            spectral_lines[molecule] = jpl.lines\n",
    "        else:\n",
    "            continue\n",
    "    print(\"Done\\n\")"
   ]
  },
  {
   "cell_type": "markdown",
   "metadata": {},
   "source": [
    "# Main Script\n",
    "Set up global variables, preferences, and run the algorithm."
   ]
  },
  {
   "cell_type": "code",
   "execution_count": 9,
   "metadata": {
    "scrolled": false
   },
   "outputs": [],
   "source": [
    "# Options\n",
    "show_plot = False   # Whether or not to show the plot (doesn't seem to work in Jupyter Notebooks...)\n",
    "show_output = True  # Whether or not to view the all_molecules dictionary\n",
    "\n",
    "# Generte the plot if necessary\n",
    "if generate_plot:\n",
    "    fig, axs = create_plot()\n",
    "    axs = axs.flat\n",
    "\n",
    "# If all_molecules wasn't loaded in, generate and save it by running the find_molecules function\n",
    "if \"all_molecules\" not in locals():\n",
    "    all_molecules = {}  # This will store the molecule name and every frequency it is found at\n",
    "    find_molecules()\n",
    "    \n",
    "    # Save the all_molecules dictionary\n",
    "    pd.DataFrame.from_dict(all_molecules,\n",
    "                           columns = [\"Molecule Tag\",\n",
    "                                      \"Linelist\",\n",
    "                                      \"Occurances\"],\n",
    "                           orient = \"index\").to_csv(\"./Data/all_molecules.csv\")\n",
    "    \n",
    "# If spectral_lines wasn't loaded in, generate and save it by running the pull_spectral_lines function\n",
    "if \"spectral_lines\" not in locals():\n",
    "    # Define the global dictionary 'spectral_lines'\n",
    "    spectral_lines = {}\n",
    "    # Scrape the CDMS Database content\n",
    "    print(\"Parsing the Cologne Database for Molecular Spectroscopy...\")\n",
    "    cdms = SpectralQuery(\"CDMS\")\n",
    "    print(\"Done\\n\")\n",
    "    # Scrape the JPL Database content\n",
    "    print(\"Parsing the Jet Propulsion Laboratory Molecular Spectroscopy Database...\")\n",
    "    jpl  = SpectralQuery(\"JPL\")\n",
    "    print(\"Done\\n\")\n",
    "    # Iterate through each molecule in all_molecules to pull all their emmission frequencies\n",
    "    pull_spectral_lines()\n",
    "    \n",
    "    # Save the spectral_lines dictionary\n",
    "    with open('./Data/spectral_lines.pkl', 'wb') as file:\n",
    "        pickle.dump(spectral_lines, file, protocol = pickle.HIGHEST_PROTOCOL)"
   ]
  },
  {
   "cell_type": "markdown",
   "metadata": {},
   "source": [
    "# Output\n",
    "View whichever results were specified in the Main Script section."
   ]
  },
  {
   "cell_type": "code",
   "execution_count": 11,
   "metadata": {
    "scrolled": false
   },
   "outputs": [
    {
     "name": "stdout",
     "output_type": "stream",
     "text": [
      "Molecule        Molecule Tag    Linelist   Occurances\n",
      "&alpha;-Alanine\n",
      "                089503          CDMS       [237.43205]\n",
      "1,3-propanediol, gGG'g\n",
      "                076519          CDMS       [222.14231, 222.14231, 224.0277, 224.02819, 239.83556, 239.83556, 239.8712, 239.8712]\n",
      "2-Cyanobutane\n",
      "                083505          CDMS       [222.16282, 222.16282]\n",
      "3-Methylbutyronitrile\n",
      "                083506          CDMS       [222.15061, 222.15061, 222.15061, 222.15061, 222.15158, 222.15158]\n",
      "<i>cyclo</i>-Propyl cyanide\n",
      "                067503          CDMS       [239.7921]\n",
      "<i>n</i>-Propanol\n",
      "                060505          CDMS       [224.08826]\n",
      "Acetaldehyde\n",
      "                044003          JPL        [236.51743]\n",
      "Acetone\n",
      "                058003          JPL        [236.51304, 240.05921, 240.05921]\n",
      "Aminoacetonitrile\n",
      "                056507          CDMS       [222.12912]\n",
      "Aminoethanol\n",
      "                061004          JPL        [222.12863, 222.14963, 222.16379, 224.00134, 224.0277, 236.50962, 236.51695, 239.80821, 239.80919]\n",
      "Ammonia\n",
      "                018501          CDMS       [222.16721]\n",
      "Benzaldehyde\n",
      "                106501          CDMS       [239.62656, 239.62656, 239.62656, 239.62656, 239.82384]\n",
      "Benzonitrile\n",
      "                103501          CDMS       [222.1716, 222.1716]\n",
      "Bromine Dioxide\n",
      "                111001          JPL        [221.62616, 222.14182, 223.93395]\n",
      "Butyronitrile\n",
      "                069002          JPL        [222.10031, 239.87218, 239.87218]\n",
      "Chlorine nitrate\n",
      "                099001          JPL        [240.08997, 240.08997]\n",
      "Cyanobutadiyne\n",
      "                076511          CDMS       [224.01794]\n",
      "Cyanoethenone\n",
      "                067502          CDMS       [222.1008, 222.1008]\n",
      "Diethyl ether\n",
      "                074503          CDMS       [222.13059, 236.50913]\n",
      "Difluoromethane\n",
      "                052010          JPL        [236.51499]\n",
      "Diketene\n",
      "                084503          CDMS       [222.12912, 222.14133, 222.14133]\n",
      "Disulfurmonoxide\n",
      "                080503          CDMS       [224.02819]\n",
      "Ethyl Cyanide\n",
      "                055502          CDMS       [223.93346, 223.93346, 223.93346, 223.93346, 224.02819, 224.02819, 224.02819, 224.02819, 224.04577, 224.04577, 224.04577, 224.04577, 224.08826, 224.08826, 224.45889, 224.45889]\n",
      "Ethylene Glycol\n",
      "                062503          CDMS       [222.16575]\n",
      "Formaldehyde\n",
      "                033510          CDMS       [223.93346]\n",
      "Glycine\n",
      "                075002          JPL        [222.16428, 222.17112, 224.20789, 239.62656, 239.62656, 239.62656, 239.62656, 239.84972]\n",
      "Glycolaldehyde\n",
      "                060006          JPL        [222.16672, 236.51499, 237.09316, 237.09316, 237.09413, 237.09413]\n",
      "Hydroxyacetone\n",
      "                074003          JPL        [237.43303, 237.43351, 239.62802]\n",
      "Hydroxyl radical\n",
      "                019006          JPL        [222.17112]\n",
      "Manganese monoxide\n",
      "                071001          JPL        [224.0277]\n",
      "Methanimine\n",
      "                030514          CDMS       [240.31948]\n",
      "Methanol\n",
      "                032504          CDMS       [224.00134, 224.00134]\n",
      "Methyl Carbamate\n",
      "                075004          JPL        [239.83556]\n",
      "Methyl Formate\n",
      "                -60003          JPL        [240.08948]\n",
      "Methyl chloride\n",
      "                084001          JPL        [236.51646, 236.51646, 236.51646]\n",
      "Methyl formate, v<sub>t</sub> = 0, 1\n",
      "                061515          CDMS       [222.14133]\n",
      "Methyleneaminoacetonitrile\n",
      "                068506          CDMS       [239.82481]\n",
      "Nitric acid\n",
      "                065004          JPL        [222.10129, 222.14231, 236.51646]\n",
      "Ozone\n",
      "                049001          JPL        [224.0277]\n",
      "Peroxynitric acid\n",
      "                079001          JPL        [224.20741]\n",
      "Peroxynitrous acid\n",
      "                063009          JPL        [237.43351]\n",
      "Phenol\n",
      "                094501          CDMS       [222.09982, 224.02819, 224.02819, 224.02819, 224.02819]\n",
      "Phenylacetylene\n",
      "                102502          CDMS       [222.15158, 222.15158]\n",
      "Propane\n",
      "                044013          JPL        [236.5145]\n",
      "Propargyl Alcohol\n",
      "                056010          JPL        [236.51988, 236.51988]\n",
      "Propenal\n",
      "                056008          JPL        [240.42935, 240.42935]\n",
      "Sodium monoxide\n",
      "                039005          JPL        [237.43205]\n",
      "Sulfuric acid\n",
      "                098001          JPL        [222.14182]\n",
      "Tetrasulfur\n",
      "                128001          JPL        [222.16819]\n",
      "Trans - HONO\n",
      "                047007          JPL        [236.51988]\n",
      "Unknown\n",
      "                None            None       [221.62518, 221.62567, 222.09885, 222.09933, 222.12766, 222.12814, 222.13107, 222.13156, 222.14914, 222.15012, 222.1511, 222.16086, 222.16135, 222.16184, 222.16233, 222.1633, 222.16477, 222.16526, 222.16623, 222.1677, 222.16867, 222.17209, 222.91824, 223.55306, 223.55355, 223.86705, 223.93297, 224.00182, 224.00231, 224.0028, 224.00329, 224.00378, 224.01745, 224.02868, 224.08777, 224.08874, 224.20643, 224.20692, 225.23629, 236.50864, 236.51011, 236.5106, 236.51109, 236.51157, 236.51206, 236.51255, 236.51353, 236.51402, 236.51548, 236.51597, 236.51792, 236.51939, 237.09267, 237.09365, 237.09462, 237.43156, 237.43254, 239.62705, 239.62753, 239.79161, 239.8087, 239.80968, 239.81016, 239.82433, 239.8253, 239.82579, 239.83019, 239.83067, 239.83116, 239.83409, 239.83605, 239.83653, 239.84923, 239.85021, 239.87169, 240.08899, 240.09046, 240.31899]\n",
      "Vinyl Cyanide\n",
      "                054509          CDMS       [222.12961, 222.12961, 222.15061, 239.82921, 239.82921]\n",
      "anti-n-butyronitrile, v<sub>30</sub> = 1\n",
      "                060509          CDMS       [222.12717, 224.63859]\n",
      "anti-n-butyronitrile, v<sub>30</sub> = 2\n",
      "                069513          CDMS       [222.14182, 222.14182]\n",
      "gauche-Ethanol\n",
      "                046004          JPL        [236.51695, 236.51695]\n",
      "gauche-n-butyronitrile\n",
      "                069508          CDMS       [224.4584, 239.8297]\n",
      "gauche-n-butyronitrile, v<sub>29</sub> = 1\n",
      "                069510          CDMS       [222.16379, 222.16379]\n",
      "gauche-n-butyronitrile, v<sub>30</sub> = 2\n",
      "                069512          CDMS       [222.1301, 222.1301, 222.1301, 222.1301, 222.14963]\n",
      "n-Butyl cyanide\n",
      "                083502          CDMS       [224.63859]\n",
      "n-Butyronitrile, gauche/anti combined\n",
      "                069505          CDMS       [222.10031]\n"
     ]
    }
   ],
   "source": [
    "# Not sure why this doesn't work properly in a Jupyter Notebook.  Might be due to %magic...\n",
    "if show_plot:\n",
    "    plt.show()\n",
    "\n",
    "# Output all_molecules in an easily readable table format.\n",
    "if show_output:\n",
    "    print(\"{:<15} {:<15} {:<10} Occurances\".format('Molecule','Molecule Tag','Linelist'))\n",
    "    for molecule, values in all_molecules.items():\n",
    "        tag = all_molecules[molecule][\"Molecule Tag\"]\n",
    "        linelist = all_molecules[molecule][\"Linelist\"]\n",
    "        occurances = all_molecules[molecule][\"Occurances\"]\n",
    "        print(\"{}\".format(molecule))\n",
    "        print(\"{:<15} {:<15} {:<10} {}\".format(\"\", tag, linelist, occurances))"
   ]
  },
  {
   "cell_type": "code",
   "execution_count": null,
   "metadata": {},
   "outputs": [],
   "source": []
  }
 ],
 "metadata": {
  "celltoolbar": "Raw Cell Format",
  "kernelspec": {
   "display_name": "Python 3",
   "language": "python",
   "name": "python3"
  },
  "language_info": {
   "codemirror_mode": {
    "name": "ipython",
    "version": 3
   },
   "file_extension": ".py",
   "mimetype": "text/x-python",
   "name": "python",
   "nbconvert_exporter": "python",
   "pygments_lexer": "ipython3",
   "version": "3.7.2"
  },
  "toc": {
   "base_numbering": 1,
   "nav_menu": {},
   "number_sections": true,
   "sideBar": true,
   "skip_h1_title": false,
   "title_cell": "Table of Contents",
   "title_sidebar": "Contents",
   "toc_cell": false,
   "toc_position": {},
   "toc_section_display": true,
   "toc_window_display": false
  }
 },
 "nbformat": 4,
 "nbformat_minor": 2
}
