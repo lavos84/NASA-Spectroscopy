{
 "cells": [
  {
   "cell_type": "markdown",
   "metadata": {},
   "source": [
    "# Libraries"
   ]
  },
  {
   "cell_type": "code",
   "execution_count": 1,
   "metadata": {
    "scrolled": true
   },
   "outputs": [
    {
     "name": "stdout",
     "output_type": "stream",
     "text": [
      "gzip was not found on your system! You should solve this issue for astroquery.eso to be at its best!\n",
      "On POSIX system: make sure gzip is installed and in your path!On Windows: same for 7-zip (http://www.7-zip.org)!\n"
     ]
    }
   ],
   "source": [
    "import numpy as np\n",
    "import matplotlib.pyplot as plt\n",
    "import os.path\n",
    "import pandas as pd\n",
    "from astroquery.splatalogue import Splatalogue  # We must acknowledge authors for use of this library\n",
    "from astropy import units as u\n",
    "from SpectralQuery import SpectralQuery\n",
    "import pickle"
   ]
  },
  {
   "cell_type": "markdown",
   "metadata": {},
   "source": [
    "# Data\n",
    "The data comes from 4 text files.  Each file contains 2 columns of data, _frequency_ and _flux_.  We'll only need to read in the data if we don't already know which molecules could be contained within the frequencies (by running the code)."
   ]
  },
  {
   "cell_type": "code",
   "execution_count": 2,
   "metadata": {},
   "outputs": [
    {
     "name": "stdout",
     "output_type": "stream",
     "text": [
      "\n",
      "--- Reading in data ---\n",
      "--- Complete ---\n",
      "\n",
      "\n",
      "--- Loading in all_molecules ---\n",
      "--- Complete ---\n",
      "\n"
     ]
    }
   ],
   "source": [
    "# read in the data\n",
    "print(\"\\n--- Reading in data ---\")\n",
    "filenames = [\"./Data/Win0.clean1.contsub_Jy.rest.scom.c.txt\",\n",
    "             \"./Data/Win1.clean1.contsub_Jy.rest.scom.c.txt\",\n",
    "             \"./Data/Win2.clean1.contsub_Jy.rest.scom.c.txt\",\n",
    "             \"./Data/Win3.clean1.contsub_Jy.rest.scom.c.txt\"]\n",
    "# 'data' will be a 4 element list, with each element representing the data from 1 text file\n",
    "data = [np.loadtxt(f) for f in filenames]\n",
    "generate_plot = True\n",
    "print(\"--- Complete ---\\n\")\n",
    "\n",
    "# Read in all_molecules if it exists\n",
    "if os.path.isfile('./Data/all_molecules.csv'):\n",
    "    print(\"\\n--- Loading in all_molecules ---\")\n",
    "    all_molecules = pd.read_csv('./Data/all_molecules.csv', header = 0, index_col = 0).to_dict(orient = \"index\")\n",
    "    generate_plot = False   # Whether or not to generate the plot\n",
    "    print(\"--- Complete ---\\n\")\n",
    "\n",
    "# read in spectral_lines if it exists   \n",
    "if os.path.isfile('./Data/spectral_lines.pkl'):\n",
    "    print(\"\\n--- Loading in spectral_lines ---\")\n",
    "    with open('./Data/spectral_lines.pkl', 'rb') as file:\n",
    "        spectral_lines = pickle.load(file)\n",
    "    spectral_lines = {key: pd.DataFrame.from_dict(value, dtype = np.float64) for key, value in spectral_lines.items()}\n",
    "    print(\"--- Complete ---\\n\")"
   ]
  },
  {
   "cell_type": "markdown",
   "metadata": {},
   "source": [
    "## Functions"
   ]
  },
  {
   "cell_type": "markdown",
   "metadata": {},
   "source": [
    "### create_plot()\n",
    "This function will generate a figure with 4 axes and produce a plot of the frequency versus flux of the raw data.  It will then return the figure and handle to those axes."
   ]
  },
  {
   "cell_type": "code",
   "execution_count": 3,
   "metadata": {},
   "outputs": [],
   "source": [
    "def create_plot():\n",
    "    \"\"\" Recreate the plot from Cordiner et. al. 2015, Figure 1 \"\"\"\n",
    "    # Defining the figure might need more finess if there are more than 4 datasets\n",
    "    # We need to consult a domain expert to learn if ALMA data always comes back with 4 datasets\n",
    "    fig, axs = plt.subplots(2, 2, figsize = (10, 6))\n",
    "    for index, ax in enumerate(axs.flat):\n",
    "        # Plot each data set\n",
    "        ax.plot(data[index][:,0],\n",
    "                data[index][:,1],\n",
    "                linewidth = 0.25)\n",
    "        ax.set(ylabel = \"Flux (Jy)\")\n",
    "        ax.set(xlabel = \"Frequency (GHz)\")\n",
    "        # Clean up the xticks\n",
    "        ax.set_xticks(np.arange(round(data[index][0,0], 1), round(data[index][-1,0], 1), step = 0.5))\n",
    "        # Remove the space from the borders of the plot along the X axis\n",
    "        ax.autoscale(enable = True, axis = 'x', tight = True)\n",
    "    # Add some space between the plots\n",
    "    plt.subplots_adjust(hspace = .3, wspace = .3)\n",
    "    return fig, axs"
   ]
  },
  {
   "cell_type": "markdown",
   "metadata": {},
   "source": [
    "### add_lines(id, molecules)\n",
    "This function adds dashed lines to a specified axis (`id`) at every frequency passed in by `molecules`.  `molecules` is a dictionary whose keys are the _frequencies_ above the 3$\\sigma$ threshold and whose values are the _Chemical names_ of molecules that have a spectral line at that frequency, and also their _Molecule Tag_.  So each frequency will have a dictionary inside it with keys _Chemical Name_ and _Molecule Tag_ with values pulled from the results of a Splatalogue query."
   ]
  },
  {
   "cell_type": "code",
   "execution_count": 4,
   "metadata": {},
   "outputs": [],
   "source": [
    "def add_lines(id, molecules):\n",
    "    \"\"\"This function will add dashed lines to the plot where molecules were detected\"\"\"\n",
    "    for freq in molecules.keys():\n",
    "        axs[id].axvline(x = float(freq),\n",
    "                        ymin = 0,\n",
    "                        ymax = 1,\n",
    "                        dashes = [18, 6],\n",
    "                        linewidth = 0.25,\n",
    "                        color = \"gray\",\n",
    "                        alpha = 0.5)"
   ]
  },
  {
   "cell_type": "markdown",
   "metadata": {},
   "source": [
    "### find_molecules()\n",
    "This function constructs 2 dictionaries.  The first dictionary created is `molecules.`  `molecules` is a dictionary whose keys are the _frequencies_ above the 3$\\sigma$ threshold and whose values are the _Chemical names_ of molecules that have a spectral line at that frequency, and also their _Molecule Tag_.  So each frequency will have a dictionary inside it with keys _Chemical Name_ and _Molecule Tag_ with values pulled from the results of a Splatalogue query.  `molecules` is unique to each axis on the figure.  That is, since there are 4 axes on the figure, `molecules` gets generated 4 times.  Each time those frequencies get passed to `add_lines(id, molecules)` along with the `id` of the axis that it is meant for.\n",
    "\n",
    "The second dictionary is a global dictionary, `all_molecules`.  This dictionary's keys are the unique _Chemical Names_ identified from all 4 generations of the `molecules` dictionary.  The values are another dictionary with keys _Occurances_, _Molecule Tag_, and _Linelist_ whose values are the frequencies of spectral emissions this molecule was found at in the data, the molecule tag number, and the linelist representing what database the data was pulled from, respectively.\n",
    "\n",
    "The `molecules` dictionary is generated by first identifying all frequencies where the flux exceeds the 3$\\sigma$ threshold (where a flux value is greater than 3 standard deviations away from the mean).  Then, for each frequency that meets this criteria, a query to the Splatalogue API is made at that frequency $\\pm$ some `delta` (initially set to 50kHz).  If the query returns any results, they are added to the `molecules` and `all_molecules` dictionarys."
   ]
  },
  {
   "cell_type": "code",
   "execution_count": 5,
   "metadata": {},
   "outputs": [],
   "source": [
    "def find_molecules():\n",
    "    \"\"\" Classify the molecules from their frequency for each dataset \"\"\"\n",
    "    for id, dataset in enumerate(data):\n",
    "        # Locate the indices where the flux is greater than 3 standard deviations\n",
    "        # There are 4 datasets.  Column 0 is the frequency, column 1 is the flux\n",
    "        # Splatalogue appears to be accurate up to 5 decimal places\n",
    "        molecules = {}  # An empty dictionary to store the results of each detected molecule and rest frequency\n",
    "        delta = 0.00005 # +/- when searching frequencies\n",
    "        frequencies = np.round(dataset[np.where( dataset[:, 1] >= 3 * np.std(dataset[:, 1])), 0], 5)[0]\n",
    "        for freq in frequencies:\n",
    "            # Query Splatalogue at each frequency +/- delta using the CDMS and JPL databases\n",
    "            results = Splatalogue.query_lines( (freq - delta)*u.GHz, (freq + delta)*u.GHz,\n",
    "                                                show_molecule_tag = True,\n",
    "                                                top20 = 'planet',\n",
    "                                                line_lists = ['CDMS', 'JPL'],\n",
    "                                                line_strengths = 'ls1')\n",
    "            # Append the chemical names corresponding to the searched frequency.\n",
    "            if len(results) > 0:\n",
    "                molecules[freq] = {\"Chemical Name\": results[\"Chemical Name\"].tolist(),\n",
    "                                   \"Molecule Tag\": results[\"Molecule<br>Tag\"].tolist()}\n",
    "            else:\n",
    "                molecules[freq] = {\"Chemical Name\": \"Unknown\",\n",
    "                                   \"Molecule Tag\": None}\n",
    "        \n",
    "            # Append the chemical name and frequency to the dictionary of all molecules found\n",
    "            if len(results) > 0:\n",
    "                for i, molecule in enumerate(results[\"Chemical Name\"].tolist()):\n",
    "                    if molecule in all_molecules.keys():\n",
    "                        all_molecules[molecule][\"Occurances\"].append(freq)\n",
    "                    else:\n",
    "                        # Add leading 0's to the Molecule Tag if it's less than 6 characters\n",
    "                        molecule_tag = \"0\" + str(results[\"Molecule<br>Tag\"][i]) if len(str(results[\"Molecule<br>Tag\"][i])) < 6 else str(results[\"Molecule<br>Tag\"][i])\n",
    "                        # You might find a '-' for the first character.  If so, change it to a 0\n",
    "                        if \"-\" in molecule_tag: molecule_tag = \"0\" + molecule_tag[1:]\n",
    "                        # The molecule is new.  Add its tag, linelist, and frequency to all_molecules\n",
    "                        all_molecules[molecule] = {\"Molecule Tag\": molecule_tag,\n",
    "                                                   \"Linelist\": results[\"Linelist\"][i],\n",
    "                                                   \"Occurances\": [freq]}\n",
    "            else:\n",
    "                # If the query returns no results, then we've found a significant emmission frequency with\n",
    "                # no known molecule associated with it.\n",
    "                if \"Unknown\" in all_molecules.keys():\n",
    "                    all_molecules[\"Unknown\"][\"Occurances\"].append(freq)\n",
    "                else:\n",
    "                    all_molecules[\"Unknown\"] = {\"Molecule Tag\": \"None\",\n",
    "                                                \"Linelist\": \"None\",\n",
    "                                                \"Occurances\": [freq]}\n",
    "        add_lines(id, molecules)"
   ]
  },
  {
   "cell_type": "markdown",
   "metadata": {},
   "source": [
    "### pull_spectral_lines(SpectralQuery, molecule_tag)\n",
    "\n",
    "Once all the molecules that could be in the data have been identified, we can then query other databases (**CDMS** and **JPL**) to retrieve the complete set of every spectral line emmission frequency for each identified molecule.  To do this, we need to know what `molecule_tag` to search for along with the database (_linelist_) it came from.\n",
    "\n",
    "The `SpectralQuery` library will do exactly this.  By supplying the _linelist_ to a `SpectralQuery` class object, and the `molecule_tag`, it will scrape the spectral emmisssion data from the appropriate web page and store it in a pandas data frame.  Since we don't know exactly how many queries we'll need to make, and since the number of rows each query returns is also unknown, the results are best saved in a dictionary for further usage.  The global dictionary `spectral_lines` will be constructed with this function.  Its keys will be the _Chemical Names_ from `all_molecules`, and its values will be the results returned from `SpectralQuery.getSpectralLines()`."
   ]
  },
  {
   "cell_type": "code",
   "execution_count": 3,
   "metadata": {},
   "outputs": [],
   "source": [
    "def pull_spectral_lines(spectral_lines):\n",
    "    \"\"\"Scrapes the given database for the spectral lines emmitted by the molecule with the specified molecule_tag\"\"\"\n",
    "    print(\"Retrieving spectral line frequencies for molecules of interest...\")\n",
    "    for molecule in all_molecules.keys():\n",
    "        # Viable Linelist options are \"CDMS, JPL, or None.\"  If \"None\" (for \"Unknown\"), just pass\n",
    "        if all_molecules[molecule][\"Linelist\"] == \"CDMS\":\n",
    "            cdms.getSpectralLines(all_molecules[molecule][\"Molecule Tag\"])\n",
    "            spectral_lines[molecule] = cdms.lines\n",
    "        elif all_molecules[molecule][\"Linelist\"] == \"JPL\":\n",
    "            results = jpl.getSpectralLines(all_molecules[molecule][\"Molecule Tag\"])\n",
    "            spectral_lines[molecule] = jpl.lines\n",
    "        else:\n",
    "            continue\n",
    "    spectral_lines = {key: pd.DataFrame.from_dict(value, dtype = np.float64) for key, value in spectral_lines.items()}\n",
    "    return spectral_lines\n",
    "    print(\"Done\\n\")"
   ]
  },
  {
   "cell_type": "markdown",
   "metadata": {},
   "source": [
    "## Generate Queries\n",
    "\n",
    "Set up global variables, preferences, and run the algorithm."
   ]
  },
  {
   "cell_type": "code",
   "execution_count": 4,
   "metadata": {
    "scrolled": false
   },
   "outputs": [
    {
     "name": "stdout",
     "output_type": "stream",
     "text": [
      "Parsing the Cologne Database for Molecular Spectroscopy...\n",
      "Done\n",
      "\n",
      "Parsing the Jet Propulsion Laboratory Molecular Spectroscopy Database...\n",
      "Done\n",
      "\n",
      "Retrieving spectral line frequencies for molecules of interest...\n"
     ]
    }
   ],
   "source": [
    "# Options\n",
    "show_plot = False   # Whether or not to show the plot (doesn't seem to work in Jupyter Notebooks...)\n",
    "show_output = False  # Whether or not to view the all_molecules dictionary\n",
    "min_freq = data[0][0][0]  # The first frequency value in the data\n",
    "max_freq = data[-1][-1][0]  # The last frequency value in the data\n",
    "\n",
    "# Generte the plot if necessary\n",
    "if generate_plot:\n",
    "    fig, axs = create_plot()\n",
    "    axs = axs.flat\n",
    "\n",
    "# If all_molecules wasn't loaded in, generate and save it by running the find_molecules function\n",
    "if \"all_molecules\" not in locals():\n",
    "    all_molecules = {}  # This will store the molecule name and every frequency it is found at\n",
    "    find_molecules()\n",
    "    \n",
    "    # Save the all_molecules dictionary\n",
    "    pd.DataFrame.from_dict(all_molecules,\n",
    "                           columns = [\"Molecule Tag\",\n",
    "                                      \"Linelist\",\n",
    "                                      \"Occurances\"],\n",
    "                           orient = \"index\").to_csv(\"./Data/all_molecules.csv\")\n",
    "    \n",
    "# If spectral_lines wasn't loaded in, generate and save it by running the pull_spectral_lines function\n",
    "if \"spectral_lines\" not in locals():\n",
    "    # Define the dictionary 'spectral_lines'\n",
    "    spectral_lines = {}\n",
    "    # Scrape the CDMS Database content\n",
    "    print(\"Parsing the Cologne Database for Molecular Spectroscopy...\")\n",
    "    cdms = SpectralQuery(\"CDMS\")\n",
    "    print(\"Done\\n\")\n",
    "    # Scrape the JPL Database content\n",
    "    print(\"Parsing the Jet Propulsion Laboratory Molecular Spectroscopy Database...\")\n",
    "    jpl  = SpectralQuery(\"JPL\")\n",
    "    print(\"Done\\n\")\n",
    "    # Iterate through each molecule in all_molecules to pull all their emmission frequencies\n",
    "    spectral_lines = pull_spectral_lines(spectral_lines)\n",
    "    # Discard entries that are outside the bounds of our data [min_freq, max_freq]\n",
    "    for molecule in spectral_lines.keys():\n",
    "        spectral_lines[molecule] = spectral_lines[molecule][(spectral_lines[molecule][\"frequency\"] >= min_freq) & \n",
    "                                                            (spectral_lines[molecule][\"frequency\"] <= max_freq)]\n",
    "    # Save the spectral_lines dictionary\n",
    "    with open('./Data/spectral_lines.pkl', 'wb') as file:\n",
    "        pickle.dump(spectral_lines, file, protocol = pickle.HIGHEST_PROTOCOL)"
   ]
  },
  {
   "cell_type": "markdown",
   "metadata": {},
   "source": [
    "# Output\n",
    "View whichever results were specified in the Main Script section."
   ]
  },
  {
   "cell_type": "code",
   "execution_count": 8,
   "metadata": {
    "scrolled": true
   },
   "outputs": [],
   "source": [
    "# Not sure why this doesn't work properly in a Jupyter Notebook.  Might be due to %magic...\n",
    "if show_plot:\n",
    "    plt.show()\n",
    "\n",
    "# Output all_molecules in an easily readable table format.\n",
    "if show_output:\n",
    "    print(\"{:<15} {:<15} {:<10} Occurances\".format('Molecule','Molecule Tag','Linelist'))\n",
    "    for molecule, values in all_molecules.items():\n",
    "        tag = all_molecules[molecule][\"Molecule Tag\"]\n",
    "        linelist = all_molecules[molecule][\"Linelist\"]\n",
    "        occurances = all_molecules[molecule][\"Occurances\"]\n",
    "        print(\"{}\".format(molecule))\n",
    "        print(\"{:<15} {:<15} {:<10} {}\".format(\"\", tag, linelist, occurances))"
   ]
  },
  {
   "cell_type": "code",
   "execution_count": 11,
   "metadata": {},
   "outputs": [
    {
     "data": {
      "text/plain": [
       "dict_items([('&alpha;-Alanine', Empty DataFrame\n",
       "Columns: [frequency, uncertainty, intensity]\n",
       "Index: []), (\"1,3-propanediol, gGG'g\", Empty DataFrame\n",
       "Columns: [frequency, uncertainty, intensity]\n",
       "Index: []), ('2-Cyanobutane', Empty DataFrame\n",
       "Columns: [frequency, uncertainty, intensity]\n",
       "Index: []), ('3-Methylbutyronitrile', Empty DataFrame\n",
       "Columns: [frequency, uncertainty, intensity]\n",
       "Index: []), ('<i>cyclo</i>-Propyl cyanide', Empty DataFrame\n",
       "Columns: [frequency, uncertainty, intensity]\n",
       "Index: []), ('<i>n</i>-Propanol', Empty DataFrame\n",
       "Columns: [frequency, uncertainty, intensity]\n",
       "Index: []), ('Acetaldehyde', Empty DataFrame\n",
       "Columns: [frequency, uncertainty, intensity]\n",
       "Index: []), ('Acetone', Empty DataFrame\n",
       "Columns: [frequency, uncertainty, intensity]\n",
       "Index: []), ('Aminoacetonitrile', Empty DataFrame\n",
       "Columns: [frequency, uncertainty, intensity]\n",
       "Index: []), ('Aminoethanol',      frequency  uncertainty  intensity\n",
       "208   221.5285       0.0438   -11.6856\n",
       "209   222.0764       0.0096   -11.0424\n",
       "210   223.0620       0.0194   -11.2356\n",
       "211   224.5582       0.0009   -11.5517\n",
       "212   225.4653       0.0026   -11.6467\n",
       "213   225.8185       0.0006   -10.8854\n",
       "214   225.9870       0.0011   -11.0281\n",
       "215   226.2492       0.0011   -11.1139\n",
       "216   227.6223       0.0034   -11.6033\n",
       "217   227.9282       0.0046   -11.7056\n",
       "218   228.3182       0.0003   -10.6346\n",
       "219   229.6190       0.0009   -11.7089\n",
       "220   232.2293       0.0004   -10.6317\n",
       "221   232.2855       0.0015   -11.1131\n",
       "222   235.9432       0.0007   -11.5764\n",
       "223   238.4528       0.0038   -11.5241\n",
       "224   238.9929       0.0138   -11.1763), ('Ammonia', Empty DataFrame\n",
       "Columns: [frequency, uncertainty, intensity]\n",
       "Index: []), ('Benzaldehyde', Empty DataFrame\n",
       "Columns: [frequency, uncertainty, intensity]\n",
       "Index: []), ('Benzonitrile', Empty DataFrame\n",
       "Columns: [frequency, uncertainty, intensity]\n",
       "Index: []), ('Bromine Dioxide', Empty DataFrame\n",
       "Columns: [frequency, uncertainty, intensity]\n",
       "Index: []), ('Butyronitrile', Empty DataFrame\n",
       "Columns: [frequency, uncertainty, intensity]\n",
       "Index: []), ('Chlorine nitrate', Empty DataFrame\n",
       "Columns: [frequency, uncertainty, intensity]\n",
       "Index: []), ('Cyanobutadiyne', Empty DataFrame\n",
       "Columns: [frequency, uncertainty, intensity]\n",
       "Index: []), ('Cyanoethenone', Empty DataFrame\n",
       "Columns: [frequency, uncertainty, intensity]\n",
       "Index: []), ('Diethyl ether', Empty DataFrame\n",
       "Columns: [frequency, uncertainty, intensity]\n",
       "Index: []), ('Difluoromethane', Empty DataFrame\n",
       "Columns: [frequency, uncertainty, intensity]\n",
       "Index: []), ('Diketene', Empty DataFrame\n",
       "Columns: [frequency, uncertainty, intensity]\n",
       "Index: []), ('Disulfurmonoxide', Empty DataFrame\n",
       "Columns: [frequency, uncertainty, intensity]\n",
       "Index: []), ('Ethyl Cyanide', Empty DataFrame\n",
       "Columns: [frequency, uncertainty, intensity]\n",
       "Index: []), ('Ethylene Glycol', Empty DataFrame\n",
       "Columns: [frequency, uncertainty, intensity]\n",
       "Index: []), ('Formaldehyde', Empty DataFrame\n",
       "Columns: [frequency, uncertainty, intensity]\n",
       "Index: []), ('Glycine',    frequency  uncertainty  intensity\n",
       "8   241.1261       0.0484   -10.7684), ('Glycolaldehyde', Empty DataFrame\n",
       "Columns: [frequency, uncertainty, intensity]\n",
       "Index: []), ('Hydroxyacetone', Empty DataFrame\n",
       "Columns: [frequency, uncertainty, intensity]\n",
       "Index: []), ('Hydroxyl radical',     frequency  uncertainty  intensity\n",
       "43   234.8915       0.0549   -14.6251\n",
       "44   239.1820       0.0548   -12.3798), ('Manganese monoxide', Empty DataFrame\n",
       "Columns: [frequency, uncertainty, intensity]\n",
       "Index: []), ('Methanimine', Empty DataFrame\n",
       "Columns: [frequency, uncertainty, intensity]\n",
       "Index: []), ('Methanol',      frequency  uncertainty  intensity\n",
       "419    222.675        0.001   -11.4218\n",
       "420    227.376        0.001   -10.7960\n",
       "421    236.574        0.008   -13.0748\n",
       "422    236.831        0.023   -12.7255), ('Methyl Carbamate', Empty DataFrame\n",
       "Columns: [frequency, uncertainty, intensity]\n",
       "Index: []), ('Methyl Formate', Empty DataFrame\n",
       "Columns: [frequency, uncertainty, intensity]\n",
       "Index: []), ('Methyl chloride', Empty DataFrame\n",
       "Columns: [frequency, uncertainty, intensity]\n",
       "Index: []), ('Methyl formate, v<sub>t</sub> = 0, 1', Empty DataFrame\n",
       "Columns: [frequency, uncertainty, intensity]\n",
       "Index: []), ('Methyleneaminoacetonitrile', Empty DataFrame\n",
       "Columns: [frequency, uncertainty, intensity]\n",
       "Index: []), ('Nitric acid', Empty DataFrame\n",
       "Columns: [frequency, uncertainty, intensity]\n",
       "Index: []), ('Ozone', Empty DataFrame\n",
       "Columns: [frequency, uncertainty, intensity]\n",
       "Index: []), ('Peroxynitric acid', Empty DataFrame\n",
       "Columns: [frequency, uncertainty, intensity]\n",
       "Index: []), ('Peroxynitrous acid',     frequency  uncertainty  intensity\n",
       "22   238.8933       0.0001   -11.7082\n",
       "23   238.9967       0.0001   -11.2661\n",
       "24   239.1827       0.0002   -11.5188), ('Phenol',    frequency  uncertainty  intensity\n",
       "9   223.4531       0.0019   -12.6657), ('Phenylacetylene',    frequency  uncertainty  intensity\n",
       "3   230.0905       0.0003   -11.7834), ('Propane', Empty DataFrame\n",
       "Columns: [frequency, uncertainty, intensity]\n",
       "Index: []), ('Propargyl Alcohol',     frequency  uncertainty  intensity\n",
       "25   226.2601       0.0002   -11.1693\n",
       "26   235.2136       0.0012   -11.9506), ('Propenal', Empty DataFrame\n",
       "Columns: [frequency, uncertainty, intensity]\n",
       "Index: []), ('Sodium monoxide',    frequency  uncertainty  intensity\n",
       "0   226.5598       0.3628    -8.9951), ('Sulfuric acid',      frequency  uncertainty  intensity\n",
       "98    226.3555       1.1118   -11.4390\n",
       "99    230.1037       0.0106   -10.6125\n",
       "100   232.2012       0.0148    -9.4818\n",
       "101   236.5513       0.0129    -9.6938\n",
       "102   238.6618       0.3305   -10.5505), ('Tetrasulfur', Empty DataFrame\n",
       "Columns: [frequency, uncertainty, intensity]\n",
       "Index: []), ('Trans - HONO', Empty DataFrame\n",
       "Columns: [frequency, uncertainty, intensity]\n",
       "Index: []), ('Vinyl Cyanide', Empty DataFrame\n",
       "Columns: [frequency, uncertainty, intensity]\n",
       "Index: []), ('anti-n-butyronitrile, v<sub>30</sub> = 1', Empty DataFrame\n",
       "Columns: [frequency, uncertainty, intensity]\n",
       "Index: []), ('anti-n-butyronitrile, v<sub>30</sub> = 2', Empty DataFrame\n",
       "Columns: [frequency, uncertainty, intensity]\n",
       "Index: []), ('gauche-Ethanol', Empty DataFrame\n",
       "Columns: [frequency, uncertainty, intensity]\n",
       "Index: []), ('gauche-n-butyronitrile', Empty DataFrame\n",
       "Columns: [frequency, uncertainty, intensity]\n",
       "Index: []), ('gauche-n-butyronitrile, v<sub>29</sub> = 1', Empty DataFrame\n",
       "Columns: [frequency, uncertainty, intensity]\n",
       "Index: []), ('gauche-n-butyronitrile, v<sub>30</sub> = 2', Empty DataFrame\n",
       "Columns: [frequency, uncertainty, intensity]\n",
       "Index: []), ('n-Butyl cyanide', Empty DataFrame\n",
       "Columns: [frequency, uncertainty, intensity]\n",
       "Index: []), ('n-Butyronitrile, gauche/anti combined', Empty DataFrame\n",
       "Columns: [frequency, uncertainty, intensity]\n",
       "Index: [])])"
      ]
     },
     "execution_count": 11,
     "metadata": {},
     "output_type": "execute_result"
    }
   ],
   "source": [
    "spectral_lines.items()"
   ]
  },
  {
   "cell_type": "code",
   "execution_count": null,
   "metadata": {},
   "outputs": [],
   "source": []
  }
 ],
 "metadata": {
  "celltoolbar": "Raw Cell Format",
  "kernelspec": {
   "display_name": "Python 3",
   "language": "python",
   "name": "python3"
  },
  "language_info": {
   "codemirror_mode": {
    "name": "ipython",
    "version": 3
   },
   "file_extension": ".py",
   "mimetype": "text/x-python",
   "name": "python",
   "nbconvert_exporter": "python",
   "pygments_lexer": "ipython3",
   "version": "3.7.2"
  },
  "toc": {
   "base_numbering": 1,
   "nav_menu": {},
   "number_sections": true,
   "sideBar": true,
   "skip_h1_title": false,
   "title_cell": "Table of Contents",
   "title_sidebar": "Contents",
   "toc_cell": false,
   "toc_position": {},
   "toc_section_display": true,
   "toc_window_display": false
  }
 },
 "nbformat": 4,
 "nbformat_minor": 2
}
