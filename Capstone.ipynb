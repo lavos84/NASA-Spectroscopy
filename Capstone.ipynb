{
 "cells": [
  {
   "cell_type": "markdown",
   "metadata": {},
   "source": [
    "# Libraries"
   ]
  },
  {
   "cell_type": "code",
   "execution_count": 1,
   "metadata": {
    "ExecuteTime": {
     "end_time": "2020-02-17T03:57:25.823068Z",
     "start_time": "2020-02-17T03:57:09.783392Z"
    },
    "scrolled": true
   },
   "outputs": [
    {
     "name": "stdout",
     "output_type": "stream",
     "text": [
      "gzip was not found on your system! You should solve this issue for astroquery.eso to be at its best!\n",
      "On POSIX system: make sure gzip is installed and in your path!On Windows: same for 7-zip (http://www.7-zip.org)!\n"
     ]
    }
   ],
   "source": [
    "import numpy as np\n",
    "import matplotlib.pyplot as plt\n",
    "import os.path\n",
    "import pandas as pd\n",
    "from astroquery.splatalogue import Splatalogue  # We must acknowledge authors for use of this library\n",
    "from astropy import units as u\n",
    "from SpectralQuery import SpectralQuery\n",
    "import pickle\n",
    "from collections import Counter\n",
    "import ipywidgets as widgets\n",
    "from IPython.display import display\n",
    "%matplotlib inline"
   ]
  },
  {
   "cell_type": "markdown",
   "metadata": {},
   "source": [
    "# Data\n",
    "The data comes from 4 text files.  Each file contains 2 columns of data, _frequency_ and _flux_.  This will get stored in a list so that we can access them one by one.\n",
    "\n",
    "A np.array representing all data sets will also be available.  The units here are converted to MHz for consistency with return results from Splatalogue, CDMS, and JPL databases.  We also identify the min and max frequency of each data set here since the data may not be continuous across every file.\n",
    "\n",
    "At various points during development, files will be written to the local hard drive in order to reduce processing time on subsequent runs of this notebook.  The all_molecules.csv file contains the information necessary to skip the `find_molecules` function.  The spectral_lines.pkl file contains the CDMS and JPL database entries for each molecule of interest and once read in, allows us to skip the portion of code that generates it (~10 minutes of processing).  The spectral_complete.pkl file contains all information necessary for analysis to proceed."
   ]
  },
  {
   "cell_type": "code",
   "execution_count": 2,
   "metadata": {
    "ExecuteTime": {
     "end_time": "2020-02-17T03:57:28.158635Z",
     "start_time": "2020-02-17T03:57:25.826068Z"
    },
    "code_folding": []
   },
   "outputs": [
    {
     "name": "stdout",
     "output_type": "stream",
     "text": [
      "\n",
      "--- Reading in data ---\n",
      "--- Complete ---\n",
      "\n",
      "\n",
      "--- Loading in all_molecules ---\n",
      "--- Complete ---\n",
      "\n",
      "\n",
      "--- Loading in spectral_lines ---\n",
      "--- Complete ---\n",
      "\n",
      "\n",
      "--- Loading in spectral_complete ---\n",
      "--- Complete ---\n",
      "\n"
     ]
    }
   ],
   "source": [
    "# read in the data\n",
    "print(\"\\n--- Reading in data ---\")\n",
    "path = \"./Data/Titan\"\n",
    "filenames = os.listdir(path)\n",
    "# 'data' will be a 4 element list, with each element representing the data from 1 text file\n",
    "data = [np.loadtxt(path + \"/\" + f) \n",
    "        for f in filenames if f not in [\"all_molecules.csv\", \"spectral_lines.pkl\", \"spectral_complete.pkl\"]]\n",
    "full_data = np.concatenate(data)  # One giant numpy array containing all the data\n",
    "full_data[:,0] = np.round(full_data[:,0] * 1000, 5)  # Frequences in MHz rounded to 5 decimal places\n",
    "# Create empty lists for the min and max frequency of the data\n",
    "min_freqs = []\n",
    "max_freqs = []    \n",
    "# Determine the min and max frequency (in MHz) in each dataset    \n",
    "for dataset in data:\n",
    "    # Each dataset provided has a different min and max frequency.  We need to find them all.\n",
    "    min_freqs.append(dataset[0][0] * 1000)\n",
    "    max_freqs.append(dataset[-1][0] * 1000)\n",
    "generate_plot = True\n",
    "print(\"--- Complete ---\\n\")\n",
    "\n",
    "# Read in all_molecules if it exists\n",
    "if os.path.isfile(path + '/all_molecules.csv'):\n",
    "    print(\"\\n--- Loading in all_molecules ---\")\n",
    "    all_molecules = pd.read_csv(path + '/all_molecules.csv', header = 0, index_col = 0).to_dict(orient = \"index\")\n",
    "    generate_plot = False   # Whether or not to generate the plot\n",
    "    all_molecules_loaded = True    # Whether or not this dictionary was loaded in from a csv\n",
    "    print(\"--- Complete ---\\n\")\n",
    "else:\n",
    "    all_molecules_loaded = False\n",
    "\n",
    "# read in spectral_lines if it exists   \n",
    "if os.path.isfile(path + '/spectral_lines.pkl'):\n",
    "    print(\"\\n--- Loading in spectral_lines ---\")\n",
    "    with open(path + '/spectral_lines.pkl', 'rb') as file:\n",
    "        spectral_lines = pickle.load(file)\n",
    "    spectral_lines = {key: pd.DataFrame.from_dict(value, dtype = np.float64) for key, value in spectral_lines.items()}\n",
    "    print(\"--- Complete ---\\n\")\n",
    "\n",
    "# read in spectral_complete if it exists   \n",
    "if os.path.isfile(path + '/spectral_complete.pkl'):\n",
    "    print(\"\\n--- Loading in spectral_complete ---\")\n",
    "    with open(path + '/spectral_complete.pkl', 'rb') as file:\n",
    "        spectral_complete = pickle.load(file)\n",
    "    spectral_complete = {key: pd.DataFrame.from_dict(value).astype({\"frequency\": np.float64, \n",
    "                                                                    \"uncertainty\": np.float64,\n",
    "                                                                    \"intensity\": np.float64,\n",
    "                                                                    \"closest\": np.float64,\n",
    "                                                                    \"flux\": np.float64,\n",
    "                                                                    \"spike\": bool}) for key, value in spectral_complete.items()}\n",
    "    print(\"--- Complete ---\\n\")"
   ]
  },
  {
   "cell_type": "markdown",
   "metadata": {},
   "source": [
    "## Functions"
   ]
  },
  {
   "cell_type": "markdown",
   "metadata": {},
   "source": [
    "### create_plot()\n",
    "This function will generate a figure with 4 axes and produce a plot of the frequency versus flux of the raw data.  It will then return the figure and handle to those axes."
   ]
  },
  {
   "cell_type": "code",
   "execution_count": 3,
   "metadata": {
    "ExecuteTime": {
     "end_time": "2020-02-17T03:57:28.173641Z",
     "start_time": "2020-02-17T03:57:28.161689Z"
    },
    "code_folding": []
   },
   "outputs": [],
   "source": [
    "def create_plot(plot_data):\n",
    "    \"\"\" Recreate the plot from Cordiner et. al. 2015, Figure 1 \"\"\"\n",
    "    # Defining the figure might need more finess if there are more than 4 datasets\n",
    "    # We need to consult a domain expert to learn if ALMA data always comes back with 4 datasets\n",
    "    fig, axs = plt.subplots(2, 2, figsize = (15, 9))\n",
    "    for index, ax in enumerate(axs.flat):\n",
    "        # Plot each data set\n",
    "        ax.plot(plot_data[index][:,0],\n",
    "                plot_data[index][:,1],\n",
    "                linewidth = 0.25)\n",
    "        ax.set(ylabel = \"Flux (Jy)\")\n",
    "        ax.set(xlabel = \"Frequency (GHz)\")\n",
    "        # Clean up the xticks\n",
    "        ax.set_xticks(np.arange(round(plot_data[index][0,0], 1), round(plot_data[index][-1,0], 1), step = 0.5))\n",
    "        # Remove the space from the borders of the plot along the X axis\n",
    "        ax.autoscale(enable = True, axis = 'x', tight = True)\n",
    "    # Add some space between the plots\n",
    "    plt.subplots_adjust(hspace = .2, wspace = .3)\n",
    "    return fig, axs"
   ]
  },
  {
   "cell_type": "markdown",
   "metadata": {},
   "source": [
    "### add_lines(id, molecules)\n",
    "This function adds dashed lines to a specified axis (`id`) at every frequency passed in by `molecules`.  `molecules` is a dictionary whose keys are the _frequencies_ above the 3$\\sigma$ threshold and whose values are the _Chemical names_ of molecules that have a spectral line at that frequency, and also their _Molecule Tag_.  So each frequency will have a dictionary inside it with keys _Chemical Name_ and _Molecule Tag_ with values pulled from the results of a Splatalogue query."
   ]
  },
  {
   "cell_type": "code",
   "execution_count": 4,
   "metadata": {
    "ExecuteTime": {
     "end_time": "2020-02-17T03:57:28.288635Z",
     "start_time": "2020-02-17T03:57:28.177636Z"
    },
    "code_folding": []
   },
   "outputs": [],
   "source": [
    "def add_lines(id, molecules):\n",
    "    \"\"\"This function will add dashed lines to the plot where molecules were detected\"\"\"\n",
    "    for freq in molecules.keys():\n",
    "        axs[id].axvline(x = float(freq),\n",
    "                        ymin = 0,\n",
    "                        ymax = 1,\n",
    "                        dashes = [18, 6],\n",
    "                        linewidth = 0.25,\n",
    "                        color = \"gray\",\n",
    "                        alpha = 0.5)"
   ]
  },
  {
   "cell_type": "markdown",
   "metadata": {},
   "source": [
    "### find_molecules(all_molecules)\n",
    "This function constructs 2 dictionaries.  The first dictionary created is `molecules.`  `molecules` is a dictionary whose keys are the _frequencies_ above the 3$\\sigma$ threshold and whose values are the _Chemical names_ of molecules that have a spectral line at that frequency, and also their _Molecule Tag_.  So each frequency will have a dictionary inside it with keys _Chemical Name_ and _Molecule Tag_ with values pulled from the results of a Splatalogue query.  `molecules` is unique to each axis on the figure.  That is, since there are 4 axes on the figure, `molecules` gets generated 4 times.  Each time those frequencies get passed to `add_lines(id, molecules)` along with the `id` of the axis that it is meant for.\n",
    "\n",
    "The second dictionary is a global dictionary, `all_molecules`.  This dictionary's keys are the unique _Chemical Names_ identified from all 4 generations of the `molecules` dictionary.  The values are another dictionary with keys _Occurances_, _Molecule Tag_, and _Linelist_ whose values are the frequencies of spectral emissions this molecule was found at in the data, the molecule tag number, and the linelist representing what database the data was pulled from, respectively.\n",
    "\n",
    "The `molecules` dictionary is generated by first identifying all frequencies where the flux exceeds the 3$\\sigma$ threshold (where a flux value is greater than 3 standard deviations away from the mean).  Then, for each frequency that meets this criteria, a query to the Splatalogue API is made at that frequency $\\pm$ the telescope's channel spacing over 2 (488kHz / 2 = 244KHz).  If the query returns any results, they are added to the `molecules` and `all_molecules` dictionarys."
   ]
  },
  {
   "cell_type": "code",
   "execution_count": 5,
   "metadata": {
    "ExecuteTime": {
     "end_time": "2020-02-17T03:57:28.416636Z",
     "start_time": "2020-02-17T03:57:28.290635Z"
    },
    "code_folding": []
   },
   "outputs": [],
   "source": [
    "def find_molecules(all_molecules):\n",
    "    \"\"\" Classify the molecules from their frequency for each dataset \"\"\"\n",
    "    for id, dataset in enumerate(data):\n",
    "        # Determine the standard deviation of the data with signals removed\n",
    "        # --- WE COULD INCORPORATE THE WORKS OF https://iopscience.iop.org/article/10.1086/679285/pdf HERE!!! ---\n",
    "        moch_data = dataset.copy()\n",
    "        moch_data[np.where( moch_data[:, 1] >= 5 * np.std(moch_data[:, 1])), 1] = 0  # 0's fluxs >= 5 stddevs\n",
    "        # Locate the indices where the flux is greater than 3 standard deviations\n",
    "        # There are 4 datasets.  Column 0 is the frequency, column 1 is the flux\n",
    "        # Splatalogue appears to be accurate up to 5 decimal places\n",
    "        molecules = {}  # An empty dictionary to store the results of each detected molecule and rest frequency\n",
    "        channel_spacing = dataset[1][0] - dataset[0][0] # +/- when searching frequencies\n",
    "        frequencies = np.round(dataset[np.where( dataset[:, 1] >= 3 * np.std(moch_data[:, 1])), 0], 5)[0]\n",
    "        for freq in frequencies:\n",
    "            # Query Splatalogue at each frequency +/- delta using the CDMS and JPL databases\n",
    "            results = Splatalogue.query_lines( (freq - channel_spacing / 2)*u.GHz, \n",
    "                                               (freq + channel_spacing / 2)*u.GHz,\n",
    "                                                show_molecule_tag = True,\n",
    "                                                top20 = 'planet',\n",
    "                                                line_lists = ['CDMS', 'JPL'],\n",
    "                                                line_strengths = 'ls1')\n",
    "            # Append the chemical names corresponding to the searched frequency.\n",
    "            if len(results) > 0:\n",
    "                molecules[freq] = {\"Chemical Name\": results[\"Chemical Name\"].tolist(),\n",
    "                                   \"Molecule Tag\": results[\"Molecule<br>Tag\"].tolist()}\n",
    "            else:\n",
    "                molecules[freq] = {\"Chemical Name\": \"Unknown\",\n",
    "                                   \"Molecule Tag\": None}\n",
    "        \n",
    "            # Append the chemical name and frequency to the dictionary of all molecules found\n",
    "            if len(results) > 0:\n",
    "                for i, molecule in enumerate(results[\"Chemical Name\"].tolist()):\n",
    "                    if molecule in all_molecules.keys():\n",
    "                        # This check removes the possibility of duplicate frequencies\n",
    "                        if freq not in all_molecules[molecule][\"Occurances\"]:\n",
    "                            all_molecules[molecule][\"Occurances\"].append(freq)\n",
    "                    else:\n",
    "                        # Add leading 0's to the Molecule Tag if it's less than 6 characters\n",
    "                        molecule_tag = \"0\" + str(results[\"Molecule<br>Tag\"][i]) if len(str(results[\"Molecule<br>Tag\"][i])) < 6 else str(results[\"Molecule<br>Tag\"][i])\n",
    "                        # You might find a '-' for the first character.  If so, change it to a 0\n",
    "                        if \"-\" in molecule_tag: molecule_tag = \"0\" + molecule_tag[1:]\n",
    "                        # The molecule is new.  Add its tag, linelist, and frequency to all_molecules\n",
    "                        all_molecules[molecule] = {\"Molecule Tag\": molecule_tag,\n",
    "                                                   \"Linelist\": results[\"Linelist\"][i],\n",
    "                                                   \"Occurances\": [freq]}\n",
    "            else:\n",
    "                # If the query returns no results, then we've found a significant emmission frequency with\n",
    "                # no known molecule associated with it.\n",
    "                if \"Unknown\" in all_molecules.keys():\n",
    "                    all_molecules[\"Unknown\"][\"Occurances\"].append(freq)\n",
    "                else:\n",
    "                    all_molecules[\"Unknown\"] = {\"Molecule Tag\": \"None\",\n",
    "                                                \"Linelist\": \"None\",\n",
    "                                                \"Occurances\": [freq]}\n",
    "        #add_lines(id, molecules)\n",
    "    return all_molecules"
   ]
  },
  {
   "cell_type": "markdown",
   "metadata": {},
   "source": [
    "### pull_spectral_lines(spectral_lines)\n",
    "\n",
    "Once all the molecules that could be in the data have been identified, we can then query other databases (**CDMS** and **JPL**) to retrieve the complete set of every spectral line emmission frequency for each identified molecule.  To do this, we need to know what `molecule_tag` to search for along with the database (_linelist_) it came from.\n",
    "\n",
    "The `SpectralQuery` library will do exactly this.  By supplying the _linelist_ to a `SpectralQuery` class object, and the `molecule_tag`, it will scrape the spectral emmisssion data from the appropriate web page and store it in a pandas data frame.  Since we don't know exactly how many queries we'll need to make, and since the number of rows each query returns is also unknown, the results are best saved in a dictionary for further usage.  The global dictionary `spectral_lines` will be constructed with this function.  Its keys will be the _Chemical Names_ from `all_molecules`, and its values will be the results returned from `SpectralQuery.getSpectralLines()`."
   ]
  },
  {
   "cell_type": "code",
   "execution_count": 6,
   "metadata": {
    "ExecuteTime": {
     "end_time": "2020-02-17T03:57:28.538636Z",
     "start_time": "2020-02-17T03:57:28.418636Z"
    },
    "code_folding": []
   },
   "outputs": [],
   "source": [
    "def pull_spectral_lines(spectral_lines):\n",
    "    \"\"\"Scrapes the given database for the spectral lines emmitted by the molecule with the specified molecule_tag\"\"\"\n",
    "    print(\"Retrieving spectral line frequencies for molecules of interest...\")\n",
    "    for i, molecule in enumerate(all_molecules.keys()):\n",
    "        if round(i / len(all_molecules.keys()) * 100, 0) % 10 == 0:\n",
    "            print(\"{}% complete...\".format(round(i / len(all_molecules.keys()) * 100, 0)))\n",
    "        # Viable Linelist options are \"CDMS, JPL, or None.\"  If \"None\" (for \"Unknown\"), just pass\n",
    "        if all_molecules[molecule][\"Linelist\"] == \"CDMS\":\n",
    "            cdms.getSpectralLines(all_molecules[molecule][\"Molecule Tag\"])\n",
    "            spectral_lines[molecule] = cdms.lines\n",
    "        elif all_molecules[molecule][\"Linelist\"] == \"JPL\":\n",
    "            results = jpl.getSpectralLines(all_molecules[molecule][\"Molecule Tag\"])\n",
    "            spectral_lines[molecule] = jpl.lines\n",
    "        else:\n",
    "            continue\n",
    "        # In some cases, the data might not download properly.  In these events, delete that molecule\n",
    "        bad_molecules = []\n",
    "        try:\n",
    "            pd.DataFrame.from_dict(spectral_lines[molecule], dtype = np.float64)\n",
    "        except:\n",
    "            print(str(molecule), \"contains invalid data.\")\n",
    "            del spectral_lines[molecule]\n",
    "    \n",
    "    # Remove all the bad molecules from all_molecules and rewrite the csv\n",
    "    if len(bad_molecules) > 0:\n",
    "        print(\"Rewriting all_molecules.csv\")\n",
    "        for molecule in bad_molecules:\n",
    "            del all_molecules[molecule]\n",
    "        # Save all_molecules.csv excluding the busted keys.\n",
    "        pd.DataFrame.from_dict(all_molecules,\n",
    "                       columns = [\"Molecule Tag\",\n",
    "                                  \"Linelist\",\n",
    "                                  \"Occurances\"],\n",
    "                       orient = \"index\").to_csv(path + \"/all_molecules.csv\")\n",
    "        print(\"Rewrite complete.\")\n",
    "    spectral_lines = {key: pd.DataFrame.from_dict(value, dtype = np.float64) for key, value in spectral_lines.items()}\n",
    "    return spectral_lines\n",
    "    print(\"100% complete...Done\\n\")"
   ]
  },
  {
   "cell_type": "markdown",
   "metadata": {},
   "source": [
    "## Generate Queries\n",
    "\n",
    "Run the functions necessary to generate all the data required."
   ]
  },
  {
   "cell_type": "code",
   "execution_count": 7,
   "metadata": {
    "ExecuteTime": {
     "end_time": "2020-02-17T03:57:28.706637Z",
     "start_time": "2020-02-17T03:57:28.541636Z"
    },
    "code_folding": [],
    "scrolled": false
   },
   "outputs": [],
   "source": [
    "# Generte the plot if necessary\n",
    "if generate_plot:\n",
    "    fig, axs = create_plot(data)\n",
    "    axs = axs.flat\n",
    "\n",
    "# If all_molecules wasn't loaded in, generate and save it by running the find_molecules function\n",
    "if \"all_molecules\" not in locals():\n",
    "    all_molecules = {}  # This will store the molecule name and every frequency it is found at\n",
    "    all_molecules = find_molecules(all_molecules)\n",
    "    \n",
    "    # Save the all_molecules dictionary\n",
    "    pd.DataFrame.from_dict(all_molecules,\n",
    "                           columns = [\"Molecule Tag\",\n",
    "                                      \"Linelist\",\n",
    "                                      \"Occurances\"],\n",
    "                           orient = \"index\").to_csv(path + \"/all_molecules.csv\")\n",
    "    \n",
    "# If spectral_lines wasn't loaded in, generate and save it by running the pull_spectral_lines function\n",
    "if \"spectral_lines\" not in locals():\n",
    "    # Define the dictionary 'spectral_lines'\n",
    "    spectral_lines = {}\n",
    "    # Scrape the CDMS Database content\n",
    "    print(\"Parsing the Cologne Database for Molecular Spectroscopy...\")\n",
    "    cdms = SpectralQuery(\"CDMS\")\n",
    "    print(\"Done\\n\")\n",
    "    # Scrape the JPL Database content\n",
    "    print(\"Parsing the Jet Propulsion Laboratory Molecular Spectroscopy Database...\")\n",
    "    jpl  = SpectralQuery(\"JPL\")\n",
    "    print(\"Done\\n\")\n",
    "    # Iterate through each molecule in all_molecules to pull all their emmission frequencies\n",
    "    spectral_lines = pull_spectral_lines(spectral_lines)\n",
    "    # Discard entries that are outside the bounds of our data [min_freq, max_freq]\n",
    "    all_spectral_lines = spectral_lines.copy()\n",
    "    # Save the spectral_lines dictionary\n",
    "    with open(path + '/spectral_lines.pkl', 'wb') as file:\n",
    "        pickle.dump(spectral_lines, file, protocol = pickle.HIGHEST_PROTOCOL)\n",
    "    print(\"Done\\n\")"
   ]
  },
  {
   "cell_type": "markdown",
   "metadata": {},
   "source": [
    "# Output"
   ]
  },
  {
   "cell_type": "markdown",
   "metadata": {
    "ExecuteTime": {
     "end_time": "2019-11-18T23:02:11.756741Z",
     "start_time": "2019-11-18T23:02:11.749741Z"
    }
   },
   "source": [
    "## View the Raw Data\n",
    "A plot of every data set on a single axis reveals if there are gaps if frequency between data sets"
   ]
  },
  {
   "cell_type": "code",
   "execution_count": 8,
   "metadata": {
    "ExecuteTime": {
     "end_time": "2020-02-17T03:57:29.571594Z",
     "start_time": "2020-02-17T03:57:28.712637Z"
    }
   },
   "outputs": [
    {
     "data": {
      "image/png": "[encoded data removed]",
      "text/plain": [
       "<Figure size 1080x648 with 1 Axes>"
      ]
     },
     "metadata": {
      "needs_background": "light"
     },
     "output_type": "display_data"
    }
   ],
   "source": [
    "fig2, ax2 = plt.subplots(figsize = (15, 9))\n",
    "# Plot the data\n",
    "ax2.plot(full_data[:, 0] / 1000,\n",
    "         full_data[:, 1],\n",
    "         linewidth = 0.25)\n",
    "ax2.set(title = \"Full Data Spectrum\")\n",
    "ax2.set(ylabel = \"Intensity (nm^2 MHz)\")\n",
    "ax2.set(xlabel = \"Frequency (GHz)\")\n",
    "ax2.title.set_size(24)\n",
    "ax2.yaxis.label.set_size(16)\n",
    "ax2.xaxis.label.set_size(16)\n",
    "ax2.autoscale(enable = True, axis = 'x', tight = True)\n",
    "#ax2.plot([223933.46003 / 1000, 223933.46003 / 1000], [0, 1], color='r', linestyle='-', linewidth=2)"
   ]
  },
  {
   "cell_type": "markdown",
   "metadata": {},
   "source": [
    "## View all_molecules and Plot\n",
    "\n",
    "Simply change see_plot to True to see the plot, and see_all_molecules to True to see the dictionary of all molecules."
   ]
  },
  {
   "cell_type": "code",
   "execution_count": 9,
   "metadata": {
    "ExecuteTime": {
     "end_time": "2020-02-17T03:57:29.619593Z",
     "start_time": "2020-02-17T03:57:29.574594Z"
    },
    "code_folding": [],
    "scrolled": false
   },
   "outputs": [
    {
     "data": {
      "application/vnd.jupyter.widget-view+json": {
       "model_id": "8c9ed6a6c28b4543823908a0950f40eb",
       "version_major": 2,
       "version_minor": 0
      },
      "text/plain": [
       "interactive(children=(Dropdown(description='Molecule:', options=('Bromine Dioxide', 'Vinylamine', \"1,2-propane…"
      ]
     },
     "metadata": {},
     "output_type": "display_data"
    }
   ],
   "source": [
    "# Specify output to show\n",
    "see_plot = False   # Whether or not to show the plot\n",
    "see_all_molecules = True  # Whether or not to view the all_molecules dictionary\n",
    "\n",
    "\n",
    "# Generate the plot \n",
    "if see_plot:\n",
    "    fig, axs = create_plot(data)\n",
    "    axs = axs.flat\n",
    "    new_plot = find_molecules({})\n",
    "\n",
    "# Output all_molecules in an easily readable table format.\n",
    "if see_all_molecules:\n",
    "    # Make a dropdown widget with each molecule name as an option\n",
    "    all_molecules_dropdown = widgets.Dropdown(\n",
    "        options = all_molecules.keys(),\n",
    "        description = 'Molecule:',\n",
    "        disabled = False,\n",
    "    )\n",
    "\n",
    "    # Define a function that displays the data for the chosen molecule\n",
    "    def show_all_molecules(molecule = list(all_molecules.keys())[0]):\n",
    "        molecule = all_molecules_dropdown.value\n",
    "        print(\"   Molecule Tag:\", all_molecules[molecule][\"Molecule Tag\"])\n",
    "        print(\"   Linelist:\", all_molecules[molecule][\"Linelist\"])\n",
    "        print(\"   Occurances:\\n  \", str(all_molecules[molecule][\"Occurances\"]).strip(\"[]\"))\n",
    "\n",
    "    # Make the widget interactive by having it call show_data every time the value changes\n",
    "    widgets.interact(show_all_molecules, molecule = all_molecules_dropdown)"
   ]
  },
  {
   "cell_type": "markdown",
   "metadata": {},
   "source": [
    "## Sample Output of spectral_lines\n",
    "To get an idea of how wide the frequency space is that a given molecule emits spectral lines at, let's examine Ethyl Cyanide from the Cordiner et al. 2015 paper.  By plotting all the frequencies and intensities obtained the JPL database, we can see where Ethyl Cyanide not only peaks, but also the fraction of that space captured by the ALMA telescope.\n",
    "\n",
    "**NOTE**: THIS CODE CHUNK TAKES APPROXIMATE 1.5 HOURS TO COMPLETE!  ONLY RUN IF NECESSARY!"
   ]
  },
  {
   "cell_type": "code",
   "execution_count": 10,
   "metadata": {
    "ExecuteTime": {
     "end_time": "2020-02-17T03:57:29.702593Z",
     "start_time": "2020-02-17T03:57:29.621593Z"
    },
    "scrolled": false
   },
   "outputs": [],
   "source": [
    "#import matplotlib.patches as patches\n",
    "#fig2, ax2 = plt.subplots(figsize = (15, 9))\n",
    "## Plot each data set\n",
    "#(markers, stemlines, baseline) = ax2.stem(all_spectral_lines[\"Ethyl Cyanide\"][\"frequency\"],\n",
    "#                                          10 ** all_spectral_lines[\"Ethyl Cyanide\"][\"intensity\"],\n",
    "#                                          markerfmt = \"none\")\n",
    "#plt.setp(stemlines, linestyle = \"-\", color = \"blue\", linewidth = 0.25 )\n",
    "#plt.setp(baseline, visible = False)\n",
    "#ax2.set(title = \"Ethyl Cyanide Spectral Emissions\")\n",
    "#ax2.set(ylabel = \"Intensity (nm^2 MHz)\")\n",
    "#ax2.set(xlabel = \"Frequency (MHz)\")\n",
    "#ax2.title.set_size(24)\n",
    "#ax2.yaxis.label.set_size(16)\n",
    "#ax2.xaxis.label.set_size(16)\n",
    "#rect = patches.Rectangle(xy = (min_freq, 0),\n",
    "#                         width = max_freq - min_freq, \n",
    "#                         height = ax2.get_ylim()[1], \n",
    "#                         fill = False,\n",
    "#                         color = 'red',\n",
    "#                         linewidth = 2)\n",
    "#ax2.add_patch(rect)\n",
    "#ax2.set_ylim(0, ax2.get_ylim()[1])\n",
    "#ax2.autoscale(enable = True, axis = 'x', tight = True)"
   ]
  },
  {
   "cell_type": "markdown",
   "metadata": {
    "ExecuteTime": {
     "end_time": "2019-11-07T22:21:28.760584Z",
     "start_time": "2019-11-07T22:21:28.752584Z"
    }
   },
   "source": [
    "# Analysis\n",
    "\n",
    "At this stage, we know all the possible molecules that _could_ be in the data, and we know all spectral line frequencies and intensities that those molecules emit at in the range of our data.  The next step is to classify whether or not a particular molecule is present in the data.\n",
    "\n",
    "One method is to examine how many of the strongest intensity spectral lines exceed the 3$\\sigma$ threshold in the data.  The more spectral lines there are that meet this criteria, the greater our confidence is that the molecule is present."
   ]
  },
  {
   "cell_type": "markdown",
   "metadata": {},
   "source": [
    "## Preprocessing"
   ]
  },
  {
   "cell_type": "code",
   "execution_count": 11,
   "metadata": {
    "ExecuteTime": {
     "end_time": "2020-02-17T03:57:32.300663Z",
     "start_time": "2020-02-17T03:57:29.704593Z"
    }
   },
   "outputs": [],
   "source": [
    "# Some frequencies in spectral_lines are duplicated.  Remove those first.\n",
    "for molecule in spectral_lines.keys():\n",
    "    spectral_lines[molecule] = spectral_lines[molecule].sort_values('frequency', ascending = False)\n",
    "    spectral_lines[molecule].drop_duplicates(subset = \"frequency\", keep = \"first\", inplace = True)\n",
    "    spectral_lines[molecule] = spectral_lines[molecule].sort_values(by = \"intensity\", ascending = False)"
   ]
  },
  {
   "cell_type": "markdown",
   "metadata": {
    "ExecuteTime": {
     "end_time": "2019-11-12T18:39:53.083355Z",
     "start_time": "2019-11-12T18:39:53.055353Z"
    }
   },
   "source": [
    "## Functions"
   ]
  },
  {
   "cell_type": "markdown",
   "metadata": {},
   "source": [
    "### closest_freq(spectral_frequencies, data_frequencies)\n",
    "\n",
    "The frequencies listed in `spectral_lines` frequency column may not match up exactly to the frequencies found in our data.  For that reason, we need to find the closest frequency in our input data to each frequency in the `spectral_lines` data.  That is, for every known spectral emission frequency in `spectral_lines`, there is a frequency bin in the input data that is _closest_ to it.\n",
    "\n",
    "An important thing to note about this function is that the units of data_frequencies and spectral_frequencies **must** match.  For this reason, `full_data` is already converted from GHz to MH."
   ]
  },
  {
   "cell_type": "code",
   "execution_count": 12,
   "metadata": {
    "ExecuteTime": {
     "end_time": "2020-02-17T03:57:32.310594Z",
     "start_time": "2020-02-17T03:57:32.302594Z"
    }
   },
   "outputs": [],
   "source": [
    "def closest_freq(spectral_frequencies, data_frequencies):\n",
    "    # Convert the pd.Series to a list\n",
    "    spectral_frequencies = spectral_frequencies.tolist()\n",
    "    # We'll also need an array of zeros to store the results\n",
    "    closest_ids = np.zeros(len(spectral_frequencies), dtype = int)\n",
    "    # Then, for each spectral frequency, find the frequency in the input data closest to it.\n",
    "    for i, freq in enumerate(spectral_frequencies):\n",
    "        # Take the absolute value of the data_frequencies - spectral_frequency\n",
    "        # This will generate an array of values.  The smallest value is the closest frequency\n",
    "        closest_ids[i] = (np.abs(data_frequencies - freq)).argmin()\n",
    "    # Finally, return the array of indices\n",
    "    return closest_ids"
   ]
  },
  {
   "cell_type": "markdown",
   "metadata": {},
   "source": [
    "### find_matches(spectral_lines)\n",
    "\n",
    "This function will add some columns to the pandas dataframe for each molecule.  The first column it adds is \"closest\" which represents the frequency in the input data that is closest to the frequency obtained from CDMS or JPL.  The next column is \"acceptable\" which returns True if the absolute value of the difference between \"closest\" and \"frequency\" is less than or equal to the \"uncertainty.\""
   ]
  },
  {
   "cell_type": "code",
   "execution_count": 13,
   "metadata": {
    "ExecuteTime": {
     "end_time": "2020-02-17T03:57:32.439593Z",
     "start_time": "2020-02-17T03:57:32.313593Z"
    },
    "scrolled": true
   },
   "outputs": [],
   "source": [
    "def find_matches(spectral_lines):\n",
    "    for molecule in spectral_lines.keys():\n",
    "        # bounds will contain the indices of spectral_lines where the data is within all the mins and maxs\n",
    "        # First, initialize bounds to have the indices of the data between the min and max of the first dataset\n",
    "        bounds = np.array(np.where( (spectral_lines[molecule][\"frequency\"] >= min_freqs[0]) &\n",
    "                                    (spectral_lines[molecule][\"frequency\"] <= max_freqs[0])  ) )\n",
    "        # Then append to it the indices of spectral_lines where the data is within the remaining mins and maxs\n",
    "        for idx in range(1, len(min_freqs)-1):\n",
    "            bounds = np.append(bounds, np.where( (spectral_lines[molecule][\"frequency\"] >= min_freqs[idx]) &\n",
    "                                                 (spectral_lines[molecule][\"frequency\"] <= max_freqs[idx])  ) )\n",
    "        # Finally, restrict spectral_lines to only those entries contained in bounds.\n",
    "        spectral_lines[molecule] = spectral_lines[molecule].iloc[bounds]\n",
    "        \n",
    "        # Find the indices of the closest frequencies to those in the CDMS/JPL data\n",
    "        closest_frequencies = closest_freq(spectral_lines[molecule][\"frequency\"], full_data[:, 0])\n",
    "        # Assign the frequency at the identified indices to a new column in spectral_lines\n",
    "        spectral_lines[molecule][\"closest\"] = full_data[closest_frequencies, 0]\n",
    "        # Copy the flux at each \"closest\" frequency, but set negative values to 0\n",
    "        spectral_lines[molecule][\"flux\"] = full_data[closest_frequencies, 1]\n",
    "        spectral_lines[molecule].loc[spectral_lines[molecule][\"flux\"] < 0, \"flux\"] = 0\n",
    "        # Make a column called \"spike\" that is true when the \"flux\" is greater than 3 sigma\n",
    "        spectral_lines[molecule][\"spike\"] = False\n",
    "        # Make a column called \"sigmas\" that represents the number of std devs away from the mean the flux is\n",
    "        spectral_lines[molecule][\"sigmas\"] = 0.0\n",
    "        # Since each dataset has a different standard deviation, we need to account for that\n",
    "        for idx, dataset in enumerate(data):\n",
    "            # Remove signals greater than 5 sigma by setting them equal to 0\n",
    "            moch_data = dataset.copy()\n",
    "            moch_data[np.where( moch_data[:, 1] >= 5 * np.std(moch_data[:, 1])), 1] = 0  # 0's fluxs >= 5 stddevs\n",
    "            # For each data set, assign \"spike\" = True at each spike.  We can determine which dataset the index\n",
    "            # belongs to by examining the min and max frequency of each dataset.\n",
    "            spectral_lines[molecule][\"spike\"].iloc[\n",
    "                np.where( (spectral_lines[molecule][\"frequency\"] >= min_freqs[idx]) &\n",
    "                          (spectral_lines[molecule][\"frequency\"] <= max_freqs[idx]) &\n",
    "                          (spectral_lines[molecule][\"flux\"] >= 3 * np.std(moch_data[:, 1]))\n",
    "                        )[0]] = True\n",
    "            # Then determine how many standard deviations away from the mean each flux is.\n",
    "            spectral_lines[molecule][\"sigmas\"].iloc[\n",
    "                    np.where( (spectral_lines[molecule][\"frequency\"] >= min_freqs[idx]) &\n",
    "                              (spectral_lines[molecule][\"frequency\"] <= max_freqs[idx]) &\n",
    "                              (spectral_lines[molecule][\"flux\"] > 0)\n",
    "                            )[0]] = spectral_lines[molecule][\"flux\"].iloc[\n",
    "                    np.where( (spectral_lines[molecule][\"frequency\"] >= min_freqs[idx]) &\n",
    "                              (spectral_lines[molecule][\"frequency\"] <= max_freqs[idx]) &\n",
    "                              (spectral_lines[molecule][\"flux\"] > 0)\n",
    "                            )[0]] / np.std(moch_data[:, 1])\n",
    "        # Sort the values by decreasing intensity (highest first), and reset the index so 0 is at the top.\n",
    "        spectral_lines[molecule] = spectral_lines[molecule].sort_values(\n",
    "            by = \"intensity\", ascending = False).reset_index(drop = True)\n",
    "        # Add one to each index so that it resembles rank.\n",
    "        spectral_lines[molecule].index += 1\n",
    "    return spectral_lines"
   ]
  },
  {
   "cell_type": "markdown",
   "metadata": {},
   "source": [
    "### add_unknown(spectral_complete)\n",
    "The unknown frequencies were lost when the spectral_lines dictionary was created.  Here, we add them back in and declare their intensities to be the same as that in the data set.  This may introduce some error or bias, which will have to be accounted for."
   ]
  },
  {
   "cell_type": "code",
   "execution_count": 14,
   "metadata": {
    "ExecuteTime": {
     "end_time": "2020-02-17T03:57:32.566593Z",
     "start_time": "2020-02-17T03:57:32.442593Z"
    }
   },
   "outputs": [],
   "source": [
    "# Also add in the details for any \"Unknown\" frequency spikes if there are any\n",
    "def add_unknown(spectral_complete):\n",
    "    if \"Unknown\" in all_molecules.keys():\n",
    "        if all_molecules_loaded:\n",
    "            unknown_freqs = pd.Series(float(i) for i in all_molecules[\"Unknown\"][\"Occurances\"].strip(\"[]\").split(\", \"))\n",
    "            unknown_freqs *= 1000  # Convert GHz to MHz\n",
    "        else:\n",
    "            unknown_freqs = pd.Series(all_molecules[\"Unknown\"][\"Occurances\"]) * 1000\n",
    "        spectral_complete[\"Unknown\"] = pd.DataFrame(\n",
    "            data = {\"frequency\": full_data[closest_freq(unknown_freqs, full_data[:, 0]), 0],\n",
    "                    \"uncertainty\": [0] * len(unknown_freqs),\n",
    "                    \"intensity\": full_data[closest_freq(unknown_freqs, full_data[:, 0]), 1],\n",
    "                    \"closest\": full_data[closest_freq(unknown_freqs, full_data[:, 0]), 0],\n",
    "                    \"flux\": full_data[closest_freq(unknown_freqs, full_data[:, 0]), 1],\n",
    "                    \"spike\": [True] * len(unknown_freqs),\n",
    "                    \"sigmas\": full_data[closest_freq(unknown_freqs, full_data[:, 0]), 1] / np.std(full_data[:, 1])})\n",
    "        spectral_lines[\"Unknown\"].loc[spectral_lines[\"Unknown\"][\"flux\"] < 0, \"flux\"] = 0\n",
    "        spectral_complete[\"Unknown\"] = spectral_complete[\"Unknown\"].sort_values(\n",
    "            by = \"intensity\", ascending = False).reset_index(drop = True)\n",
    "        # Add one to each index so that it resembles rank.\n",
    "        spectral_complete[\"Unknown\"].index += 1\n",
    "    return spectral_complete"
   ]
  },
  {
   "cell_type": "markdown",
   "metadata": {},
   "source": [
    "### restructure_data(data, spectral_complete)\n",
    "This function will create a new data frame where the index is all the possible molecules, the columns are all the 3$\\sigma$ frequencies, and the values are weights given by the equation:\n",
    "\n",
    "<font size=\"5\">\n",
    "\\begin{equation*}\n",
    "    W = \\left\\{\n",
    "    \\begin{array}{cl}\n",
    "    \\frac{\\phi (10^{I})}{\\sigma} & spike = True \\\\\n",
    "    0 & spike = False \\\\\n",
    "    \\end{array}\n",
    "    \\right.\n",
    "\\end{equation*}\n",
    "</font>\n",
    "\n",
    "Where $\\phi$ and $I$ are the recorded flux and catalogued intensity, respectively, for a given emission line, and $\\sigma$ is the standard deviation of the flux from the data set it came from.  The fraction $\\frac{\\phi}{\\sigma}$ has the effect of determining the number of standard deviations away from the mean the given flux is.  The only exception to the above equation is for the \"Unknown\" molecule.  Since the intensities for \"Unknown\" are the same as the flux (by design), the above equation instead takes the form:\n",
    "\n",
    "<font size=\"5\">\n",
    "\\begin{equation*}\n",
    "    W = \\phi (10^{\\phi})\n",
    "\\end{equation*}\n",
    "</font>\n",
    "\n",
    "This has the effect of causing emissions in the \"Unknown\" category to carry significantly more weight since the value of the flux is generally much greater than a typical catalogued intensity.\n",
    "\n",
    "When determining the standard deviation, the function first identifies all frequencies with flux greater than 3$\\sigma$ after removing any 5$\\sigma$ flux events from a temporary copy of the data -  this helps to better capture the true signal to noise ratio.  Then it creates the dataframe using the keys from the dictionary containing the combined input data and CDMS/JPL data.  Next, populates the dataframe at all frequencies emitted by each molecule.  The final step assigns any frequency columns with no associated molecule to the \"Unknown\" category."
   ]
  },
  {
   "cell_type": "code",
   "execution_count": 15,
   "metadata": {
    "ExecuteTime": {
     "end_time": "2020-02-17T03:57:32.670593Z",
     "start_time": "2020-02-17T03:57:32.569594Z"
    }
   },
   "outputs": [],
   "source": [
    "def restructure_data(data, spectral_complete):\n",
    "    spikes = []\n",
    "    # Since there are multiple files, the standard deviation may be different.  Iterate over every file\n",
    "    for dataset in data:\n",
    "        # Remove signals greater than 5 sigma by setting them equal to 0\n",
    "        moch_data = dataset.copy()\n",
    "        moch_data[np.where( moch_data[:, 1] >= 5 * np.std(moch_data[:, 1])), 1] = 0  # 0's fluxs >= 5 stddevs\n",
    "        # Find all frequency spikes in the input data greater than 3 sigma away from the mean\n",
    "        frequencies = np.round(dataset[np.where( dataset[:, 1] >= 3 * np.std(moch_data[:, 1])), 0] * 1000, 5)[0]\n",
    "        # Add those frequencies to the list of spikes\n",
    "        spikes.extend(frequencies)\n",
    "    # Create a Matrix \n",
    "    data_matrix = pd.DataFrame(0.0, index = [key for key in spectral_complete.keys() if \n",
    "                                             spectral_complete[key].empty == False], columns = spikes)\n",
    "    # Fill the matrix with 10^(Intensity) * sigmas at each \"closest\" frequency for each molecule\n",
    "    for molecule in data_matrix.index:\n",
    "        data_matrix.loc[molecule].loc[\n",
    "            list(spectral_complete[molecule][spectral_complete[molecule][\"spike\"] == True][\"closest\"])\n",
    "        ] = list(np.array(10 ** spectral_complete[molecule][spectral_complete[molecule][\"spike\"] == True][\"intensity\"]) * \n",
    "                 np.array(spectral_complete[molecule][spectral_complete[molecule][\"spike\"] == True][\"sigmas\"]))\n",
    "    # Next, there may be some empty columns.  These should get assigned to \"Unknown\"\n",
    "    empty_cols = data_matrix.sum() == 0\n",
    "    # Create a dataframe from the full data for ease of indexing\n",
    "    full_data_dataframe = pd.DataFrame(full_data[:,1], \n",
    "                                       index = full_data[:,0],\n",
    "                                       columns = [\"flux\"])\n",
    "    full_data_dataframe.loc[full_data_dataframe[\"flux\"] < 0, \"flux\"] = 0\n",
    "    # Assign the values with 10^(flux) * flux\n",
    "    data_matrix.loc[\"Unknown\"].loc[empty_cols\n",
    "        ] = list(np.array(10 ** full_data_dataframe.loc[empty_cols[empty_cols == True].index][\"flux\"]) *\n",
    "                 np.array(full_data_dataframe.loc[empty_cols[empty_cols == True].index][\"flux\"]))\n",
    "    # Finally, return the matrix\n",
    "    return data_matrix"
   ]
  },
  {
   "cell_type": "markdown",
   "metadata": {},
   "source": [
    "## Refine the Data"
   ]
  },
  {
   "cell_type": "code",
   "execution_count": 16,
   "metadata": {
    "ExecuteTime": {
     "end_time": "2020-02-17T03:57:33.467196Z",
     "start_time": "2020-02-17T03:57:32.672593Z"
    }
   },
   "outputs": [],
   "source": [
    "if \"spectral_complete\" not in locals():\n",
    "    print(\"Refining spectral_lines...\")\n",
    "    # Define the dictionary 'spectral_complete'\n",
    "    spectral_complete = find_matches(spectral_lines)\n",
    "    # Add in the unknown frequecies (if applicable)\n",
    "    spectral_complete = add_unknown(spectral_complete)\n",
    "    # Save the spectral_complete dictionary\n",
    "    with open(path + '/spectral_complete.pkl', 'wb') as file:\n",
    "        pickle.dump(spectral_complete, file, protocol = pickle.HIGHEST_PROTOCOL)\n",
    "    print(\"Done\\n\")\n",
    "\n",
    "# Restructure the data to a more useable form    \n",
    "data_matrix = restructure_data(data, spectral_complete)"
   ]
  },
  {
   "cell_type": "markdown",
   "metadata": {},
   "source": [
    "## View the Data\n",
    "The refined data, named spectral_complete, is an extension of the data parsed from CDMS and JPL.  It contains all of the downloaded frequencies in the range of the input data (\"frequency\"), the \"uncertainty\" of those frequencies, and lists them in ascending order with the strongest intensities (\"intensity\") at the top.  Additionally, for each frequency, there is an associated \"closest\" frequency from the input data.  If the absolute value of the closest frequency minus the downloaded frequency is less than or equal to the downloaded uncertainty, the column \"acceptable\" is True.  The \"flux\" for the \"closest\" frequency is also listed.  And in the last column, if there was a \"spike\" at that frequency, that is, a flux exceeding the 3$\\sigma$ threshold, the \"spike\" column returns true.\n",
    "\n",
    "You can view the dataframe for any of the molecules by selecting it from the combobox below."
   ]
  },
  {
   "cell_type": "code",
   "execution_count": 17,
   "metadata": {
    "ExecuteTime": {
     "end_time": "2020-02-17T03:57:33.626188Z",
     "start_time": "2020-02-17T03:57:33.469188Z"
    },
    "scrolled": false
   },
   "outputs": [
    {
     "data": {
      "application/vnd.jupyter.widget-view+json": {
       "model_id": "9857fe0e906a4c26a8080535b66d7dde",
       "version_major": 2,
       "version_minor": 0
      },
      "text/plain": [
       "interactive(children=(Dropdown(description='Molecule:', options=('Bromine Dioxide', 'Vinylamine', \"1,2-propane…"
      ]
     },
     "metadata": {},
     "output_type": "display_data"
    }
   ],
   "source": [
    "see_spectral_complete = True\n",
    "\n",
    "if see_spectral_complete:\n",
    "    # Make a dropdown widget with each molecule name as an option\n",
    "    spectral_complete_dropdown = widgets.Dropdown(\n",
    "        options = spectral_complete.keys(),\n",
    "        description = 'Molecule:',\n",
    "        disabled = False,\n",
    "        )\n",
    "\n",
    "    # Define a function that displays the dataframe for the chosen molecule\n",
    "    def show_spectral_complete(molecule = list(spectral_complete.keys())[0]):\n",
    "        molecule = spectral_complete_dropdown.value\n",
    "        display(spectral_complete[molecule])\n",
    "        print(\"Number of spikes:\", spectral_complete[molecule][\"spike\"].sum())\n",
    "        display(spectral_complete[molecule][spectral_complete[molecule][\"spike\"] == True])\n",
    "\n",
    "    # Make the widget interactive by having it call show_data every time the value changes\n",
    "    widgets.interact(show_spectral_complete, molecule = spectral_complete_dropdown)"
   ]
  },
  {
   "cell_type": "markdown",
   "metadata": {},
   "source": [
    "## Set Cover Method\n",
    "\n",
    "The solution to the question, \"What are the most likely molecules that produce the signature we see in the data?\" can be answered by approaching the problem as a Weighted Set Cover problem.  The general overview is outlined below:\n",
    "\n",
    "- The set of all frequencies with fluxes greater than 3 sigma will be called the **\"Universe.\"** \n",
    "- Each possible molecule may have some spikes at a few of the frequencies in the **Universe**.  So all the frequencies with a spike will constitute the **\"Set\"** for that molecule.\n",
    "- Each **Set** also has an associated **\"Weight\"** which is a metric of how much of the **Universe** is being captured by that **Set**.\n",
    "- A **\"Cover\"** is a collection of **Sets** whose union is the **Universe**.  That is, there is a combination of molecules that will reproduce all of the 3 sigma spikes that we see in the input data.\n",
    "- There may be (and will be) multiple **Covers** that can reproduce the **Universe**.  Each **Cover** will have an associated **Total Weight** which will be the sum of the **Weights** of the **Sets** that make up the **Cover**.\n",
    "\n",
    "Our job is to find the most probable **Covers** that can be formed from the fewest number of possible molecules.  It is computationally impossible to find every cover.  The total number of possible **Covers** from just the molecules with at least one known 3$\\sigma$ spike is ~1.18e+59."
   ]
  },
  {
   "cell_type": "markdown",
   "metadata": {},
   "source": [
    "### Functions"
   ]
  },
  {
   "cell_type": "markdown",
   "metadata": {},
   "source": [
    "#### mandatory_molecules(molecule_dict):\n",
    "\n",
    "This function will take the dictionary containing the tuples of name, weight, and set frequencies for each molecule and determine which of those _must_ be included in _any_ set cover.  It accomplishes this by examining if there are any frequencies that appear at most once in the entire dataset.  If so, then we know that molecule _must_ be included since there are no others that produce that frequency spike."
   ]
  },
  {
   "cell_type": "code",
   "execution_count": 18,
   "metadata": {
    "ExecuteTime": {
     "end_time": "2020-02-17T03:57:33.641188Z",
     "start_time": "2020-02-17T03:57:33.629189Z"
    }
   },
   "outputs": [],
   "source": [
    "def mandatory_molecules(molecule_dict):\n",
    "    cover_molecules = []  # Contains the tuples of included molecules (name, weight, set)\n",
    "    cover_freqs = set()   # Contains all frequencies covered so far\n",
    "    included = []         # Contains just the names of all included molecules\n",
    "    complete_set = Counter([x for y in list(molecule_dict.values()) for x in y[2]])  # Count of all frequencies\n",
    "    # Iterate through each molecule and check if it is the SOLE contributor for a frequency with just 1 count\n",
    "    for molecule in molecule_dict.keys():\n",
    "        if any(molecule_freqs == complete_set_freqs\n",
    "          for molecule_freqs in Counter(molecule_dict[molecule][2]).items() if molecule_freqs[1] == 1\n",
    "          for complete_set_freqs in complete_set.items() if complete_set_freqs[1] == 1):\n",
    "            included.append(molecule)  # If so, add it to the list of included molecules\n",
    "            cover_freqs = cover_freqs | molecule_dict[molecule][2]  # Add all frequencies it has to the set\n",
    "            cover_molecules.append(molecule_dict[molecule])  # And add the tuple to the list of mandatory molecules\n",
    "    return included, cover_freqs, cover_molecules"
   ]
  },
  {
   "cell_type": "markdown",
   "metadata": {},
   "source": [
    "#### smallest_cover(data_matrix, molecule_dict)\n",
    "\n",
    "This function takes the `data_matrix` and `molecule_dict` as inputs, and operates on the idea that each frequency spike in the data has a molecule that contributes the most to it.  By constructing a cover from the molecules that contribute the most to each spike, we essentially are creating the most probable cover.\n",
    "\n",
    "`cover_molecules` is the list of tuples that will make up the cover.  Initially it's empty, but gets populated with the tuples contained in `molecule_dict`.  `cover_freqs` is the set of all frequency spikes covered thus far.  It too is initialized as an empty set since nothing has been added yet.  Another empty list, `included`, is created to hold the names of every molecule that is included in the set cover.  Finally, a copy of `data_matrix` is in order since changes will be made to it that we do not want made in `data_matrix`.\n",
    "\n",
    "As long as `cover_freq`s doesn't span `universe`, the function continues.  It finds the row (molecule name) and column (frequency) of the spike with the highest weight and appends its tuple from `molecule_dict` if the molecule is not already included in the list of `cover_included`.  If it is not already included, the molecule tuple is added to `cover_molecules` and the entry in `cover_matrix` at the molecule row and frequency column is set to 0.  This step is included to ensure that subsequent iterations of the while loop do not get stuck on the same value."
   ]
  },
  {
   "cell_type": "code",
   "execution_count": 19,
   "metadata": {
    "ExecuteTime": {
     "end_time": "2020-02-17T03:57:33.753188Z",
     "start_time": "2020-02-17T03:57:33.644189Z"
    }
   },
   "outputs": [],
   "source": [
    "def smallest_cover(matrix, molecule_dict):\n",
    "    cover_matrix = matrix.copy()\n",
    "    # Initialize the cover with all molecules with unique signatures in the data\n",
    "    base_included, base_freqs, base_molecules = mandatory_molecules(molecule_dict)\n",
    "    # Copy the base variables so we can expand them to the full cover\n",
    "    cover_included = base_included.copy()\n",
    "    cover_freqs = base_freqs.copy()\n",
    "    cover_molecules = base_molecules.copy()\n",
    "    # Keep iterating until we have a valid cover\n",
    "    while cover_freqs != universe:\n",
    "        # Find the row and column where the maximum occurs in the data matrix\n",
    "        column_name = cover_matrix.max().idxmax()\n",
    "        row_name = cover_matrix[column_name].idxmax()\n",
    "        # Get the name of the molecule and the set of frequencies belonging to it\n",
    "        molecule_name = molecule_dict[row_name][0]\n",
    "        molecule_set = molecule_dict[row_name][2]\n",
    "        # and bool(molecule_set - cover_freqs)\n",
    "        if molecule_name not in cover_included:\n",
    "            cover_included.append(molecule_name)\n",
    "            cover_freqs = cover_freqs | molecule_set\n",
    "            cover_molecules.append(molecule_dict[molecule_name])\n",
    "        cover_matrix.loc[row_name, column_name] = 0\n",
    "    return base_included, base_freqs, base_molecules, cover_included, cover_freqs, cover_molecules"
   ]
  },
  {
   "cell_type": "markdown",
   "metadata": {},
   "source": [
    "#### refine_cover(not_included, data_matrix, molecule_dict, mandatory_molecules)\n",
    "\n",
    "It may be the case that some molecules are known **not** to exist in the atmosphere, but was identified as probable by the set cover.  This function takes the name of a molecule to be excluded and manipulates the data to account for its removal.  If the molecule being removed is not among the mandatory molecules (those included in *any* cover), then the molecule is dropped from the data_matrix dataframe and removed from the molecule_dict dictionary.  The `smallest_cover` function is then re-run without this molecule present in the data anymore, and a new cover is discovered that excludes it.\n",
    "\n",
    "If however, the molecule being removed **is** part of the mandatory molecules, then there are some additional steps to include.  Since the molecule was mandatory, that means that at least one of its spikes was the _only_ source for that 3$\\sigma$ event.  Therefore we must assign that molecules spikes to the \"Unknown\" category.  Then, molecule_dict must be updated to reflect the new changes to \"Unknown\".  Once this is complete, the molecule is removed as described above and `smallest_cover` is run again to find a new cover."
   ]
  },
  {
   "cell_type": "code",
   "execution_count": 20,
   "metadata": {
    "ExecuteTime": {
     "end_time": "2020-02-17T03:57:33.872189Z",
     "start_time": "2020-02-17T03:57:33.755189Z"
    }
   },
   "outputs": [],
   "source": [
    "def refine_cover(not_included, data_matrix, molecule_dict, mandatory_molecules):\n",
    "    # Check if the molecule to be removed is in the list of mandatory molecules\n",
    "    if not_included in mandatory_molecules:\n",
    "        # If it is, this means we're about to remove a molecule that is the only source for a particular spike\n",
    "        # Therefore, some unknown molecule must be the source of the signature.  Add that molecule's weights\n",
    "        # to Unknown\n",
    "        cols = data_matrix.columns[data_matrix.loc[not_included] > 0]\n",
    "        data_matrix.loc[\"Unknown\", cols] = data_matrix.loc[not_included, cols]\n",
    "        data_matrix.loc[not_included, cols] = 0\n",
    "        molecule_dict[\"Unknown\"] = (\"Unknown\", \n",
    "                                    data_matrix.loc[\"Unknown\"].sum(),\n",
    "                                    set(data_matrix.columns[data_matrix.loc[\"Unknown\"] > 0]))\n",
    "    # Delete the entire row from cover_matrix and remove the molecule from molecule_dict\n",
    "    data_matrix = data_matrix.drop(not_included)\n",
    "    del molecule_dict[not_included]\n",
    "    # Run the smallest cover function on the new information\n",
    "    return smallest_cover(data_matrix, molecule_dict)"
   ]
  },
  {
   "cell_type": "markdown",
   "metadata": {},
   "source": [
    "### Run Analysis"
   ]
  },
  {
   "cell_type": "code",
   "execution_count": 21,
   "metadata": {
    "ExecuteTime": {
     "end_time": "2020-02-17T03:57:34.368259Z",
     "start_time": "2020-02-17T03:57:33.874189Z"
    }
   },
   "outputs": [],
   "source": [
    "# Define the universe.  This is the set of all 3 sigma spikes\n",
    "universe = set(data_matrix.columns)\n",
    "# Make a list containing a tuple for each molecule with its name, weight, and set of 3 sigma frequencies\n",
    "molecule_sets = [(x, \n",
    "                  data_matrix.loc[x].sum(),\n",
    "                  set(data_matrix.columns[data_matrix.loc[x] > 0])\n",
    "                 ) for x in list(data_matrix.index)]\n",
    "# Restrict the above molecules to only those with spikes\n",
    "molecule_sets = [entry for entry in molecule_sets if (bool(entry[2]) and entry[2] <= universe)]\n",
    "# Make a dictionary of molecule_sets for ease of access\n",
    "molecule_dict = {entry[0]: entry for entry in molecule_sets}\n",
    "\n",
    "# Find the best cover from the possible molecules\n",
    "base_included, base_freqs, base_molecules, cover_included, cover_freqs, cover_molecules = smallest_cover(\n",
    "    data_matrix, molecule_dict)"
   ]
  },
  {
   "cell_type": "markdown",
   "metadata": {},
   "source": [
    "## Refine the Cover\n",
    "\n",
    "The Set Cover Method above finds the most probable set of molecules that match the signature of the data.  It is possible though that among the probable molecules exist some that are known **not** to exist in the atmosphere.  In this scenario, we must remove these molecules one-by-one until a solution is found that is acceptable by the domain experts."
   ]
  },
  {
   "cell_type": "code",
   "execution_count": 22,
   "metadata": {
    "ExecuteTime": {
     "end_time": "2020-02-17T03:57:34.425189Z",
     "start_time": "2020-02-17T03:57:34.370189Z"
    },
    "scrolled": true
   },
   "outputs": [
    {
     "data": {
      "application/vnd.jupyter.widget-view+json": {
       "model_id": "e2130bc2676246eb89f19fb1fb7066d2",
       "version_major": 2,
       "version_minor": 0
      },
      "text/plain": [
       "Combobox(value='', description='Molecule:', options=('None', 'Bromine Dioxide', 'Methyl Formate', 'Butyronitri…"
      ]
     },
     "metadata": {},
     "output_type": "display_data"
    },
    {
     "data": {
      "application/vnd.jupyter.widget-view+json": {
       "model_id": "efc9297a186b4e548b3d883003c00730",
       "version_major": 2,
       "version_minor": 0
      },
      "text/plain": [
       "Button(description='Remove', disabled=True, icon='None', style=ButtonStyle(), tooltip='Click me')"
      ]
     },
     "metadata": {},
     "output_type": "display_data"
    }
   ],
   "source": [
    "molecule_to_remove = widgets.Combobox(\n",
    "    placeholder = \"Select a molecule to exclude\",\n",
    "    options = ['None'] + cover_included,\n",
    "    description = 'Molecule:',\n",
    "    ensure_option = False,\n",
    "    disabled = False,\n",
    ")\n",
    "confirm_button = widgets.Button(\n",
    "    description = 'Remove',\n",
    "    disabled = True,\n",
    "    button_style = '', # 'success', 'info', 'warning', 'danger' or ''\n",
    "    tooltip = 'Click me',\n",
    "    icon = 'None'\n",
    ")\n",
    "\n",
    "def get_cover(self):\n",
    "    get_cover.removed = True\n",
    "    get_cover.b_inc = []\n",
    "    get_cover.b_frq = {}\n",
    "    get_cover.b_mol = []\n",
    "    get_cover.c_inc = []\n",
    "    get_cover.c_frq = {}\n",
    "    get_cover.c_mol = []\n",
    "    print(\"Removing\", molecule_to_remove.value + \"...\")\n",
    "    get_cover.b_inc, get_cover.b_frq, get_cover.b_mol, get_cover.c_inc, get_cover.c_frq, get_cover.c_mol = refine_cover(\n",
    "        molecule_to_remove.value, data_matrix, molecule_dict, base_included)\n",
    "    print(\"Done.  New set cover available.\")\n",
    "    return get_cover.removed, get_cover.b_inc, get_cover.b_frq, get_cover.b_mol, get_cover.c_inc, get_cover.c_frq, get_cover.c_mol\n",
    "    \n",
    "def show_cover_molecules(molecule = list(['None'] + cover_included)):\n",
    "    molecule = molecule_to_remove.value\n",
    "    if molecule_to_remove.value in cover_included: \n",
    "        confirm_button.disabled = False \n",
    "    else:\n",
    "        confirm_button.disabled = True\n",
    "    return molecule\n",
    "\n",
    "# Make the widget interactive by having it call show_data every time the value changes\n",
    "confirm_button.on_click(get_cover)\n",
    "widgets.interactive(show_cover_molecules, molecule = molecule_to_remove)\n",
    "display(molecule_to_remove, confirm_button)"
   ]
  },
  {
   "cell_type": "code",
   "execution_count": 23,
   "metadata": {
    "ExecuteTime": {
     "end_time": "2020-02-17T03:57:34.496190Z",
     "start_time": "2020-02-17T03:57:34.431188Z"
    },
    "scrolled": true
   },
   "outputs": [
    {
     "name": "stdout",
     "output_type": "stream",
     "text": [
      "No molecules have been removed.\n"
     ]
    }
   ],
   "source": [
    "try:\n",
    "    if get_cover.removed:\n",
    "        base_inlcuded = get_cover.b_inc\n",
    "        base_freqs = get_cover.b_frq\n",
    "        base_molecules = get_cover.b_mol\n",
    "        cover_included = get_cover.c_inc\n",
    "        cover_freqs = get_cover.c_frq\n",
    "        cover_molecules = get_cover.c_mol\n",
    "        get_cover.removed = False\n",
    "        print(\"New cover successfully implemented.\")\n",
    "except:\n",
    "    print(\"No molecules have been removed.\")"
   ]
  },
  {
   "cell_type": "markdown",
   "metadata": {},
   "source": [
    "Run the last 2 cells as needed for each molecule to be removed."
   ]
  },
  {
   "cell_type": "markdown",
   "metadata": {},
   "source": [
    "## Crop the Cover\n",
    "\n",
    "Once all of the molecules that are known to not exist in the atmosphere are manually removed, we can crop the entries in the resulting cover to only include those that meet a likelihood threshold.  This threshold will be specified by user input and the selection criteria will be determined for each molecule by the following equation:\n",
    "<font size=\"5\">\n",
    "\\begin{equation*}\n",
    "F_{molecule} = \\sum_{j=1}^n \\left\\{\n",
    "  \\begin{array}{cl}\n",
    "  \\frac{10^{I_j}}{\\sum_{k=1}^n 10^{I_k}} & spike_j = True \\\\\n",
    "  0 & spike_j = False \\\\\n",
    "  \\end{array}\n",
    "  \\right.\n",
    "\\end{equation*}\n",
    "</font>\n",
    "\n",
    "Where $F_{molecule}$ is the fraction of intensities present for the given molecule, _n_ is the number of emission lines in the range of the input data for a given molecule, $I_j$ and $I_k$ are the CDMS or JPL intensity for the _jth_ and _kth_ entry, and $spike_j$ is the boolean value of whether or not a spike is present in the _jth_ emission line.  This selection criteria does not account for the value of the flux where a spike is present.  Therefore, two entries with identical intensities will carry the same weight regardless of the flux as long as it meets the 3$\\sigma$ threshold.  An alternative to the above equation that does account for flux is identified here:\n",
    "\n",
    "<font size=\"5\">\n",
    "\\begin{equation*}\n",
    "F_{molecule} = \\sum_{j=1}^n \\sqrt{\\left( \\frac{10^{I_j}}{\\sum_{k=1}^n 10^{I_k}} - \n",
    "    \\frac{\\phi_j}{\\sum_{k=1}^n \\phi_k} \\right)^2}\n",
    "\\end{equation*}\n",
    "</font>\n",
    "\n",
    "Where $F_{molecule}$, _n_, $I_j$, $I_k$, _i_ and _j_ are defined as before, with the addition of the flux of the _jth_ and _kth_ entry, $\\phi_j$ and $\\phi_k$, respectively. Functionally, it is the square root of the difference of proportions between intensity and flux, squared.  In this form, a molecule is selected if $F_{molecule}$ is less than or equal to the specified threshold.  This metric accounts for flux, but ignores whether or not the flux was detected at or above the 3$\\sigma$ threshold.  While this may lead to the detection of weaker signals found below 3$\\sigma$, it may also introduce molecules that are actually noise.  We leave it to the domain experts to decide which metric works best."
   ]
  },
  {
   "cell_type": "code",
   "execution_count": 24,
   "metadata": {
    "ExecuteTime": {
     "end_time": "2020-02-17T03:57:34.622188Z",
     "start_time": "2020-02-17T03:57:34.499189Z"
    }
   },
   "outputs": [],
   "source": [
    "def crop_cover(cover_molecules, complete_data = None, metric = \"intensity\", threshold = .9):\n",
    "    \"\"\"This function will iterate through each molecule in the complete cover and select from it only those\n",
    "    molecules that meet the threshold criteria for the specified metric.  Valid values for metric are 'intensity',\n",
    "    and 'flux'.  \n",
    "    \n",
    "    With the 'intensity' metric, the fraction of the inverse log of intensity over the sum of\n",
    "    the inverse log of all intensities is summed together wherever a spike is present.  The result represents\n",
    "    the proportion of the expected intensities accounted for by each spike.  As long as this proportion\n",
    "    exceeds the specified threshold, the molecule is included.  A threshold of 0.8 or greater works well with\n",
    "    this metric.\n",
    "    \n",
    "    With the 'flux' metric, the normalized square root of the sum of squares of the difference between the\n",
    "    proportion of accounted intensity and the proportion of accounted flux is calculated for each frequency\n",
    "    found in the data.  A moleclue is included if the result is less than the specified threshold.  A\n",
    "    threshold of 1 works well with this metric.\"\"\"\n",
    "    \n",
    "    # Read in spectral_complete\n",
    "    if complete_data == None:\n",
    "        try:\n",
    "            with open(path + '/spectral_complete.pkl', 'rb') as file:\n",
    "                complete_data = pickle.load(file)\n",
    "            complete_data = {key: pd.DataFrame.from_dict(value).astype({\"frequency\": np.float64, \n",
    "                                                                        \"uncertainty\": np.float64,\n",
    "                                                                        \"intensity\": np.float64,\n",
    "                                                                        \"closest\": np.float64,\n",
    "                                                                        \"flux\": np.float64,\n",
    "                                                                        \"spike\": bool}) for key, value in spectral_complete.items()}\n",
    "        except:\n",
    "            print(\"Unable to load in complete_data (spectral_complete).\")\n",
    "            print(\"Please check if it exists in the directory: \", path)\n",
    "            return\n",
    "        \n",
    "    probable_molecules = {}  # Dictionary to store the results\n",
    "    \n",
    "    # Iterate through all included molecules\n",
    "    for molecule in cover_molecules:\n",
    "        # Calculate the sum of the inverse log of all emission lines\n",
    "        I = sum(np.array(10 ** complete_data[molecule][\"intensity\"]))\n",
    "        # Calculate the sum of all fluxes from emission lines\n",
    "        Phi = sum(np.array(complete_data[molecule][\"flux\"]))\n",
    "        \n",
    "        if metric == \"intensity\":\n",
    "            # Calculate the fraction of expected intensities present\n",
    "            F = sum(\n",
    "                np.array(10 ** complete_data[molecule][complete_data[molecule][\"spike\"] == True][\"intensity\"]) / I)\n",
    "            # Determine if F >= threshold\n",
    "            if F >= threshold:\n",
    "                probable_molecules[molecule] = F\n",
    "\n",
    "        if metric == \"flux\":\n",
    "            # Calculate the difference of proportions between flux and intensity\n",
    "            F = sum(\n",
    "                    (\n",
    "                        (\n",
    "                            np.array(10 ** complete_data[molecule][\"intensity\"] / I) - \n",
    "                            np.array(complete_data[molecule][\"flux\"] / Phi)\n",
    "                        )**2)**.5)# / len(complete_data[molecule])\n",
    "            # Determine if F >= threshold\n",
    "            if F <= threshold:\n",
    "                probable_molecules[molecule] = F\n",
    "            # Always include \"Unknown\" whether or not it meets the criteria\n",
    "            if molecule == \"Unknown\":\n",
    "                probable_molecules[molecule] = F\n",
    "        \n",
    "    return probable_molecules"
   ]
  },
  {
   "cell_type": "code",
   "execution_count": 25,
   "metadata": {
    "ExecuteTime": {
     "end_time": "2020-02-17T03:57:35.028284Z",
     "start_time": "2020-02-17T03:57:34.624190Z"
    }
   },
   "outputs": [],
   "source": [
    "intensity_results = crop_cover(cover_included, spectral_complete, metric = \"intensity\", threshold = .7)\n",
    "flux_results = crop_cover(cover_included, spectral_complete, metric = \"flux\", threshold = 1)"
   ]
  },
  {
   "cell_type": "markdown",
   "metadata": {},
   "source": [
    "# Results\n",
    "\n",
    "The most probable cover has been identified, and molecules known to not be present have been removed.  The resulting cover has been passed through an activation function where only the most probably molecules are left.  Whether the selection criteria was based on \"intensity\" or based on \"flux,\" it is important to note that the \"Unknown\" molecule is included regardless.  This could be a single molecule, but more  likely a combination of several for which data just isn't available yet.\n",
    "\n",
    "The results from both evaluation metrics are shown below."
   ]
  },
  {
   "cell_type": "markdown",
   "metadata": {},
   "source": [
    "## View Included Molecules in the Cover\n",
    "\n",
    "Below is a list of the mandatory and most probable molecules that complete the cover."
   ]
  },
  {
   "cell_type": "code",
   "execution_count": 26,
   "metadata": {
    "ExecuteTime": {
     "end_time": "2020-02-17T03:57:35.038285Z",
     "start_time": "2020-02-17T03:57:35.030284Z"
    },
    "scrolled": false
   },
   "outputs": [
    {
     "name": "stdout",
     "output_type": "stream",
     "text": [
      "Mandatory molecules: (34)\n",
      "\n",
      "&alpha;-Alanine\n",
      "1,2-propanediol, aG'g\n",
      "1,3-propanediol, gGG'g\n",
      "2-Cyanobutane\n",
      "3-Methylbutyronitrile\n",
      "<i>cyclo</i>-Propyl cyanide\n",
      "<i>n</i>-Propanol\n",
      "Aminoethanol\n",
      "Anisole\n",
      "Benzaldehyde\n",
      "Benzonitrile\n",
      "Bromine Dioxide\n",
      "Butyronitrile\n",
      "Carbonyl cyanide\n",
      "Chlorine nitrate\n",
      "Diethyl ether\n",
      "Diketene\n",
      "Ethyl Cyanide\n",
      "Ethyl cyanide\n",
      "Formyl Chloride\n",
      "Hydroxyacetone\n",
      "Methanol\n",
      "Methyl Carbamate\n",
      "Methyl Formate\n",
      "Methyl chloride\n",
      "Monothioformic acid\n",
      "Nitric acid\n",
      "Peroxynitric acid\n",
      "Peroxynitrous acid\n",
      "Phenol\n",
      "Propane\n",
      "Propargyl Alcohol\n",
      "Unknown\n",
      "gauche-n-butyronitrile, v<sub>29</sub> = 1\n",
      "\n",
      "Probable molecules: (52)\n",
      "\n",
      "1,2-propanediol, g'G'g\n",
      "1,2-propanediol, gG'a\n",
      "1,3-Butadiynyl radical\n",
      "2-Propynal\n",
      "<i>anti</i>-Ethanol\n",
      "Acetaldehyde\n",
      "Aminoacetonitrile\n",
      "Chlorine dioxide\n",
      "Cyanoacetylene\n",
      "Cyanobutadiyne\n",
      "Cyanobutadiynylide anion\n",
      "Cyanoethenone\n",
      "Cyanopropynyl\n",
      "Cyclopropenylidene\n",
      "Difluoromethane\n",
      "Dihydroxyacetone\n",
      "Disulfurmonoxide\n",
      "Ethanethiol, anti\n",
      "Ethanol, gauche/anti combined\n",
      "Ethyl cyanide, v<sub>12</sub> = 1\n",
      "Ethylene Glycol\n",
      "Formaldehyde\n",
      "Formamide\n",
      "Glycine\n",
      "Glycolaldehyde\n",
      "Hexatriynylformyl\n",
      "Hydrogen peroxide\n",
      "Hydroxyacetonitrile\n",
      "Magnesium Cyanide\n",
      "Methyl Acetylene\n",
      "Methyl Cyanide\n",
      "Methyl cyanate\n",
      "Methyl formate, v<sub>t</sub> = 0, 1\n",
      "Methyleneaminoacetonitrile\n",
      "Potassium chloride\n",
      "Propadienonethione\n",
      "Propadienylidene\n",
      "Propenoic acid\n",
      "Propynylidyne\n",
      "Pyrrole\n",
      "Sodium monoxide\n",
      "Sulfur Dioxide\n",
      "Sulfuric acid\n",
      "Thioheptahexaenylidene\n",
      "Vinyl Cyanide\n",
      "Vinylamine\n",
      "gauche-Ethanol\n",
      "iso-propyl cyanide\n",
      "n-Butyl cyanide\n",
      "n-Butyronitrile, gauche/anti combined\n",
      "o-Benzyne\n",
      "trans-Ethanol\n"
     ]
    }
   ],
   "source": [
    "print(\"Mandatory molecules: (\" + str(len(base_included)) + \")\\n\\n\"  + \"\\n\".join(sorted(base_included)))\n",
    "other_names = [x[0] for x in cover_molecules if x not in base_molecules]\n",
    "print(\"\\nProbable molecules: (\" + str(len(other_names)) + \")\\n\\n\" + \"\\n\".join(sorted(other_names)))"
   ]
  },
  {
   "cell_type": "markdown",
   "metadata": {},
   "source": [
    "## View Results of \"Intensity\" Metric"
   ]
  },
  {
   "cell_type": "code",
   "execution_count": 27,
   "metadata": {
    "ExecuteTime": {
     "end_time": "2020-02-17T03:57:35.173284Z",
     "start_time": "2020-02-17T03:57:35.041283Z"
    },
    "scrolled": false
   },
   "outputs": [
    {
     "name": "stdout",
     "output_type": "stream",
     "text": [
      "                    Weight\n",
      "Unknown           1.000000\n",
      "Cyanoacetylene    1.000000\n",
      "Methyl Cyanide    0.999961\n",
      "Ethyl Cyanide     0.817057\n",
      "Methyl Acetylene  0.816941\n",
      "Formaldehyde      0.745386\n"
     ]
    }
   ],
   "source": [
    "print(pd.DataFrame.from_dict(intensity_results,\n",
    "                             orient = \"index\",\n",
    "                             columns = [\"Weight\"]).sort_values(by = \"Weight\", ascending = False))"
   ]
  },
  {
   "cell_type": "markdown",
   "metadata": {},
   "source": [
    "## View Results of \"Flux\" Metric"
   ]
  },
  {
   "cell_type": "code",
   "execution_count": 28,
   "metadata": {
    "ExecuteTime": {
     "end_time": "2020-02-17T03:57:35.300557Z",
     "start_time": "2020-02-17T03:57:35.176285Z"
    }
   },
   "outputs": [
    {
     "name": "stdout",
     "output_type": "stream",
     "text": [
      "                            Weight\n",
      "Cyanoacetylene            0.000000\n",
      "Unknown                   0.253943\n",
      "Methyl Acetylene          0.273384\n",
      "Cyanobutadiyne            0.443561\n",
      "Formaldehyde              0.509227\n",
      "Propadienonethione        0.649912\n",
      "1,3-Butadiynyl radical    0.718551\n",
      "Ethyl Cyanide             0.743011\n",
      "Magnesium Cyanide         0.783229\n",
      "Cyanobutadiynylide anion  0.803019\n"
     ]
    }
   ],
   "source": [
    "print(pd.DataFrame.from_dict(flux_results, \n",
    "                             orient = \"index\", \n",
    "                             columns = [\"Weight\"]).sort_values(by = \"Weight\"))"
   ]
  },
  {
   "cell_type": "markdown",
   "metadata": {},
   "source": [
    "## View Molecule Signatures (Obsolete)\n",
    "\n",
    "Here we can see every included molecule, and how it contributes to the overall signature of the input data."
   ]
  },
  {
   "cell_type": "code",
   "execution_count": 29,
   "metadata": {
    "ExecuteTime": {
     "end_time": "2020-02-17T03:57:35.421557Z",
     "start_time": "2020-02-17T03:57:35.303557Z"
    }
   },
   "outputs": [],
   "source": [
    "def create_moch_data(data):\n",
    "    \"\"\" Plot of all spikes that is updated by selected molecules \"\"\"\n",
    "    moch_data = []\n",
    "    for dataset in data:\n",
    "        moch_dataset = dataset.copy()\n",
    "        moch_dataset[np.where( dataset[:, 1] >= 5 * np.std(dataset[:, 1])), 1] = 0\n",
    "        channel_spacing = dataset[1][0] - dataset[0][0]\n",
    "        moch_dataset[np.where( dataset[:, 1] < 3 * np.std(moch_dataset[:, 1])), 1] =  0\n",
    "        moch_dataset[np.where( dataset[:, 1] >= 5 * np.std(dataset[:, 1])), 1] = dataset[\n",
    "            np.where( dataset[:, 1] >= 5 * np.std(dataset[:, 1])), 1]\n",
    "        moch_data.append(moch_dataset)\n",
    "    return moch_data"
   ]
  },
  {
   "cell_type": "code",
   "execution_count": 101,
   "metadata": {
    "ExecuteTime": {
     "end_time": "2020-02-17T05:08:49.216012Z",
     "start_time": "2020-02-17T05:08:49.196091Z"
    }
   },
   "outputs": [],
   "source": [
    "def overlay_plot(results, axs):\n",
    "    axs = axs.flat\n",
    "    \n",
    "    # Set the plot background color to black\n",
    "    for ax in axs:\n",
    "        ax.set_facecolor(\"k\")\n",
    "        \n",
    "    # Highlight the spikes for each identified molecule\n",
    "    for molecule in results:\n",
    "        # Iterate through each entry and see if there was a spike\n",
    "        for i in range(1, len(spectral_complete[molecule])):\n",
    "            if spectral_complete[molecule][\"spike\"][i]:\n",
    "                # If so, find which plot to highlight\n",
    "                x = spectral_complete[molecule][\"closest\"][i]/1000\n",
    "                y = spectral_complete[molecule][\"flux\"][i]\n",
    "                if x >= axs[0].get_xlim()[0] and x < axs[0].get_xlim()[1]:\n",
    "                    # Plot 1\n",
    "                    axs[0].plot([x, x], [0, y], color = \"red\", linewidth = 0.25)\n",
    "                elif x >= axs[1].get_xlim()[0] and x < axs[1].get_xlim()[1]:\n",
    "                    # Plot 2\n",
    "                    axs[1].plot([x, x], [0, y], color = \"red\", linewidth = 0.25)\n",
    "                elif x >= axs[2].get_xlim()[0] and x < axs[2].get_xlim()[1]:\n",
    "                    # Plot 3\n",
    "                    axs[2].plot([x, x], [0, y], color = \"red\", linewidth = 0.25)\n",
    "                elif x >= axs[3].get_xlim()[0] and x <= axs[3].get_xlim()[1]:\n",
    "                    # Plot 4\n",
    "                    axs[3].plot([x, x], [0, y], color = \"red\", linewidth = 0.25)\n",
    "                else:\n",
    "                    # Don't plot\n",
    "                    print(\"Could not plot\", molecule, spectral_complete[molecule][\"closest\"][i]/1000)"
   ]
  },
  {
   "cell_type": "code",
   "execution_count": 103,
   "metadata": {
    "ExecuteTime": {
     "end_time": "2020-02-17T05:09:04.693374Z",
     "start_time": "2020-02-17T05:09:03.964373Z"
    },
    "scrolled": false
   },
   "outputs": [
    {
     "data": {
      "image/png": "[encoded data removed]",
      "text/plain": [
       "<Figure size 1080x648 with 4 Axes>"
      ]
     },
     "metadata": {
      "needs_background": "light"
     },
     "output_type": "display_data"
    }
   ],
   "source": [
    "moch_data = create_moch_data(data)\n",
    "fig, axs = create_plot(moch_data)\n",
    "axs = axs.flat\n",
    "for ax in axs:\n",
    "        ax.set_facecolor(\"k\")"
   ]
  },
  {
   "cell_type": "code",
   "execution_count": 104,
   "metadata": {
    "ExecuteTime": {
     "end_time": "2020-02-17T05:09:10.254152Z",
     "start_time": "2020-02-17T05:09:09.226147Z"
    }
   },
   "outputs": [
    {
     "data": {
      "image/png": "[encoded data removed]",
      "text/plain": [
       "<Figure size 1080x648 with 4 Axes>"
      ]
     },
     "metadata": {
      "needs_background": "light"
     },
     "output_type": "display_data"
    }
   ],
   "source": [
    "fig, axs = create_plot(moch_data)\n",
    "overlay_plot(intensity_results.keys(), axs)"
   ]
  },
  {
   "cell_type": "code",
   "execution_count": 105,
   "metadata": {
    "ExecuteTime": {
     "end_time": "2020-02-17T05:09:13.271145Z",
     "start_time": "2020-02-17T05:09:12.379145Z"
    }
   },
   "outputs": [
    {
     "data": {
      "image/png": "[encoded data removed]",
      "text/plain": [
       "<Figure size 1080x648 with 4 Axes>"
      ]
     },
     "metadata": {
      "needs_background": "light"
     },
     "output_type": "display_data"
    }
   ],
   "source": [
    "fig, axs = create_plot(moch_data)\n",
    "overlay_plot(flux_results.keys(), axs)"
   ]
  },
  {
   "cell_type": "code",
   "execution_count": null,
   "metadata": {},
   "outputs": [],
   "source": []
  }
 ],
 "metadata": {
  "kernelspec": {
   "display_name": "Python 3",
   "language": "python",
   "name": "python3"
  },
  "language_info": {
   "codemirror_mode": {
    "name": "ipython",
    "version": 3
   },
   "file_extension": ".py",
   "mimetype": "text/x-python",
   "name": "python",
   "nbconvert_exporter": "python",
   "pygments_lexer": "ipython3",
   "version": "3.7.2"
  },
  "toc": {
   "base_numbering": 1,
   "nav_menu": {},
   "number_sections": true,
   "sideBar": true,
   "skip_h1_title": false,
   "title_cell": "Table of Contents",
   "title_sidebar": "Contents",
   "toc_cell": false,
   "toc_position": {
    "height": "calc(100% - 180px)",
    "left": "10px",
    "top": "150px",
    "width": "205px"
   },
   "toc_section_display": true,
   "toc_window_display": true
  }
 },
 "nbformat": 4,
 "nbformat_minor": 2
}
